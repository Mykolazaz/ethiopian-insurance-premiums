{
 "cells": [
  {
   "cell_type": "markdown",
   "id": "a91689d1",
   "metadata": {},
   "source": [
    "# Predicting Ethiopian Vehicle Insurance Premiums\n",
    "\n",
    "- The goal of this project is to clean, analyse and predict vehicle insurance premiums of the state-owned Ethiopian Insurance Corporation (one of the biggest insurance companies in Ethiopia).\n",
    "- The dataset we'll use describes vehicles, their insurance premiums and other insurance related atributes from July 2011 to June 2018. It can be found on [Mendeley Data](https://data.mendeley.com/datasets/34nfrk36dt/1).\n",
    "\n"
   ]
  },
  {
   "cell_type": "code",
   "execution_count": 1,
   "id": "dec7bdf4",
   "metadata": {},
   "outputs": [],
   "source": [
    "import pandas as pd\n",
    "import matplotlib.pyplot as plt\n",
    "\n",
    "insurance_data_1 = pd.read_csv(\"insuranceData/motor_data11-14lats.csv\")\n",
    "insurance_data_2 = pd.read_csv(\"insuranceData/motor_data14-2018.csv\")"
   ]
  },
  {
   "cell_type": "markdown",
   "id": "f24a004e",
   "metadata": {},
   "source": [
    "### Dataset overview\n",
    "\n",
    "Both of the provided dataset files include the same entry attributes and differ only in entry dates. They will need to be merged."
   ]
  },
  {
   "cell_type": "code",
   "execution_count": 2,
   "id": "28e952f4",
   "metadata": {},
   "outputs": [
    {
     "name": "stdout",
     "output_type": "stream",
     "text": [
      "(802036, 16)\n"
     ]
    }
   ],
   "source": [
    "insurance_data = pd.concat([insurance_data_1, insurance_data_2], ignore_index=True)\n",
    "\n",
    "print(insurance_data.shape)"
   ]
  },
  {
   "cell_type": "markdown",
   "id": "d41a73ae",
   "metadata": {},
   "source": [
    "Now let's look whether the provided attributes have been read correctly."
   ]
  },
  {
   "cell_type": "code",
   "execution_count": 3,
   "id": "3957213f",
   "metadata": {},
   "outputs": [
    {
     "data": {
      "text/html": [
       "<div>\n",
       "<style scoped>\n",
       "    .dataframe tbody tr th:only-of-type {\n",
       "        vertical-align: middle;\n",
       "    }\n",
       "\n",
       "    .dataframe tbody tr th {\n",
       "        vertical-align: top;\n",
       "    }\n",
       "\n",
       "    .dataframe thead th {\n",
       "        text-align: right;\n",
       "    }\n",
       "</style>\n",
       "<table border=\"1\" class=\"dataframe\">\n",
       "  <thead>\n",
       "    <tr style=\"text-align: right;\">\n",
       "      <th></th>\n",
       "      <th>SEX</th>\n",
       "      <th>INSR_BEGIN</th>\n",
       "      <th>INSR_END</th>\n",
       "      <th>EFFECTIVE_YR</th>\n",
       "      <th>INSR_TYPE</th>\n",
       "      <th>INSURED_VALUE</th>\n",
       "      <th>PREMIUM</th>\n",
       "      <th>OBJECT_ID</th>\n",
       "      <th>PROD_YEAR</th>\n",
       "      <th>SEATS_NUM</th>\n",
       "      <th>CARRYING_CAPACITY</th>\n",
       "      <th>TYPE_VEHICLE</th>\n",
       "      <th>CCM_TON</th>\n",
       "      <th>MAKE</th>\n",
       "      <th>USAGE</th>\n",
       "      <th>CLAIM_PAID</th>\n",
       "    </tr>\n",
       "  </thead>\n",
       "  <tbody>\n",
       "    <tr>\n",
       "      <th>0</th>\n",
       "      <td>0</td>\n",
       "      <td>08-AUG-13</td>\n",
       "      <td>07-AUG-14</td>\n",
       "      <td>08</td>\n",
       "      <td>1202</td>\n",
       "      <td>519755.22</td>\n",
       "      <td>7209.140</td>\n",
       "      <td>5000029885</td>\n",
       "      <td>2007.0</td>\n",
       "      <td>4.0</td>\n",
       "      <td>6.0</td>\n",
       "      <td>Pick-up</td>\n",
       "      <td>3153.0</td>\n",
       "      <td>NISSAN</td>\n",
       "      <td>Own Goods</td>\n",
       "      <td>NaN</td>\n",
       "    </tr>\n",
       "    <tr>\n",
       "      <th>1</th>\n",
       "      <td>0</td>\n",
       "      <td>08-AUG-12</td>\n",
       "      <td>07-AUG-13</td>\n",
       "      <td>08</td>\n",
       "      <td>1202</td>\n",
       "      <td>519755.22</td>\n",
       "      <td>7203.890</td>\n",
       "      <td>5000029885</td>\n",
       "      <td>2007.0</td>\n",
       "      <td>4.0</td>\n",
       "      <td>6.0</td>\n",
       "      <td>Pick-up</td>\n",
       "      <td>3153.0</td>\n",
       "      <td>NISSAN</td>\n",
       "      <td>Own Goods</td>\n",
       "      <td>NaN</td>\n",
       "    </tr>\n",
       "    <tr>\n",
       "      <th>2</th>\n",
       "      <td>0</td>\n",
       "      <td>08-AUG-11</td>\n",
       "      <td>07-AUG-12</td>\n",
       "      <td>08</td>\n",
       "      <td>1202</td>\n",
       "      <td>519755.22</td>\n",
       "      <td>7045.804</td>\n",
       "      <td>5000029885</td>\n",
       "      <td>2007.0</td>\n",
       "      <td>4.0</td>\n",
       "      <td>6.0</td>\n",
       "      <td>Pick-up</td>\n",
       "      <td>3153.0</td>\n",
       "      <td>NISSAN</td>\n",
       "      <td>Own Goods</td>\n",
       "      <td>NaN</td>\n",
       "    </tr>\n",
       "    <tr>\n",
       "      <th>3</th>\n",
       "      <td>0</td>\n",
       "      <td>08-JUL-11</td>\n",
       "      <td>07-AUG-11</td>\n",
       "      <td>08</td>\n",
       "      <td>1202</td>\n",
       "      <td>519755.22</td>\n",
       "      <td>287.250</td>\n",
       "      <td>5000029885</td>\n",
       "      <td>2007.0</td>\n",
       "      <td>4.0</td>\n",
       "      <td>6.0</td>\n",
       "      <td>Pick-up</td>\n",
       "      <td>3153.0</td>\n",
       "      <td>NISSAN</td>\n",
       "      <td>Own Goods</td>\n",
       "      <td>NaN</td>\n",
       "    </tr>\n",
       "    <tr>\n",
       "      <th>4</th>\n",
       "      <td>0</td>\n",
       "      <td>08-AUG-13</td>\n",
       "      <td>07-AUG-14</td>\n",
       "      <td>08</td>\n",
       "      <td>1202</td>\n",
       "      <td>285451.24</td>\n",
       "      <td>4286.900</td>\n",
       "      <td>5000029901</td>\n",
       "      <td>2010.0</td>\n",
       "      <td>4.0</td>\n",
       "      <td>7.0</td>\n",
       "      <td>Pick-up</td>\n",
       "      <td>2494.0</td>\n",
       "      <td>TOYOTA</td>\n",
       "      <td>Own Goods</td>\n",
       "      <td>19894.43</td>\n",
       "    </tr>\n",
       "    <tr>\n",
       "      <th>5</th>\n",
       "      <td>0</td>\n",
       "      <td>08-AUG-12</td>\n",
       "      <td>07-AUG-13</td>\n",
       "      <td>08</td>\n",
       "      <td>1202</td>\n",
       "      <td>285451.24</td>\n",
       "      <td>4286.650</td>\n",
       "      <td>5000029901</td>\n",
       "      <td>2010.0</td>\n",
       "      <td>4.0</td>\n",
       "      <td>7.0</td>\n",
       "      <td>Pick-up</td>\n",
       "      <td>2494.0</td>\n",
       "      <td>TOYOTA</td>\n",
       "      <td>Own Goods</td>\n",
       "      <td>26916.44</td>\n",
       "    </tr>\n",
       "    <tr>\n",
       "      <th>6</th>\n",
       "      <td>0</td>\n",
       "      <td>08-AUG-11</td>\n",
       "      <td>07-AUG-12</td>\n",
       "      <td>08</td>\n",
       "      <td>1202</td>\n",
       "      <td>285451.24</td>\n",
       "      <td>4123.564</td>\n",
       "      <td>5000029901</td>\n",
       "      <td>2010.0</td>\n",
       "      <td>4.0</td>\n",
       "      <td>7.0</td>\n",
       "      <td>Pick-up</td>\n",
       "      <td>2494.0</td>\n",
       "      <td>TOYOTA</td>\n",
       "      <td>Own Goods</td>\n",
       "      <td>NaN</td>\n",
       "    </tr>\n",
       "    <tr>\n",
       "      <th>7</th>\n",
       "      <td>0</td>\n",
       "      <td>08-JUL-11</td>\n",
       "      <td>07-AUG-11</td>\n",
       "      <td>08</td>\n",
       "      <td>1202</td>\n",
       "      <td>285451.24</td>\n",
       "      <td>155.010</td>\n",
       "      <td>5000029901</td>\n",
       "      <td>2010.0</td>\n",
       "      <td>4.0</td>\n",
       "      <td>7.0</td>\n",
       "      <td>Pick-up</td>\n",
       "      <td>2494.0</td>\n",
       "      <td>TOYOTA</td>\n",
       "      <td>Own Goods</td>\n",
       "      <td>NaN</td>\n",
       "    </tr>\n",
       "    <tr>\n",
       "      <th>8</th>\n",
       "      <td>0</td>\n",
       "      <td>08-JUL-12</td>\n",
       "      <td>07-JUL-13</td>\n",
       "      <td>11</td>\n",
       "      <td>1201</td>\n",
       "      <td>200000.00</td>\n",
       "      <td>3452.650</td>\n",
       "      <td>5000030346</td>\n",
       "      <td>1982.0</td>\n",
       "      <td>10.0</td>\n",
       "      <td>NaN</td>\n",
       "      <td>Station Wagones</td>\n",
       "      <td>4164.0</td>\n",
       "      <td>TOYOTA</td>\n",
       "      <td>Private</td>\n",
       "      <td>NaN</td>\n",
       "    </tr>\n",
       "    <tr>\n",
       "      <th>9</th>\n",
       "      <td>0</td>\n",
       "      <td>08-AUG-11</td>\n",
       "      <td>07-JUL-12</td>\n",
       "      <td>11</td>\n",
       "      <td>1201</td>\n",
       "      <td>200000.00</td>\n",
       "      <td>3077.540</td>\n",
       "      <td>5000030346</td>\n",
       "      <td>1982.0</td>\n",
       "      <td>10.0</td>\n",
       "      <td>NaN</td>\n",
       "      <td>Station Wagones</td>\n",
       "      <td>4164.0</td>\n",
       "      <td>TOYOTA</td>\n",
       "      <td>Private</td>\n",
       "      <td>NaN</td>\n",
       "    </tr>\n",
       "  </tbody>\n",
       "</table>\n",
       "</div>"
      ],
      "text/plain": [
       "   SEX INSR_BEGIN   INSR_END EFFECTIVE_YR  INSR_TYPE  INSURED_VALUE   PREMIUM  \\\n",
       "0    0  08-AUG-13  07-AUG-14           08       1202      519755.22  7209.140   \n",
       "1    0  08-AUG-12  07-AUG-13           08       1202      519755.22  7203.890   \n",
       "2    0  08-AUG-11  07-AUG-12           08       1202      519755.22  7045.804   \n",
       "3    0  08-JUL-11  07-AUG-11           08       1202      519755.22   287.250   \n",
       "4    0  08-AUG-13  07-AUG-14           08       1202      285451.24  4286.900   \n",
       "5    0  08-AUG-12  07-AUG-13           08       1202      285451.24  4286.650   \n",
       "6    0  08-AUG-11  07-AUG-12           08       1202      285451.24  4123.564   \n",
       "7    0  08-JUL-11  07-AUG-11           08       1202      285451.24   155.010   \n",
       "8    0  08-JUL-12  07-JUL-13           11       1201      200000.00  3452.650   \n",
       "9    0  08-AUG-11  07-JUL-12           11       1201      200000.00  3077.540   \n",
       "\n",
       "    OBJECT_ID  PROD_YEAR  SEATS_NUM  CARRYING_CAPACITY     TYPE_VEHICLE  \\\n",
       "0  5000029885     2007.0        4.0                6.0          Pick-up   \n",
       "1  5000029885     2007.0        4.0                6.0          Pick-up   \n",
       "2  5000029885     2007.0        4.0                6.0          Pick-up   \n",
       "3  5000029885     2007.0        4.0                6.0          Pick-up   \n",
       "4  5000029901     2010.0        4.0                7.0          Pick-up   \n",
       "5  5000029901     2010.0        4.0                7.0          Pick-up   \n",
       "6  5000029901     2010.0        4.0                7.0          Pick-up   \n",
       "7  5000029901     2010.0        4.0                7.0          Pick-up   \n",
       "8  5000030346     1982.0       10.0                NaN  Station Wagones   \n",
       "9  5000030346     1982.0       10.0                NaN  Station Wagones   \n",
       "\n",
       "   CCM_TON    MAKE      USAGE  CLAIM_PAID  \n",
       "0   3153.0  NISSAN  Own Goods         NaN  \n",
       "1   3153.0  NISSAN  Own Goods         NaN  \n",
       "2   3153.0  NISSAN  Own Goods         NaN  \n",
       "3   3153.0  NISSAN  Own Goods         NaN  \n",
       "4   2494.0  TOYOTA  Own Goods    19894.43  \n",
       "5   2494.0  TOYOTA  Own Goods    26916.44  \n",
       "6   2494.0  TOYOTA  Own Goods         NaN  \n",
       "7   2494.0  TOYOTA  Own Goods         NaN  \n",
       "8   4164.0  TOYOTA    Private         NaN  \n",
       "9   4164.0  TOYOTA    Private         NaN  "
      ]
     },
     "execution_count": 3,
     "metadata": {},
     "output_type": "execute_result"
    }
   ],
   "source": [
    "insurance_data.head(10)"
   ]
  },
  {
   "cell_type": "markdown",
   "id": "f4b56e4c",
   "metadata": {},
   "source": [
    "There are multiple entries regarding the same vehicle as it has to be reinsured every year. That can lead to up to 7 entries for the same vehicle with only the premium amout fluctuating."
   ]
  },
  {
   "cell_type": "code",
   "execution_count": 4,
   "id": "00010b1f",
   "metadata": {},
   "outputs": [
    {
     "name": "stdout",
     "output_type": "stream",
     "text": [
      "<class 'pandas.core.frame.DataFrame'>\n",
      "RangeIndex: 802036 entries, 0 to 802035\n",
      "Data columns (total 16 columns):\n",
      " #   Column             Non-Null Count   Dtype  \n",
      "---  ------             --------------   -----  \n",
      " 0   SEX                802036 non-null  int64  \n",
      " 1   INSR_BEGIN         802036 non-null  object \n",
      " 2   INSR_END           802036 non-null  object \n",
      " 3   EFFECTIVE_YR       802032 non-null  object \n",
      " 4   INSR_TYPE          802036 non-null  int64  \n",
      " 5   INSURED_VALUE      802036 non-null  float64\n",
      " 6   PREMIUM            802015 non-null  float64\n",
      " 7   OBJECT_ID          802036 non-null  int64  \n",
      " 8   PROD_YEAR          801867 non-null  float64\n",
      " 9   SEATS_NUM          801801 non-null  float64\n",
      " 10  CARRYING_CAPACITY  603837 non-null  float64\n",
      " 11  TYPE_VEHICLE       802036 non-null  object \n",
      " 12  CCM_TON            802028 non-null  float64\n",
      " 13  MAKE               802031 non-null  object \n",
      " 14  USAGE              802036 non-null  object \n",
      " 15  CLAIM_PAID         60145 non-null   float64\n",
      "dtypes: float64(7), int64(3), object(6)\n",
      "memory usage: 97.9+ MB\n"
     ]
    }
   ],
   "source": [
    "insurance_data.info()"
   ]
  },
  {
   "cell_type": "markdown",
   "id": "7a6f31b2",
   "metadata": {},
   "source": [
    "Columns seem to have been read correctly. Let's now look at the values in individual columns."
   ]
  },
  {
   "cell_type": "markdown",
   "id": "1055e70c",
   "metadata": {},
   "source": [
    "#### Sex"
   ]
  },
  {
   "cell_type": "code",
   "execution_count": 5,
   "id": "658bf484",
   "metadata": {},
   "outputs": [
    {
     "data": {
      "text/plain": [
       "SEX\n",
       "0    415297\n",
       "1    318650\n",
       "2     68089\n",
       "Name: count, dtype: int64"
      ]
     },
     "execution_count": 5,
     "metadata": {},
     "output_type": "execute_result"
    }
   ],
   "source": [
    "insurance_data[\"SEX\"].value_counts()"
   ]
  },
  {
   "cell_type": "markdown",
   "id": "25aa068c",
   "metadata": {},
   "source": [
    "In the dataset, there are 3 unique sex values with 0 being \"legal entities\", 1 - males and 2 - females."
   ]
  },
  {
   "cell_type": "markdown",
   "id": "1fe7cb2e",
   "metadata": {},
   "source": [
    "#### Insurance start & end date"
   ]
  },
  {
   "cell_type": "code",
   "execution_count": 6,
   "id": "e8697572",
   "metadata": {},
   "outputs": [
    {
     "data": {
      "text/plain": [
       "INSR_BEGIN\n",
       "08-JUL-17    16754\n",
       "08-JUL-16    15640\n",
       "08-JUL-11    15215\n",
       "08-JUL-15    13464\n",
       "08-JUL-14    13121\n",
       "             ...  \n",
       "29-MAY-13        3\n",
       "28-SEP-15        3\n",
       "03-MAR-15        1\n",
       "12-SEP-14        1\n",
       "12-SEP-12        1\n",
       "Name: count, Length: 2556, dtype: int64"
      ]
     },
     "execution_count": 6,
     "metadata": {},
     "output_type": "execute_result"
    }
   ],
   "source": [
    "insurance_data[\"INSR_BEGIN\"].value_counts()"
   ]
  },
  {
   "cell_type": "code",
   "execution_count": 7,
   "id": "b66c0d4c",
   "metadata": {},
   "outputs": [
    {
     "data": {
      "text/plain": [
       "INSR_END\n",
       "07-JUL-18    17378\n",
       "07-JUL-17    15827\n",
       "07-JUL-16    14864\n",
       "07-JUL-13    13594\n",
       "07-JUL-15    13248\n",
       "             ...  \n",
       "23-OCT-11        1\n",
       "13-AUG-11        1\n",
       "12-SEP-11        1\n",
       "13-OCT-11        1\n",
       "09-AUG-11        1\n",
       "Name: count, Length: 2834, dtype: int64"
      ]
     },
     "execution_count": 7,
     "metadata": {},
     "output_type": "execute_result"
    }
   ],
   "source": [
    "insurance_data[\"INSR_END\"].value_counts()"
   ]
  },
  {
   "cell_type": "markdown",
   "id": "ca173454",
   "metadata": {},
   "source": [
    "There do not seem to be any obvious errors in the data."
   ]
  },
  {
   "cell_type": "markdown",
   "id": "0acf29d5",
   "metadata": {},
   "source": [
    "### Effective year"
   ]
  },
  {
   "cell_type": "code",
   "execution_count": 8,
   "id": "35081caa",
   "metadata": {},
   "outputs": [
    {
     "data": {
      "text/plain": [
       "EFFECTIVE_YR\n",
       "11    199888\n",
       "12     86791\n",
       "15     75484\n",
       "14     74001\n",
       "16     68866\n",
       "       ...  \n",
       "/1         1\n",
       "IN         1\n",
       "8R         1\n",
       "EA         1\n",
       "RS         1\n",
       "Name: count, Length: 151, dtype: int64"
      ]
     },
     "execution_count": 8,
     "metadata": {},
     "output_type": "execute_result"
    }
   ],
   "source": [
    "insurance_data[\"EFFECTIVE_YR\"].value_counts()"
   ]
  },
  {
   "cell_type": "markdown",
   "id": "09436858",
   "metadata": {},
   "source": [
    "The \"EFFECTIVE_YR\" column variable indicated what year the policy became effective (was first insured with the company). There are numerous records that indicate a year older that the dataset (before 2011).\n",
    "\n",
    "Yet, the columns contain values that are not indicative of a number and should be removed. Since there are a total of 802036 records, we can afford to lose quite a few. We also need to convert the years into a four-digit number."
   ]
  },
  {
   "cell_type": "code",
   "execution_count": 9,
   "id": "4fd50f4c",
   "metadata": {},
   "outputs": [
    {
     "data": {
      "text/plain": [
       "(800865, 17)"
      ]
     },
     "execution_count": 9,
     "metadata": {},
     "output_type": "execute_result"
    }
   ],
   "source": [
    "insurance_data = insurance_data[insurance_data[\"EFFECTIVE_YR\"].astype(str).str.match(r\"^\\d{2}$\")]\n",
    "\n",
    "def convert_year(y):\n",
    "    y = int(y)\n",
    "    if y > 18:\n",
    "        return 1900 + y\n",
    "    else:\n",
    "        return 2000 + y\n",
    "\n",
    "insurance_data[\"EFFECTIVE_YR_FULL\"] = insurance_data[\"EFFECTIVE_YR\"].apply(convert_year)\n",
    "\n",
    "insurance_data.shape"
   ]
  },
  {
   "cell_type": "markdown",
   "id": "9d44030f",
   "metadata": {},
   "source": [
    "After cleaning the effective year column, we have lost 1171 rows."
   ]
  },
  {
   "cell_type": "code",
   "execution_count": 10,
   "id": "58f8cb75",
   "metadata": {},
   "outputs": [
    {
     "data": {
      "image/png": "[encoded data removed]",
      "text/plain": [
       "<Figure size 640x480 with 1 Axes>"
      ]
     },
     "metadata": {},
     "output_type": "display_data"
    }
   ],
   "source": [
    "year_counts = insurance_data[\"EFFECTIVE_YR_FULL\"].value_counts().sort_index()\n",
    "\n",
    "year_counts = year_counts[\n",
    "    (year_counts.index >= 1992) &\n",
    "    (year_counts.index <= 2018)\n",
    "]\n",
    "\n",
    "year_counts.plot(kind='bar')\n",
    "plt.xlabel(\"Effective Year\")\n",
    "plt.ylabel(\"Policy Count\")\n",
    "plt.xticks(rotation=45)\n",
    "plt.grid(axis='y', linestyle='--', alpha=0.7)\n",
    "plt.tight_layout()\n",
    "plt.show()\n"
   ]
  },
  {
   "cell_type": "code",
   "execution_count": 11,
   "id": "647d5589",
   "metadata": {},
   "outputs": [
    {
     "name": "stdout",
     "output_type": "stream",
     "text": [
      "EFFECTIVE_YR_FULL\n",
      "1919      394\n",
      "1920      593\n",
      "1921      532\n",
      "1922      454\n",
      "1923      488\n",
      "        ...  \n",
      "2014    74001\n",
      "2015    75484\n",
      "2016    68866\n",
      "2017    57060\n",
      "2018    21547\n",
      "Name: count, Length: 100, dtype: int64\n"
     ]
    }
   ],
   "source": [
    "year_counts = insurance_data[\"EFFECTIVE_YR_FULL\"].value_counts().sort_index()\n",
    "print(year_counts)"
   ]
  },
  {
   "cell_type": "markdown",
   "id": "34d22951",
   "metadata": {},
   "source": [
    "The data shows that most of the insured vehicles were first insured in 2011 and after."
   ]
  },
  {
   "cell_type": "markdown",
   "id": "8d0df4d4",
   "metadata": {},
   "source": [
    "#### Insurance type"
   ]
  },
  {
   "cell_type": "code",
   "execution_count": 12,
   "id": "1c16a649",
   "metadata": {},
   "outputs": [
    {
     "data": {
      "text/plain": [
       "INSR_TYPE\n",
       "1202    593519\n",
       "1201    207011\n",
       "1204       335\n",
       "Name: count, dtype: int64"
      ]
     },
     "execution_count": 12,
     "metadata": {},
     "output_type": "execute_result"
    }
   ],
   "source": [
    "insurance_data[\"INSR_TYPE\"].value_counts()"
   ]
  },
  {
   "cell_type": "markdown",
   "id": "e0cbe8b1",
   "metadata": {},
   "source": [
    "There are a total of three types of insurance: 1201 - private, 1202 - commercial and 1204 - motor trade road risk (for motor trade workers that drive vehicles they do not personally own, such as mechanics)."
   ]
  },
  {
   "cell_type": "markdown",
   "id": "ffbeefb2",
   "metadata": {},
   "source": [
    "#### Insured value"
   ]
  },
  {
   "cell_type": "code",
   "execution_count": 13,
   "id": "0e0866ef",
   "metadata": {},
   "outputs": [
    {
     "data": {
      "text/plain": [
       "INSURED_VALUE\n",
       "0.00          343235\n",
       "500000.00      13588\n",
       "400000.00      12553\n",
       "1500000.00     10844\n",
       "600000.00      10658\n",
       "               ...  \n",
       "4342763.82         1\n",
       "156975.00          1\n",
       "329280.00          1\n",
       "1094.89            1\n",
       "1391526.48         1\n",
       "Name: count, Length: 17368, dtype: int64"
      ]
     },
     "execution_count": 13,
     "metadata": {},
     "output_type": "execute_result"
    }
   ],
   "source": [
    "insurance_data[\"INSURED_VALUE\"].value_counts()"
   ]
  },
  {
   "cell_type": "markdown",
   "id": "9dc1ee32",
   "metadata": {},
   "source": [
    "343235 vehicles in the dataset have no provided insurance value. This can cause quite a problem and therefore we will remove them."
   ]
  },
  {
   "cell_type": "code",
   "execution_count": 14,
   "id": "d8c57f9d",
   "metadata": {},
   "outputs": [
    {
     "data": {
      "text/plain": [
       "(457630, 17)"
      ]
     },
     "execution_count": 14,
     "metadata": {},
     "output_type": "execute_result"
    }
   ],
   "source": [
    "insurance_data = insurance_data[insurance_data[\"INSURED_VALUE\"] != 0]\n",
    "\n",
    "insurance_data.shape"
   ]
  },
  {
   "cell_type": "markdown",
   "id": "d08197c8",
   "metadata": {},
   "source": [
    "We are left with 457630 values."
   ]
  },
  {
   "cell_type": "markdown",
   "id": "268c4e26",
   "metadata": {},
   "source": [
    "#### Insurance premium\n",
    "\n",
    "The premium amount are provided in Ethiopian birr (1000 Birr = 7,3 USD)."
   ]
  },
  {
   "cell_type": "code",
   "execution_count": 15,
   "id": "4845a51c",
   "metadata": {},
   "outputs": [
    {
     "data": {
      "text/plain": [
       "22"
      ]
     },
     "execution_count": 15,
     "metadata": {},
     "output_type": "execute_result"
    }
   ],
   "source": [
    "insurance_data[\"PREMIUM\"][insurance_data[\"PREMIUM\"] <= 0].count()"
   ]
  },
  {
   "cell_type": "markdown",
   "id": "bf56feb3",
   "metadata": {},
   "source": [
    "There are 22 vehicles with a premium of 0 or less. This is not acceptable and we will remove them."
   ]
  },
  {
   "cell_type": "code",
   "execution_count": 16,
   "id": "db935891",
   "metadata": {},
   "outputs": [],
   "source": [
    "insurance_data = insurance_data[insurance_data[\"PREMIUM\"] > 0]"
   ]
  },
  {
   "cell_type": "markdown",
   "id": "5634843f",
   "metadata": {},
   "source": [
    "#### Object ID"
   ]
  },
  {
   "cell_type": "code",
   "execution_count": 17,
   "id": "7ab054e2",
   "metadata": {},
   "outputs": [
    {
     "data": {
      "text/plain": [
       "OBJECT_ID\n",
       "5000116673    17\n",
       "5000036477    16\n",
       "5000021028    16\n",
       "5000036873    15\n",
       "5000036245    15\n",
       "              ..\n",
       "5000155306     1\n",
       "5000155302     1\n",
       "5000155301     1\n",
       "5000685254     1\n",
       "5001350508     1\n",
       "Name: count, Length: 142662, dtype: int64"
      ]
     },
     "execution_count": 17,
     "metadata": {},
     "output_type": "execute_result"
    }
   ],
   "source": [
    "insurance_data[\"OBJECT_ID\"].value_counts()"
   ]
  },
  {
   "cell_type": "markdown",
   "id": "eb9e4b26",
   "metadata": {},
   "source": [
    "Some vehicles appear more that 7 times which is not possible."
   ]
  },
  {
   "cell_type": "code",
   "execution_count": 18,
   "id": "e37b7b4f",
   "metadata": {},
   "outputs": [
    {
     "data": {
      "text/html": [
       "<div>\n",
       "<style scoped>\n",
       "    .dataframe tbody tr th:only-of-type {\n",
       "        vertical-align: middle;\n",
       "    }\n",
       "\n",
       "    .dataframe tbody tr th {\n",
       "        vertical-align: top;\n",
       "    }\n",
       "\n",
       "    .dataframe thead th {\n",
       "        text-align: right;\n",
       "    }\n",
       "</style>\n",
       "<table border=\"1\" class=\"dataframe\">\n",
       "  <thead>\n",
       "    <tr style=\"text-align: right;\">\n",
       "      <th></th>\n",
       "      <th>SEX</th>\n",
       "      <th>INSR_BEGIN</th>\n",
       "      <th>INSR_END</th>\n",
       "      <th>EFFECTIVE_YR</th>\n",
       "      <th>INSR_TYPE</th>\n",
       "      <th>INSURED_VALUE</th>\n",
       "      <th>PREMIUM</th>\n",
       "      <th>OBJECT_ID</th>\n",
       "      <th>PROD_YEAR</th>\n",
       "      <th>SEATS_NUM</th>\n",
       "      <th>CARRYING_CAPACITY</th>\n",
       "      <th>TYPE_VEHICLE</th>\n",
       "      <th>CCM_TON</th>\n",
       "      <th>MAKE</th>\n",
       "      <th>USAGE</th>\n",
       "      <th>CLAIM_PAID</th>\n",
       "      <th>EFFECTIVE_YR_FULL</th>\n",
       "    </tr>\n",
       "  </thead>\n",
       "  <tbody>\n",
       "    <tr>\n",
       "      <th>75918</th>\n",
       "      <td>1</td>\n",
       "      <td>31-JUL-13</td>\n",
       "      <td>30-JUL-14</td>\n",
       "      <td>11</td>\n",
       "      <td>1202</td>\n",
       "      <td>414000.0</td>\n",
       "      <td>6564.04</td>\n",
       "      <td>5000116673</td>\n",
       "      <td>2006.0</td>\n",
       "      <td>0.0</td>\n",
       "      <td>220.0</td>\n",
       "      <td>Trailers and semitrailers</td>\n",
       "      <td>0.0</td>\n",
       "      <td>MESFIN</td>\n",
       "      <td>General Cartage</td>\n",
       "      <td>NaN</td>\n",
       "      <td>2011</td>\n",
       "    </tr>\n",
       "    <tr>\n",
       "      <th>75919</th>\n",
       "      <td>0</td>\n",
       "      <td>08-JUL-13</td>\n",
       "      <td>07-JUL-14</td>\n",
       "      <td>88</td>\n",
       "      <td>1202</td>\n",
       "      <td>120000.0</td>\n",
       "      <td>2643.35</td>\n",
       "      <td>5000116673</td>\n",
       "      <td>2006.0</td>\n",
       "      <td>0.0</td>\n",
       "      <td>220.0</td>\n",
       "      <td>Trailers and semitrailers</td>\n",
       "      <td>0.0</td>\n",
       "      <td>MESFIN</td>\n",
       "      <td>General Cartage</td>\n",
       "      <td>NaN</td>\n",
       "      <td>1988</td>\n",
       "    </tr>\n",
       "    <tr>\n",
       "      <th>75920</th>\n",
       "      <td>0</td>\n",
       "      <td>04-NOV-12</td>\n",
       "      <td>07-JUL-13</td>\n",
       "      <td>88</td>\n",
       "      <td>1202</td>\n",
       "      <td>241442.0</td>\n",
       "      <td>3802.86</td>\n",
       "      <td>5000116673</td>\n",
       "      <td>2006.0</td>\n",
       "      <td>0.0</td>\n",
       "      <td>220.0</td>\n",
       "      <td>Trailers and semitrailers</td>\n",
       "      <td>0.0</td>\n",
       "      <td>MESFIN</td>\n",
       "      <td>General Cartage</td>\n",
       "      <td>NaN</td>\n",
       "      <td>1988</td>\n",
       "    </tr>\n",
       "    <tr>\n",
       "      <th>75921</th>\n",
       "      <td>0</td>\n",
       "      <td>08-SEP-12</td>\n",
       "      <td>03-NOV-12</td>\n",
       "      <td>88</td>\n",
       "      <td>1202</td>\n",
       "      <td>241442.0</td>\n",
       "      <td>1191.43</td>\n",
       "      <td>5000116673</td>\n",
       "      <td>2006.0</td>\n",
       "      <td>0.0</td>\n",
       "      <td>220.0</td>\n",
       "      <td>Trailers and semitrailers</td>\n",
       "      <td>0.0</td>\n",
       "      <td>MESFIN</td>\n",
       "      <td>General Cartage</td>\n",
       "      <td>NaN</td>\n",
       "      <td>1988</td>\n",
       "    </tr>\n",
       "    <tr>\n",
       "      <th>75922</th>\n",
       "      <td>1</td>\n",
       "      <td>31-JUL-12</td>\n",
       "      <td>30-JUL-13</td>\n",
       "      <td>11</td>\n",
       "      <td>1202</td>\n",
       "      <td>414000.0</td>\n",
       "      <td>4473.66</td>\n",
       "      <td>5000116673</td>\n",
       "      <td>2006.0</td>\n",
       "      <td>0.0</td>\n",
       "      <td>220.0</td>\n",
       "      <td>Trailers and semitrailers</td>\n",
       "      <td>0.0</td>\n",
       "      <td>MESFIN</td>\n",
       "      <td>General Cartage</td>\n",
       "      <td>NaN</td>\n",
       "      <td>2011</td>\n",
       "    </tr>\n",
       "    <tr>\n",
       "      <th>75923</th>\n",
       "      <td>0</td>\n",
       "      <td>08-JUL-12</td>\n",
       "      <td>07-SEP-12</td>\n",
       "      <td>88</td>\n",
       "      <td>1202</td>\n",
       "      <td>241442.0</td>\n",
       "      <td>1966.70</td>\n",
       "      <td>5000116673</td>\n",
       "      <td>2006.0</td>\n",
       "      <td>0.0</td>\n",
       "      <td>220.0</td>\n",
       "      <td>Trailers and semitrailers</td>\n",
       "      <td>0.0</td>\n",
       "      <td>MESFIN</td>\n",
       "      <td>General Cartage</td>\n",
       "      <td>NaN</td>\n",
       "      <td>1988</td>\n",
       "    </tr>\n",
       "    <tr>\n",
       "      <th>75924</th>\n",
       "      <td>1</td>\n",
       "      <td>31-JUL-11</td>\n",
       "      <td>30-JUL-12</td>\n",
       "      <td>11</td>\n",
       "      <td>1202</td>\n",
       "      <td>414000.0</td>\n",
       "      <td>3718.13</td>\n",
       "      <td>5000116673</td>\n",
       "      <td>2006.0</td>\n",
       "      <td>0.0</td>\n",
       "      <td>220.0</td>\n",
       "      <td>Trailers and semitrailers</td>\n",
       "      <td>0.0</td>\n",
       "      <td>MESFIN</td>\n",
       "      <td>General Cartage</td>\n",
       "      <td>NaN</td>\n",
       "      <td>2011</td>\n",
       "    </tr>\n",
       "    <tr>\n",
       "      <th>75925</th>\n",
       "      <td>0</td>\n",
       "      <td>08-OCT-11</td>\n",
       "      <td>07-JUL-12</td>\n",
       "      <td>88</td>\n",
       "      <td>1202</td>\n",
       "      <td>241442.0</td>\n",
       "      <td>4136.43</td>\n",
       "      <td>5000116673</td>\n",
       "      <td>2006.0</td>\n",
       "      <td>0.0</td>\n",
       "      <td>220.0</td>\n",
       "      <td>Trailers and semitrailers</td>\n",
       "      <td>0.0</td>\n",
       "      <td>MESFIN</td>\n",
       "      <td>General Cartage</td>\n",
       "      <td>NaN</td>\n",
       "      <td>1988</td>\n",
       "    </tr>\n",
       "    <tr>\n",
       "      <th>75926</th>\n",
       "      <td>0</td>\n",
       "      <td>08-JUL-11</td>\n",
       "      <td>07-OCT-11</td>\n",
       "      <td>11</td>\n",
       "      <td>1202</td>\n",
       "      <td>241442.0</td>\n",
       "      <td>1028.48</td>\n",
       "      <td>5000116673</td>\n",
       "      <td>2006.0</td>\n",
       "      <td>0.0</td>\n",
       "      <td>220.0</td>\n",
       "      <td>Trailers and semitrailers</td>\n",
       "      <td>0.0</td>\n",
       "      <td>MESFIN</td>\n",
       "      <td>General Cartage</td>\n",
       "      <td>NaN</td>\n",
       "      <td>2011</td>\n",
       "    </tr>\n",
       "    <tr>\n",
       "      <th>359619</th>\n",
       "      <td>1</td>\n",
       "      <td>31-MAR-18</td>\n",
       "      <td>30-MAR-19</td>\n",
       "      <td>13</td>\n",
       "      <td>1202</td>\n",
       "      <td>600000.0</td>\n",
       "      <td>5576.76</td>\n",
       "      <td>5000116673</td>\n",
       "      <td>2006.0</td>\n",
       "      <td>0.0</td>\n",
       "      <td>220.0</td>\n",
       "      <td>Trailers and semitrailers</td>\n",
       "      <td>0.0</td>\n",
       "      <td>MESFIN</td>\n",
       "      <td>General Cartage</td>\n",
       "      <td>NaN</td>\n",
       "      <td>2013</td>\n",
       "    </tr>\n",
       "    <tr>\n",
       "      <th>359620</th>\n",
       "      <td>1</td>\n",
       "      <td>31-MAR-17</td>\n",
       "      <td>30-MAR-18</td>\n",
       "      <td>13</td>\n",
       "      <td>1202</td>\n",
       "      <td>600000.0</td>\n",
       "      <td>10060.38</td>\n",
       "      <td>5000116673</td>\n",
       "      <td>2006.0</td>\n",
       "      <td>0.0</td>\n",
       "      <td>220.0</td>\n",
       "      <td>Trailers and semitrailers</td>\n",
       "      <td>0.0</td>\n",
       "      <td>MESFIN</td>\n",
       "      <td>General Cartage</td>\n",
       "      <td>NaN</td>\n",
       "      <td>2013</td>\n",
       "    </tr>\n",
       "    <tr>\n",
       "      <th>359621</th>\n",
       "      <td>1</td>\n",
       "      <td>31-MAR-16</td>\n",
       "      <td>30-MAR-17</td>\n",
       "      <td>13</td>\n",
       "      <td>1202</td>\n",
       "      <td>600000.0</td>\n",
       "      <td>2484.98</td>\n",
       "      <td>5000116673</td>\n",
       "      <td>2006.0</td>\n",
       "      <td>0.0</td>\n",
       "      <td>220.0</td>\n",
       "      <td>Trailers and semitrailers</td>\n",
       "      <td>0.0</td>\n",
       "      <td>MESFIN</td>\n",
       "      <td>General Cartage</td>\n",
       "      <td>NaN</td>\n",
       "      <td>2013</td>\n",
       "    </tr>\n",
       "    <tr>\n",
       "      <th>359622</th>\n",
       "      <td>0</td>\n",
       "      <td>08-JUL-16</td>\n",
       "      <td>07-JUL-17</td>\n",
       "      <td>88</td>\n",
       "      <td>1202</td>\n",
       "      <td>120000.0</td>\n",
       "      <td>2251.90</td>\n",
       "      <td>5000116673</td>\n",
       "      <td>2006.0</td>\n",
       "      <td>0.0</td>\n",
       "      <td>220.0</td>\n",
       "      <td>Trailers and semitrailers</td>\n",
       "      <td>0.0</td>\n",
       "      <td>MESFIN</td>\n",
       "      <td>General Cartage</td>\n",
       "      <td>NaN</td>\n",
       "      <td>1988</td>\n",
       "    </tr>\n",
       "    <tr>\n",
       "      <th>359623</th>\n",
       "      <td>0</td>\n",
       "      <td>08-JUL-15</td>\n",
       "      <td>07-JUL-16</td>\n",
       "      <td>88</td>\n",
       "      <td>1202</td>\n",
       "      <td>120000.0</td>\n",
       "      <td>2368.80</td>\n",
       "      <td>5000116673</td>\n",
       "      <td>2006.0</td>\n",
       "      <td>0.0</td>\n",
       "      <td>220.0</td>\n",
       "      <td>Trailers and semitrailers</td>\n",
       "      <td>0.0</td>\n",
       "      <td>MESFIN</td>\n",
       "      <td>General Cartage</td>\n",
       "      <td>NaN</td>\n",
       "      <td>1988</td>\n",
       "    </tr>\n",
       "    <tr>\n",
       "      <th>359624</th>\n",
       "      <td>1</td>\n",
       "      <td>31-JUL-15</td>\n",
       "      <td>30-JUL-16</td>\n",
       "      <td>11</td>\n",
       "      <td>1202</td>\n",
       "      <td>414000.0</td>\n",
       "      <td>7672.51</td>\n",
       "      <td>5000116673</td>\n",
       "      <td>2006.0</td>\n",
       "      <td>0.0</td>\n",
       "      <td>220.0</td>\n",
       "      <td>Trailers and semitrailers</td>\n",
       "      <td>0.0</td>\n",
       "      <td>MESFIN</td>\n",
       "      <td>General Cartage</td>\n",
       "      <td>NaN</td>\n",
       "      <td>2011</td>\n",
       "    </tr>\n",
       "    <tr>\n",
       "      <th>359625</th>\n",
       "      <td>1</td>\n",
       "      <td>31-JUL-14</td>\n",
       "      <td>30-JUL-15</td>\n",
       "      <td>11</td>\n",
       "      <td>1202</td>\n",
       "      <td>414000.0</td>\n",
       "      <td>6819.30</td>\n",
       "      <td>5000116673</td>\n",
       "      <td>2006.0</td>\n",
       "      <td>0.0</td>\n",
       "      <td>220.0</td>\n",
       "      <td>Trailers and semitrailers</td>\n",
       "      <td>0.0</td>\n",
       "      <td>MESFIN</td>\n",
       "      <td>General Cartage</td>\n",
       "      <td>NaN</td>\n",
       "      <td>2011</td>\n",
       "    </tr>\n",
       "    <tr>\n",
       "      <th>359626</th>\n",
       "      <td>0</td>\n",
       "      <td>08-JUL-14</td>\n",
       "      <td>07-JUL-15</td>\n",
       "      <td>88</td>\n",
       "      <td>1202</td>\n",
       "      <td>120000.0</td>\n",
       "      <td>2166.00</td>\n",
       "      <td>5000116673</td>\n",
       "      <td>2006.0</td>\n",
       "      <td>0.0</td>\n",
       "      <td>220.0</td>\n",
       "      <td>Trailers and semitrailers</td>\n",
       "      <td>0.0</td>\n",
       "      <td>MESFIN</td>\n",
       "      <td>General Cartage</td>\n",
       "      <td>NaN</td>\n",
       "      <td>1988</td>\n",
       "    </tr>\n",
       "  </tbody>\n",
       "</table>\n",
       "</div>"
      ],
      "text/plain": [
       "        SEX INSR_BEGIN   INSR_END EFFECTIVE_YR  INSR_TYPE  INSURED_VALUE  \\\n",
       "75918     1  31-JUL-13  30-JUL-14           11       1202       414000.0   \n",
       "75919     0  08-JUL-13  07-JUL-14           88       1202       120000.0   \n",
       "75920     0  04-NOV-12  07-JUL-13           88       1202       241442.0   \n",
       "75921     0  08-SEP-12  03-NOV-12           88       1202       241442.0   \n",
       "75922     1  31-JUL-12  30-JUL-13           11       1202       414000.0   \n",
       "75923     0  08-JUL-12  07-SEP-12           88       1202       241442.0   \n",
       "75924     1  31-JUL-11  30-JUL-12           11       1202       414000.0   \n",
       "75925     0  08-OCT-11  07-JUL-12           88       1202       241442.0   \n",
       "75926     0  08-JUL-11  07-OCT-11           11       1202       241442.0   \n",
       "359619    1  31-MAR-18  30-MAR-19           13       1202       600000.0   \n",
       "359620    1  31-MAR-17  30-MAR-18           13       1202       600000.0   \n",
       "359621    1  31-MAR-16  30-MAR-17           13       1202       600000.0   \n",
       "359622    0  08-JUL-16  07-JUL-17           88       1202       120000.0   \n",
       "359623    0  08-JUL-15  07-JUL-16           88       1202       120000.0   \n",
       "359624    1  31-JUL-15  30-JUL-16           11       1202       414000.0   \n",
       "359625    1  31-JUL-14  30-JUL-15           11       1202       414000.0   \n",
       "359626    0  08-JUL-14  07-JUL-15           88       1202       120000.0   \n",
       "\n",
       "         PREMIUM   OBJECT_ID  PROD_YEAR  SEATS_NUM  CARRYING_CAPACITY  \\\n",
       "75918    6564.04  5000116673     2006.0        0.0              220.0   \n",
       "75919    2643.35  5000116673     2006.0        0.0              220.0   \n",
       "75920    3802.86  5000116673     2006.0        0.0              220.0   \n",
       "75921    1191.43  5000116673     2006.0        0.0              220.0   \n",
       "75922    4473.66  5000116673     2006.0        0.0              220.0   \n",
       "75923    1966.70  5000116673     2006.0        0.0              220.0   \n",
       "75924    3718.13  5000116673     2006.0        0.0              220.0   \n",
       "75925    4136.43  5000116673     2006.0        0.0              220.0   \n",
       "75926    1028.48  5000116673     2006.0        0.0              220.0   \n",
       "359619   5576.76  5000116673     2006.0        0.0              220.0   \n",
       "359620  10060.38  5000116673     2006.0        0.0              220.0   \n",
       "359621   2484.98  5000116673     2006.0        0.0              220.0   \n",
       "359622   2251.90  5000116673     2006.0        0.0              220.0   \n",
       "359623   2368.80  5000116673     2006.0        0.0              220.0   \n",
       "359624   7672.51  5000116673     2006.0        0.0              220.0   \n",
       "359625   6819.30  5000116673     2006.0        0.0              220.0   \n",
       "359626   2166.00  5000116673     2006.0        0.0              220.0   \n",
       "\n",
       "                     TYPE_VEHICLE  CCM_TON    MAKE            USAGE  \\\n",
       "75918   Trailers and semitrailers      0.0  MESFIN  General Cartage   \n",
       "75919   Trailers and semitrailers      0.0  MESFIN  General Cartage   \n",
       "75920   Trailers and semitrailers      0.0  MESFIN  General Cartage   \n",
       "75921   Trailers and semitrailers      0.0  MESFIN  General Cartage   \n",
       "75922   Trailers and semitrailers      0.0  MESFIN  General Cartage   \n",
       "75923   Trailers and semitrailers      0.0  MESFIN  General Cartage   \n",
       "75924   Trailers and semitrailers      0.0  MESFIN  General Cartage   \n",
       "75925   Trailers and semitrailers      0.0  MESFIN  General Cartage   \n",
       "75926   Trailers and semitrailers      0.0  MESFIN  General Cartage   \n",
       "359619  Trailers and semitrailers      0.0  MESFIN  General Cartage   \n",
       "359620  Trailers and semitrailers      0.0  MESFIN  General Cartage   \n",
       "359621  Trailers and semitrailers      0.0  MESFIN  General Cartage   \n",
       "359622  Trailers and semitrailers      0.0  MESFIN  General Cartage   \n",
       "359623  Trailers and semitrailers      0.0  MESFIN  General Cartage   \n",
       "359624  Trailers and semitrailers      0.0  MESFIN  General Cartage   \n",
       "359625  Trailers and semitrailers      0.0  MESFIN  General Cartage   \n",
       "359626  Trailers and semitrailers      0.0  MESFIN  General Cartage   \n",
       "\n",
       "        CLAIM_PAID  EFFECTIVE_YR_FULL  \n",
       "75918          NaN               2011  \n",
       "75919          NaN               1988  \n",
       "75920          NaN               1988  \n",
       "75921          NaN               1988  \n",
       "75922          NaN               2011  \n",
       "75923          NaN               1988  \n",
       "75924          NaN               2011  \n",
       "75925          NaN               1988  \n",
       "75926          NaN               2011  \n",
       "359619         NaN               2013  \n",
       "359620         NaN               2013  \n",
       "359621         NaN               2013  \n",
       "359622         NaN               1988  \n",
       "359623         NaN               1988  \n",
       "359624         NaN               2011  \n",
       "359625         NaN               2011  \n",
       "359626         NaN               1988  "
      ]
     },
     "execution_count": 18,
     "metadata": {},
     "output_type": "execute_result"
    }
   ],
   "source": [
    "insurance_data[insurance_data[\"OBJECT_ID\"].astype(str) == \"5000116673\"]"
   ]
  },
  {
   "cell_type": "code",
   "execution_count": 19,
   "id": "7642207c",
   "metadata": {},
   "outputs": [
    {
     "data": {
      "text/plain": [
       "4887"
      ]
     },
     "execution_count": 19,
     "metadata": {},
     "output_type": "execute_result"
    }
   ],
   "source": [
    "(insurance_data[\"OBJECT_ID\"].value_counts() > 7).sum()"
   ]
  },
  {
   "cell_type": "markdown",
   "id": "08d92c6b",
   "metadata": {},
   "source": [
    "There are a total of 4887 OBJECT_IDs that apprear more than 7 times. Correcting each one would have to be done manually by hand and therefore it would be much simpler just to remove the entries completely. In a real-world scenario all values should be investigated."
   ]
  },
  {
   "cell_type": "code",
   "execution_count": 20,
   "id": "706ebb40",
   "metadata": {},
   "outputs": [
    {
     "name": "stdout",
     "output_type": "stream",
     "text": [
      "(417177, 17)\n"
     ]
    }
   ],
   "source": [
    "object_id_counts = insurance_data[\"OBJECT_ID\"].value_counts()\n",
    "\n",
    "ids_to_remove = object_id_counts[object_id_counts > 7].index\n",
    "\n",
    "insurance_data = insurance_data[~insurance_data[\"OBJECT_ID\"].isin(ids_to_remove)]\n",
    "\n",
    "print(insurance_data.shape)"
   ]
  },
  {
   "cell_type": "markdown",
   "id": "55c66598",
   "metadata": {},
   "source": [
    "#### Year of production"
   ]
  },
  {
   "cell_type": "code",
   "execution_count": 21,
   "id": "b8d72714",
   "metadata": {},
   "outputs": [
    {
     "data": {
      "text/plain": [
       "PROD_YEAR\n",
       "2012.0    33762\n",
       "2014.0    31020\n",
       "2010.0    29230\n",
       "2013.0    26575\n",
       "2008.0    26539\n",
       "2011.0    24219\n",
       "2015.0    22896\n",
       "2006.0    21431\n",
       "2007.0    19256\n",
       "2009.0    18577\n",
       "2005.0    14350\n",
       "2016.0    13508\n",
       "2000.0    11614\n",
       "2004.0    11440\n",
       "2003.0    10832\n",
       "2001.0    10305\n",
       "2002.0     9458\n",
       "1999.0     7851\n",
       "1990.0     7377\n",
       "1998.0     6329\n",
       "2017.0     5629\n",
       "1996.0     5437\n",
       "1997.0     5406\n",
       "1995.0     5139\n",
       "1992.0     4294\n",
       "1988.0     3792\n",
       "1986.0     3523\n",
       "1989.0     3480\n",
       "1991.0     3442\n",
       "1994.0     3261\n",
       "1993.0     3076\n",
       "1985.0     2988\n",
       "1987.0     2410\n",
       "1982.0     1946\n",
       "1984.0     1906\n",
       "1983.0     1643\n",
       "1981.0     1386\n",
       "1980.0      354\n",
       "2018.0      245\n",
       "1970.0      154\n",
       "1978.0      149\n",
       "1974.0      140\n",
       "1973.0      113\n",
       "1975.0      103\n",
       "1976.0       96\n",
       "1977.0       84\n",
       "1972.0       66\n",
       "1971.0       66\n",
       "1979.0       65\n",
       "1968.0       50\n",
       "1969.0       36\n",
       "1967.0       24\n",
       "1966.0       23\n",
       "1962.0        7\n",
       "1960.0        6\n",
       "1964.0        5\n",
       "1957.0        3\n",
       "1963.0        3\n",
       "1958.0        2\n",
       "1961.0        1\n",
       "Name: count, dtype: int64"
      ]
     },
     "execution_count": 21,
     "metadata": {},
     "output_type": "execute_result"
    }
   ],
   "source": [
    "insurance_data[\"PROD_YEAR\"].value_counts()"
   ]
  },
  {
   "cell_type": "markdown",
   "id": "edfe9103",
   "metadata": {},
   "source": [
    "There are no abnormalities in this attribute."
   ]
  },
  {
   "cell_type": "markdown",
   "id": "c9dde2fc",
   "metadata": {},
   "source": [
    "#### Number of seats"
   ]
  },
  {
   "cell_type": "code",
   "execution_count": 22,
   "id": "6f33d16b",
   "metadata": {},
   "outputs": [
    {
     "data": {
      "text/plain": [
       "SEATS_NUM\n",
       "4.0      127674\n",
       "1.0       88892\n",
       "2.0       48929\n",
       "0.0       44605\n",
       "8.0       20455\n",
       "          ...  \n",
       "199.0         1\n",
       "112.0         1\n",
       "125.0         1\n",
       "72.0          1\n",
       "178.0         1\n",
       "Name: count, Length: 91, dtype: int64"
      ]
     },
     "execution_count": 22,
     "metadata": {},
     "output_type": "execute_result"
    }
   ],
   "source": [
    "insurance_data[\"SEATS_NUM\"].value_counts()"
   ]
  },
  {
   "cell_type": "markdown",
   "id": "062328f3",
   "metadata": {},
   "source": [
    "There are a total of 44605 vehicles with 0 seats which is impossible. Also, the number of seats should not exceed 256 (seats in the largest bus in the world)."
   ]
  },
  {
   "cell_type": "code",
   "execution_count": 23,
   "id": "c10fab72",
   "metadata": {},
   "outputs": [
    {
     "name": "stdout",
     "output_type": "stream",
     "text": [
      "(372488, 17)\n"
     ]
    }
   ],
   "source": [
    "insurance_data = insurance_data[(insurance_data[\"SEATS_NUM\"] > 0) & (insurance_data[\"SEATS_NUM\"] <= 256)]\n",
    "\n",
    "print(insurance_data.shape)"
   ]
  },
  {
   "cell_type": "markdown",
   "id": "cb7347cc",
   "metadata": {},
   "source": [
    "#### Carrying capacity"
   ]
  },
  {
   "cell_type": "code",
   "execution_count": 24,
   "id": "fd115a43",
   "metadata": {},
   "outputs": [
    {
     "data": {
      "text/plain": [
       "CARRYING_CAPACITY\n",
       "0.00         75787\n",
       "7.00         39722\n",
       "10.00        23292\n",
       "6.00         16405\n",
       "11.00         5428\n",
       "             ...  \n",
       "43.85            1\n",
       "45.40            1\n",
       "18278.00         1\n",
       "8873.00          1\n",
       "130000.00        1\n",
       "Name: count, Length: 1673, dtype: int64"
      ]
     },
     "execution_count": 24,
     "metadata": {},
     "output_type": "execute_result"
    }
   ],
   "source": [
    "insurance_data[\"CARRYING_CAPACITY\"].value_counts()"
   ]
  },
  {
   "cell_type": "markdown",
   "id": "34c74825",
   "metadata": {},
   "source": [
    "#### Vehicle type"
   ]
  },
  {
   "cell_type": "code",
   "execution_count": 25,
   "id": "269368d0",
   "metadata": {},
   "outputs": [
    {
     "data": {
      "text/plain": [
       "TYPE_VEHICLE\n",
       "Pick-up                      90886\n",
       "Truck                        87168\n",
       "Automobile                   60422\n",
       "Bus                          53908\n",
       "Station Wagones              41352\n",
       "Motor-cycle                  23311\n",
       "Tanker                        6500\n",
       "Special construction          4836\n",
       "Tractor                       3725\n",
       "Trailers and semitrailers      380\n",
       "Name: count, dtype: int64"
      ]
     },
     "execution_count": 25,
     "metadata": {},
     "output_type": "execute_result"
    }
   ],
   "source": [
    "insurance_data[\"TYPE_VEHICLE\"].value_counts()"
   ]
  },
  {
   "cell_type": "markdown",
   "id": "70205429",
   "metadata": {},
   "source": [
    "#### CCM_TON"
   ]
  },
  {
   "cell_type": "code",
   "execution_count": 26,
   "id": "026e836c",
   "metadata": {},
   "outputs": [
    {
     "data": {
      "text/plain": [
       "CCM_TON\n",
       "4164.00     44252\n",
       "2494.00     29786\n",
       "0.00        23002\n",
       "8226.00     14271\n",
       "9726.00     13625\n",
       "            ...  \n",
       "12809.00        1\n",
       "1890.00         1\n",
       "2693.00         1\n",
       "10121.00        1\n",
       "199.75          1\n",
       "Name: count, Length: 2439, dtype: int64"
      ]
     },
     "execution_count": 26,
     "metadata": {},
     "output_type": "execute_result"
    }
   ],
   "source": [
    "insurance_data[\"CCM_TON\"].value_counts()"
   ]
  },
  {
   "cell_type": "markdown",
   "id": "e89bd1e9",
   "metadata": {},
   "source": [
    "#### Vehicle maker"
   ]
  },
  {
   "cell_type": "code",
   "execution_count": 27,
   "id": "ba3e2188",
   "metadata": {},
   "outputs": [
    {
     "data": {
      "text/plain": [
       "MAKE\n",
       "TOYOTA             153401\n",
       "ISUZU               37516\n",
       "NISSAN              24247\n",
       "IVECO               15428\n",
       "SINO HOWO           13677\n",
       "                    ...  \n",
       "TOYOTA 4 RUNNER         1\n",
       "DEAWOO USE              1\n",
       "SEDEN                   1\n",
       "HYDROLIC                1\n",
       "FRANCE                  1\n",
       "Name: count, Length: 544, dtype: int64"
      ]
     },
     "execution_count": 27,
     "metadata": {},
     "output_type": "execute_result"
    }
   ],
   "source": [
    "insurance_data[\"MAKE\"].value_counts()"
   ]
  },
  {
   "cell_type": "markdown",
   "id": "0cd6d9fe",
   "metadata": {},
   "source": [
    "#### Primary function of vehicle"
   ]
  },
  {
   "cell_type": "code",
   "execution_count": 28,
   "id": "214215f9",
   "metadata": {},
   "outputs": [
    {
     "data": {
      "text/plain": [
       "USAGE\n",
       "Own Goods                 129952\n",
       "Private                   111810\n",
       "General Cartage            55266\n",
       "Fare Paying Passengers     32820\n",
       "Own service                29700\n",
       "Ambulance                   2578\n",
       "Taxi                        2410\n",
       "Agricultural Own Farm       2123\n",
       "Special Construction        2036\n",
       "Agricultural Any Farm       1473\n",
       "Car Hires                   1096\n",
       "Others                       655\n",
       "Learnes                      478\n",
       "Fire fighting                 91\n",
       "Name: count, dtype: int64"
      ]
     },
     "execution_count": 28,
     "metadata": {},
     "output_type": "execute_result"
    }
   ],
   "source": [
    "insurance_data[\"USAGE\"].value_counts()"
   ]
  },
  {
   "cell_type": "markdown",
   "id": "9500b076",
   "metadata": {},
   "source": [
    "#### Paid claim sum"
   ]
  },
  {
   "cell_type": "code",
   "execution_count": 29,
   "id": "e491864a",
   "metadata": {},
   "outputs": [
    {
     "data": {
      "text/plain": [
       "CLAIM_PAID\n",
       "40000.00     155\n",
       "20000.00     120\n",
       "10000.00     108\n",
       "30000.00      98\n",
       "5750.00       98\n",
       "            ... \n",
       "152628.84      1\n",
       "104812.92      1\n",
       "209469.56      1\n",
       "78287.06       1\n",
       "27421.77       1\n",
       "Name: count, Length: 36903, dtype: int64"
      ]
     },
     "execution_count": 29,
     "metadata": {},
     "output_type": "execute_result"
    }
   ],
   "source": [
    "insurance_data[\"CLAIM_PAID\"].value_counts()"
   ]
  }
 ],
 "metadata": {
  "kernelspec": {
   "display_name": "Python 3",
   "language": "python",
   "name": "python3"
  },
  "language_info": {
   "codemirror_mode": {
    "name": "ipython",
    "version": 3
   },
   "file_extension": ".py",
   "mimetype": "text/x-python",
   "name": "python",
   "nbconvert_exporter": "python",
   "pygments_lexer": "ipython3",
   "version": "3.12.5"
  }
 },
 "nbformat": 4,
 "nbformat_minor": 5
}
