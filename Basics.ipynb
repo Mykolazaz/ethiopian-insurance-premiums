{
 "cells": [
  {
   "cell_type": "markdown",
   "id": "a91689d1",
   "metadata": {},
   "source": [
    "# Predicting Ethiopian Vehicle Insurance Premiums\n",
    "\n",
    "- The goal of this project is to clean, analyse and predict vehicle insurance premiums of the state-owned Ethiopian Insurance Corporation (one of the biggest insurance companies in Ethiopia).\n",
    "- The dataset we'll use describes vehicles, their insurance premiums and other insurance related atributes from July 2011 to June 2018. It can be found on [Mendeley Data](https://data.mendeley.com/datasets/34nfrk36dt/1).\n",
    "\n"
   ]
  },
  {
   "cell_type": "markdown",
   "id": "d37555f6",
   "metadata": {},
   "source": [
    "#### Libraries"
   ]
  },
  {
   "cell_type": "code",
   "execution_count": null,
   "id": "dec7bdf4",
   "metadata": {},
   "outputs": [],
   "source": [
    "import pandas as pd\n",
    "import numpy as np\n",
    "import matplotlib.pyplot as plt\n",
    "from scipy.stats import expon, kstest\n",
    "import sklearn as sk\n",
    "from sklearn.linear_model import LinearRegression\n",
    "from fuzzywuzzy import process\n",
    "\n",
    "import requests\n",
    "from bs4 import BeautifulSoup\n",
    "\n",
    "#%config InlineBackend.figure_formats = ['svg']\n",
    "\n",
    "insurance_data_1 = pd.read_csv(\"insuranceData/motor_data11-14lats.csv\")\n",
    "insurance_data_2 = pd.read_csv(\"insuranceData/motor_data14-2018.csv\")"
   ]
  },
  {
   "cell_type": "markdown",
   "id": "8d24ccbb",
   "metadata": {},
   "source": [
    "### Predefined function "
   ]
  },
  {
   "cell_type": "code",
   "execution_count": null,
   "id": "499b8abd",
   "metadata": {},
   "outputs": [],
   "source": [
    "def plot_counts_and_premiums(ax, count_series, premium_series, xlabel):\n",
    "    index = count_series.index\n",
    "    x = np.arange(len(index))\n",
    "    w = 0.4\n",
    "\n",
    "    ax.bar(x - w/2, count_series.values, w, label='Policy Count', color='tab:red')\n",
    "    ax.set_ylabel('Policy Count', color='tab:red')\n",
    "    ax.tick_params(axis='y', labelcolor='tab:red')\n",
    "    ax.set_xlabel(xlabel)\n",
    "    ax.set_xticks(x)\n",
    "    ax.set_xticklabels(index)\n",
    "\n",
    "    ax2 = ax.twinx()\n",
    "    ax2.bar(x + w/2, premium_series.loc[index].values, w, label='Premium Sum', color='tab:blue')\n",
    "    ax2.set_ylabel('Premium Sum', color='tab:blue')\n",
    "    ax2.tick_params(axis='y', labelcolor='tab:blue')"
   ]
  },
  {
   "cell_type": "markdown",
   "id": "f24a004e",
   "metadata": {},
   "source": [
    "## Dataset overview\n",
    "\n",
    "Both of the provided dataset files include the same entry attributes and differ only in entry dates. They will need to be merged."
   ]
  },
  {
   "cell_type": "code",
   "execution_count": null,
   "id": "28e952f4",
   "metadata": {},
   "outputs": [],
   "source": [
    "insurance_data = pd.concat([insurance_data_1, insurance_data_2], ignore_index=True)\n",
    "\n",
    "print(insurance_data.shape)"
   ]
  },
  {
   "cell_type": "markdown",
   "id": "d41a73ae",
   "metadata": {},
   "source": [
    "We have 802036 insurance policy records and 16 policy related attributes.\n",
    "\n",
    "Now let's look whether the provided attributes have been read correctly."
   ]
  },
  {
   "cell_type": "code",
   "execution_count": null,
   "id": "3957213f",
   "metadata": {},
   "outputs": [],
   "source": [
    "insurance_data.head(10)"
   ]
  },
  {
   "cell_type": "markdown",
   "id": "f4b56e4c",
   "metadata": {},
   "source": [
    "There are multiple entries regarding the same vehicle as it has to be reinsured every year. That can lead to up to 7 entries for the same vehicle with only the premium amout fluctuating."
   ]
  },
  {
   "cell_type": "code",
   "execution_count": null,
   "id": "00010b1f",
   "metadata": {},
   "outputs": [],
   "source": [
    "insurance_data.info()"
   ]
  },
  {
   "cell_type": "markdown",
   "id": "7a6f31b2",
   "metadata": {},
   "source": [
    "Columns seem to have been read correctly. Let's now look at the values in individual columns."
   ]
  },
  {
   "cell_type": "markdown",
   "id": "1055e70c",
   "metadata": {},
   "source": [
    "### Sex"
   ]
  },
  {
   "cell_type": "code",
   "execution_count": null,
   "id": "658bf484",
   "metadata": {},
   "outputs": [],
   "source": [
    "insurance_data[\"SEX\"].value_counts()"
   ]
  },
  {
   "cell_type": "markdown",
   "id": "25aa068c",
   "metadata": {},
   "source": [
    "In the dataset, there are 3 unique sex values with 0 being legal entities, 1 - males and 2 - females. The number of insurance contracts in which men are the policyholders is 4.67 times greater that the number of contracts with female policyholders. That is due to women being less likely to have a drivers license in Ethiopia.\n",
    "\n",
    "Let's remap the value for better clarity."
   ]
  },
  {
   "cell_type": "code",
   "execution_count": null,
   "id": "c985b23b",
   "metadata": {},
   "outputs": [],
   "source": [
    "sex_mapping = {0:'LEGAL ENTITY', 1:'MALE', 2:'FEMALE'}\n",
    "\n",
    "insurance_data[\"SEX\"] = insurance_data[\"SEX\"].map(sex_mapping)\n",
    "\n",
    "insurance_data[\"SEX\"].value_counts()"
   ]
  },
  {
   "cell_type": "markdown",
   "id": "1fe7cb2e",
   "metadata": {},
   "source": [
    "### Insurance start & end date"
   ]
  },
  {
   "cell_type": "code",
   "execution_count": null,
   "id": "e8697572",
   "metadata": {},
   "outputs": [],
   "source": [
    "insurance_data[\"INSR_BEGIN\"].value_counts()"
   ]
  },
  {
   "cell_type": "code",
   "execution_count": null,
   "id": "b66c0d4c",
   "metadata": {},
   "outputs": [],
   "source": [
    "insurance_data[\"INSR_END\"].value_counts()"
   ]
  },
  {
   "cell_type": "markdown",
   "id": "ca173454",
   "metadata": {},
   "source": [
    "There do not seem to be any obvious errors in the data. Yet, we must check whether there are entries where the insurance start date is later than the end date."
   ]
  },
  {
   "cell_type": "code",
   "execution_count": null,
   "id": "54392fe4",
   "metadata": {},
   "outputs": [],
   "source": [
    "insurance_data[\"INSR_BEGIN\"] = pd.to_datetime(insurance_data[\"INSR_BEGIN\"], format=\"%d-%b-%y\")\n",
    "\n",
    "insurance_data[\"INSR_END\"] = pd.to_datetime(insurance_data[\"INSR_END\"], format=\"%d-%b-%y\")\n",
    "\n",
    "end_greater_start = insurance_data[\"INSR_BEGIN\"] > insurance_data[\"INSR_END\"]\n",
    "length = len(end_greater_start[end_greater_start == True])\n",
    "length"
   ]
  },
  {
   "cell_type": "markdown",
   "id": "5ec81d21",
   "metadata": {},
   "source": [
    "No end values are earlier than start values. We can now visualize the variable data."
   ]
  },
  {
   "cell_type": "code",
   "execution_count": null,
   "id": "a565c067",
   "metadata": {},
   "outputs": [],
   "source": [
    "insurance_data[\"INSR_START_MONTH\"] = pd.to_datetime(insurance_data[\"INSR_BEGIN\"], format=\"%d-%b-%y\").dt.month\n",
    "insurance_data[\"INSR_START_YEAR\"] = pd.to_datetime(insurance_data[\"INSR_BEGIN\"], format=\"%d-%b-%y\").dt.year\n",
    "\n",
    "start_months = insurance_data[\"INSR_START_MONTH\"].value_counts().sort_index()\n",
    "start_months_premium = insurance_data.groupby(\"INSR_START_MONTH\")[\"PREMIUM\"].sum()\n",
    "\n",
    "start_years = insurance_data[\"INSR_START_YEAR\"].value_counts().sort_index()\n",
    "start_years_premium = insurance_data.groupby(\"INSR_START_YEAR\")[\"PREMIUM\"].sum()\n",
    "\n",
    "fig, axes = plt.subplots(1, 2, figsize=(12, 5))\n",
    "\n",
    "plot_counts_and_premiums(axes[0], start_months, start_months_premium, 'Month')\n",
    "plot_counts_and_premiums(axes[1], start_years, start_years_premium, 'Year')\n",
    "\n",
    "fig.tight_layout()\n",
    "plt.show()"
   ]
  },
  {
   "cell_type": "markdown",
   "id": "9b2e5a39",
   "metadata": {},
   "source": [
    "From the charts it becomes clear that policy count closely correlates with premium sums with regard to both the month and the year of the insurance start date. One month, July, stand out as the month in which the most policies are introduced. In terms of the trend regarding the year, there is a clear pattern of growth from 2011 to 2017 and a sharp drop off of new policies in 2018. The drop off can be explained by the end of data collection period being June of 2018. We can check whether growth in the month of June in the respective years is equally as rapid."
   ]
  },
  {
   "cell_type": "code",
   "execution_count": null,
   "id": "f62fda67",
   "metadata": {},
   "outputs": [],
   "source": [
    "before_june = insurance_data[(insurance_data[\"INSR_START_YEAR\"].isin([2017, 2018])) & (insurance_data[\"INSR_START_MONTH\"] < 7)]\n",
    "\n",
    "before_june.groupby(\"INSR_START_YEAR\").size().reset_index(name='Policy Count')"
   ]
  },
  {
   "cell_type": "markdown",
   "id": "ff979cf8",
   "metadata": {},
   "source": [
    "The pace of growth is about the same.\n",
    "\n",
    "Let's also create a dummy variable for insurance start days."
   ]
  },
  {
   "cell_type": "code",
   "execution_count": null,
   "id": "50cd2325",
   "metadata": {},
   "outputs": [],
   "source": [
    "insurance_data[\"INSR_START_DAY\"] = pd.to_datetime(insurance_data[\"INSR_BEGIN\"], format=\"%d-%b-%y\").dt.day"
   ]
  },
  {
   "cell_type": "markdown",
   "id": "0acf29d5",
   "metadata": {},
   "source": [
    "### Effective year"
   ]
  },
  {
   "cell_type": "code",
   "execution_count": null,
   "id": "35081caa",
   "metadata": {},
   "outputs": [],
   "source": [
    "insurance_data[\"EFFECTIVE_YR\"].value_counts()"
   ]
  },
  {
   "cell_type": "markdown",
   "id": "09436858",
   "metadata": {},
   "source": [
    "The effective year variable indicates what year the policy came into effect (was first insured with the company). There are numerous records that indicate a year before the historic start date of the dataset (2011).\n",
    "\n",
    "Yet, the column contains values that are not indicative of a number and should be removed. Since there are a total of 802036 records, we can afford to lose quite a few. We also need to convert the years into a four-digit number as a two-digit year encoding is only common on legacy data storage systems."
   ]
  },
  {
   "cell_type": "code",
   "execution_count": null,
   "id": "4fd50f4c",
   "metadata": {},
   "outputs": [],
   "source": [
    "insurance_data = insurance_data[insurance_data[\"EFFECTIVE_YR\"].astype(str).str.match(r\"^\\d{2}$\")]\n",
    "\n",
    "def convert_year(y):\n",
    "    y = int(y)\n",
    "    if y > 18:\n",
    "        return 1900 + y\n",
    "    else:\n",
    "        return 2000 + y\n",
    "\n",
    "insurance_data[\"EFFECTIVE_YR_FULL\"] = insurance_data[\"EFFECTIVE_YR\"].apply(convert_year)\n",
    "\n",
    "insurance_data.shape"
   ]
  },
  {
   "cell_type": "markdown",
   "id": "9d44030f",
   "metadata": {},
   "source": [
    "After cleaning the effective year column, we have lost 1171 rows."
   ]
  },
  {
   "cell_type": "code",
   "execution_count": null,
   "id": "58f8cb75",
   "metadata": {},
   "outputs": [],
   "source": [
    "year_counts = insurance_data[\"EFFECTIVE_YR_FULL\"].value_counts().sort_index()\n",
    "\n",
    "year_counts = year_counts[\n",
    "    (year_counts.index >= 1992) &\n",
    "    (year_counts.index <= 2018)\n",
    "]\n",
    "\n",
    "year_counts.plot(kind='bar')\n",
    "plt.xlabel(\"Effective Year\")\n",
    "plt.ylabel(\"Policy Count\")\n",
    "plt.xticks(rotation=45)\n",
    "plt.grid(axis='y', linestyle='--', alpha=0.7)\n",
    "plt.tight_layout()\n",
    "plt.show()"
   ]
  },
  {
   "cell_type": "code",
   "execution_count": null,
   "id": "647d5589",
   "metadata": {},
   "outputs": [],
   "source": [
    "year_counts = insurance_data[\"EFFECTIVE_YR_FULL\"].value_counts().sort_index()\n",
    "print(year_counts)"
   ]
  },
  {
   "cell_type": "markdown",
   "id": "34d22951",
   "metadata": {},
   "source": [
    "The data shows that most of the insured vehicles were first insured in 2011 and later. After contacting the postdoctoral fellow that published the dataset, I was informed that the meaning of this variable is not very well documented. There are values of 1947 and prior, eventhough, in Ethiopia, the first motor insurance was issued in 1947. This variable will be dropped."
   ]
  },
  {
   "cell_type": "code",
   "execution_count": null,
   "id": "0d7ad62d",
   "metadata": {},
   "outputs": [],
   "source": [
    "insurance_data.drop(columns=[\"EFFECTIVE_YR\", \"EFFECTIVE_YR_FULL\"], inplace=True)"
   ]
  },
  {
   "cell_type": "markdown",
   "id": "8d0df4d4",
   "metadata": {},
   "source": [
    "### Insurance type"
   ]
  },
  {
   "cell_type": "code",
   "execution_count": null,
   "id": "1c16a649",
   "metadata": {},
   "outputs": [],
   "source": [
    "insurance_data[\"INSR_TYPE\"].value_counts()"
   ]
  },
  {
   "cell_type": "markdown",
   "id": "e0cbe8b1",
   "metadata": {},
   "source": [
    "There are a total of three types of insurance: 1201 - private, 1202 - commercial and 1204 - motor trade road risk (for motor trade workers that drive vehicles they do not personally own, such as mechanics when testing repaired vehicles).\n",
    "\n",
    "Let's change the values so they make more sense."
   ]
  },
  {
   "cell_type": "code",
   "execution_count": null,
   "id": "b84a932e",
   "metadata": {},
   "outputs": [],
   "source": [
    "insurance_type_mapping = {1202:'PRIVATE', 1201:'COMMERCIAL', 1204:'MOTOR TRADE'}\n",
    "\n",
    "insurance_data[\"INSR_TYPE\"] = insurance_data[\"INSR_TYPE\"].map(insurance_type_mapping)"
   ]
  },
  {
   "cell_type": "code",
   "execution_count": null,
   "id": "8dc469f4",
   "metadata": {},
   "outputs": [],
   "source": [
    "insurance_data[\"INSR_TYPE\"].value_counts()"
   ]
  },
  {
   "cell_type": "markdown",
   "id": "ffbeefb2",
   "metadata": {},
   "source": [
    "### Insured value"
   ]
  },
  {
   "cell_type": "code",
   "execution_count": null,
   "id": "0e0866ef",
   "metadata": {},
   "outputs": [],
   "source": [
    "insurance_data[\"INSURED_VALUE\"].value_counts()"
   ]
  },
  {
   "cell_type": "markdown",
   "id": "9dc1ee32",
   "metadata": {},
   "source": [
    "343235 vehicles in the dataset have no provided insurance value. Insured value of 0 means the policyholder has the liability insurance coverage only, not the comprehensive coverage while insured value higher than 0 indicates comprehensive coverage.\n",
    "\n",
    "The difference between the liability and comprehensive insurance is that liability insurance covers damage or injury you cause to other people or their property (and not repairs to your vehicle) and comprehensive insurance covers non-collision damage to your own car.\n",
    "\n",
    "For the purpose of developing a model, we may create an additional variable that indicates the type of insurance the policyholder has."
   ]
  },
  {
   "cell_type": "code",
   "execution_count": null,
   "id": "a28386bb",
   "metadata": {},
   "outputs": [],
   "source": [
    "insurance_data[\"INSR_COVER\"] = np.where(\n",
    "    insurance_data[\"INSURED_VALUE\"] == 0,\n",
    "    \"liability\",\n",
    "    \"comprehensive\"\n",
    ")\n",
    "\n",
    "insurance_data[\"INSR_COVER\"].value_counts()"
   ]
  },
  {
   "cell_type": "code",
   "execution_count": null,
   "id": "7428d9d6",
   "metadata": {},
   "outputs": [],
   "source": [
    "insurance_data[\"INSURED_VALUE\"].describe()"
   ]
  },
  {
   "cell_type": "markdown",
   "id": "5634843f",
   "metadata": {},
   "source": [
    "### Object ID"
   ]
  },
  {
   "cell_type": "code",
   "execution_count": null,
   "id": "7ab054e2",
   "metadata": {},
   "outputs": [],
   "source": [
    "insurance_data[\"OBJECT_ID\"].value_counts()"
   ]
  },
  {
   "cell_type": "markdown",
   "id": "eb9e4b26",
   "metadata": {},
   "source": [
    "Some vehicles appear more that 7 times which is not possible."
   ]
  },
  {
   "cell_type": "code",
   "execution_count": null,
   "id": "e37b7b4f",
   "metadata": {},
   "outputs": [],
   "source": [
    "insurance_data[insurance_data[\"OBJECT_ID\"].astype(str) == \"5000116673\"]"
   ]
  },
  {
   "cell_type": "code",
   "execution_count": null,
   "id": "7642207c",
   "metadata": {},
   "outputs": [],
   "source": [
    "(insurance_data[\"OBJECT_ID\"].value_counts() > 7).sum()"
   ]
  },
  {
   "cell_type": "markdown",
   "id": "08d92c6b",
   "metadata": {},
   "source": [
    "There are a total of 7269 OBJECT_IDs that apprear more than 7 times. This issue should be with the parties responsible with data collection. Nevertheless, correcting each one would have to be done manually by hand and therefore it would be much simpler just to remove the entries completely. In a real-world scenario, irregular values should be investigated."
   ]
  },
  {
   "cell_type": "code",
   "execution_count": null,
   "id": "706ebb40",
   "metadata": {},
   "outputs": [],
   "source": [
    "object_id_counts = insurance_data[\"OBJECT_ID\"].value_counts()\n",
    "\n",
    "ids_to_remove = object_id_counts[object_id_counts > 7].index\n",
    "\n",
    "insurance_data = insurance_data[~insurance_data[\"OBJECT_ID\"].isin(ids_to_remove)]\n",
    "\n",
    "print(insurance_data.shape)"
   ]
  },
  {
   "cell_type": "markdown",
   "id": "55c66598",
   "metadata": {},
   "source": [
    "### Year of production"
   ]
  },
  {
   "cell_type": "code",
   "execution_count": null,
   "id": "b8d72714",
   "metadata": {},
   "outputs": [],
   "source": [
    "insurance_data[\"PROD_YEAR\"].value_counts()"
   ]
  },
  {
   "cell_type": "code",
   "execution_count": null,
   "id": "2f68c03f",
   "metadata": {},
   "outputs": [],
   "source": [
    "insurance_data[\"PROD_YEAR\"].describe()"
   ]
  },
  {
   "cell_type": "code",
   "execution_count": null,
   "id": "f53767bb",
   "metadata": {},
   "outputs": [],
   "source": [
    "insurance_data[\"PROD_YEAR\"].plot(kind='hist', bins=40)"
   ]
  },
  {
   "cell_type": "markdown",
   "id": "edfe9103",
   "metadata": {},
   "source": [
    "There are no abnormalities in this attribute."
   ]
  },
  {
   "cell_type": "markdown",
   "id": "c9dde2fc",
   "metadata": {},
   "source": [
    "### Number of seats"
   ]
  },
  {
   "cell_type": "code",
   "execution_count": null,
   "id": "f9333ebb",
   "metadata": {},
   "outputs": [],
   "source": [
    "insurance_data[\"SEATS_NUM\"].describe()"
   ]
  },
  {
   "cell_type": "code",
   "execution_count": null,
   "id": "6f33d16b",
   "metadata": {},
   "outputs": [],
   "source": [
    "insurance_data[\"SEATS_NUM\"].value_counts()"
   ]
  },
  {
   "cell_type": "markdown",
   "id": "062328f3",
   "metadata": {},
   "source": [
    "There are a total of 53866 vehicles with 0 seats which is impossible. Also, the number of seats should not exceed 256 (seats in the largest bus in the world). Other values will be considered correct."
   ]
  },
  {
   "cell_type": "code",
   "execution_count": null,
   "id": "c10fab72",
   "metadata": {},
   "outputs": [],
   "source": [
    "insurance_data = insurance_data[(insurance_data[\"SEATS_NUM\"] > 0) & (insurance_data[\"SEATS_NUM\"] <= 256)]\n",
    "\n",
    "print(insurance_data.shape)"
   ]
  },
  {
   "cell_type": "markdown",
   "id": "cb7347cc",
   "metadata": {},
   "source": [
    "### Carrying capacity"
   ]
  },
  {
   "cell_type": "code",
   "execution_count": null,
   "id": "fd115a43",
   "metadata": {},
   "outputs": [],
   "source": [
    "insurance_data[\"CARRYING_CAPACITY\"].value_counts()"
   ]
  },
  {
   "cell_type": "markdown",
   "id": "35000dcd",
   "metadata": {},
   "source": [
    "It is clear that the seat number variable and the carrying capacity variable are not clearly differentiated. They have been mixed up and should be removed."
   ]
  },
  {
   "cell_type": "code",
   "execution_count": null,
   "id": "6e2f9269",
   "metadata": {},
   "outputs": [],
   "source": [
    "insurance_data.drop(columns=[\"SEATS_NUM\", \"CARRYING_CAPACITY\"], inplace=True)"
   ]
  },
  {
   "cell_type": "markdown",
   "id": "34c74825",
   "metadata": {},
   "source": [
    "### Vehicle type"
   ]
  },
  {
   "cell_type": "code",
   "execution_count": null,
   "id": "269368d0",
   "metadata": {},
   "outputs": [],
   "source": [
    "insurance_data[\"TYPE_VEHICLE\"].value_counts()"
   ]
  },
  {
   "cell_type": "markdown",
   "id": "093d8fdc",
   "metadata": {},
   "source": [
    "Nothing out of the ordinary here."
   ]
  },
  {
   "cell_type": "markdown",
   "id": "70205429",
   "metadata": {},
   "source": [
    "### Vehicle Weight"
   ]
  },
  {
   "cell_type": "code",
   "execution_count": null,
   "id": "7e2f235f",
   "metadata": {},
   "outputs": [],
   "source": [
    "insurance_data[\"CCM_TON\"].describe()"
   ]
  },
  {
   "cell_type": "code",
   "execution_count": null,
   "id": "026e836c",
   "metadata": {},
   "outputs": [],
   "source": [
    "insurance_data[\"CCM_TON\"].value_counts()"
   ]
  },
  {
   "cell_type": "markdown",
   "id": "ea40c7b7",
   "metadata": {},
   "source": [
    "This variable is related to the weight of the vehicle. Since it is not clearly described how and what units are being used, we will remove it."
   ]
  },
  {
   "cell_type": "code",
   "execution_count": null,
   "id": "40611407",
   "metadata": {},
   "outputs": [],
   "source": [
    "insurance_data.drop(columns=[\"CCM_TON\"], inplace=True)"
   ]
  },
  {
   "cell_type": "markdown",
   "id": "e89bd1e9",
   "metadata": {},
   "source": [
    "### Vehicle maker"
   ]
  },
  {
   "cell_type": "code",
   "execution_count": null,
   "id": "ba3e2188",
   "metadata": {},
   "outputs": [],
   "source": [
    "insurance_data[\"MAKE\"].value_counts()"
   ]
  },
  {
   "cell_type": "code",
   "execution_count": null,
   "id": "f7bfe48e",
   "metadata": {},
   "outputs": [],
   "source": [
    "insurance_data[\"MAKE\"].value_counts()[insurance_data[\"MAKE\"].value_counts() <= 200]"
   ]
  },
  {
   "cell_type": "markdown",
   "id": "d99ad2af",
   "metadata": {},
   "source": [
    "There is a large number of vehicle maker names that are not representative of the manufacturer or are miss-spellings of the brand name, with 'TOYOTA MERCHEDIS' being the most humorous one. Since there is a total number of 657 unique brands, individual corrections would be too cumbersome. Instead, we can use a list of car names and check for matches in the dataset.\n",
    "\n",
    "We will scrape a complete list of car brands from a car brand [website](https://www.carlogos.org/)."
   ]
  },
  {
   "cell_type": "code",
   "execution_count": null,
   "id": "e298c23b",
   "metadata": {},
   "outputs": [],
   "source": [
    "url = \"https://www.carlogos.org/car-brands-a-z/\"\n",
    "\n",
    "headers = {\n",
    "    \"User-Agent\": (\n",
    "        \"Mozilla/5.0 (Windows NT 10.0; Win64; x64) \"\n",
    "        \"AppleWebKit/537.36 (KHTML, like Gecko) \"\n",
    "        \"Chrome/115.0.0.0 Safari/537.36\"\n",
    "    )\n",
    "}\n",
    "\n",
    "response = requests.get(url, headers=headers)\n",
    "response.raise_for_status()\n",
    "\n",
    "soup = BeautifulSoup(response.text, \"html.parser\")\n",
    "\n",
    "brands = []\n",
    "\n",
    "for dd in soup.find_all(\"dd\"):\n",
    "    a_tag = dd.find(\"a\")\n",
    "    if a_tag and a_tag.text.strip():\n",
    "        brands.append(a_tag.text.strip())\n",
    "\n",
    "brands = list(dict.fromkeys(brands))\n",
    "\n",
    "print(brands)\n",
    "\n",
    "len(brands)"
   ]
  },
  {
   "cell_type": "markdown",
   "id": "464ba5d3",
   "metadata": {},
   "source": [
    "The website states that there are 383 car brands on the website. The beginning of the list contains countries and the end contains other unrelated text. That should prove easy to clean."
   ]
  },
  {
   "cell_type": "code",
   "execution_count": null,
   "id": "5257a0bc",
   "metadata": {},
   "outputs": [],
   "source": [
    "brands_clean = brands[21:-8]\n",
    "\n",
    "print(brands_clean)\n",
    "\n",
    "len(brands_clean)"
   ]
  },
  {
   "cell_type": "markdown",
   "id": "ffbd6e98",
   "metadata": {},
   "source": [
    "We can now look for matching brands in our dataset. For that we will use the fuzzywuzzy library and search for matches using the Levenshtein distance."
   ]
  },
  {
   "cell_type": "code",
   "execution_count": null,
   "id": "b26e942a",
   "metadata": {},
   "outputs": [],
   "source": [
    "def match_brand(brand):\n",
    "    match, score = process.extractOne(brand, brands_clean)\n",
    "    print(match)\n",
    "    return match if score >= 85 else 'UNKNOWN'\n",
    "\n",
    "insurance_data[\"MANUFACTURER\"] = insurance_data[\"MAKE\"].apply(match_brand)\n",
    "\n",
    "insurance_data[\"MANUFACTURER\"].unique()"
   ]
  },
  {
   "cell_type": "markdown",
   "id": "0cd6d9fe",
   "metadata": {},
   "source": [
    "### Primary function of vehicle"
   ]
  },
  {
   "cell_type": "code",
   "execution_count": null,
   "id": "214215f9",
   "metadata": {},
   "outputs": [],
   "source": [
    "insurance_data[\"USAGE\"].value_counts()"
   ]
  },
  {
   "cell_type": "markdown",
   "id": "0fb89aaf",
   "metadata": {},
   "source": [
    "All functions seem valid."
   ]
  },
  {
   "cell_type": "markdown",
   "id": "9500b076",
   "metadata": {},
   "source": [
    "### Paid claim sum"
   ]
  },
  {
   "cell_type": "code",
   "execution_count": null,
   "id": "e491864a",
   "metadata": {},
   "outputs": [],
   "source": [
    "insurance_data[\"CLAIM_PAID\"] = insurance_data[\"CLAIM_PAID\"].replace(np.nan, 0)\n",
    "\n",
    "pd.set_option('display.float_format', '{:.2f}'.format)\n",
    "\n",
    "print(insurance_data[\"CLAIM_PAID\"].describe())"
   ]
  },
  {
   "cell_type": "code",
   "execution_count": null,
   "id": "354534eb",
   "metadata": {},
   "outputs": [],
   "source": [
    "insurance_data[\"CLAIM_PAID\"].median()"
   ]
  },
  {
   "cell_type": "code",
   "execution_count": null,
   "id": "59fbe170",
   "metadata": {},
   "outputs": [],
   "source": [
    "len(insurance_data[insurance_data[\"CLAIM_PAID\"] == 0])"
   ]
  },
  {
   "cell_type": "markdown",
   "id": "9040a35c",
   "metadata": {},
   "source": [
    "The payout values seem realistic since they are in Ethiopian birr. The largest paid sum is around 1,100,000 USD and the median no payout at all (0 USD)."
   ]
  },
  {
   "cell_type": "markdown",
   "id": "d2f4522c",
   "metadata": {},
   "source": [
    "### Insurance premium\n",
    "\n",
    "The premium amounts are provided in Ethiopian birr (1000 Birr = 7,3 USD)."
   ]
  },
  {
   "cell_type": "code",
   "execution_count": null,
   "id": "f3596c4b",
   "metadata": {},
   "outputs": [],
   "source": [
    "insurance_data[\"PREMIUM\"][insurance_data[\"PREMIUM\"] <= 0].count()"
   ]
  },
  {
   "cell_type": "markdown",
   "id": "a09ba709",
   "metadata": {},
   "source": [
    "There are 29 vehicles with a premium of 0 or less. This is not acceptable and we will remove them. I was informed by the publisher of the dataset that the company follows a principle of \"No premium, no insurance\". This method of record keeping is ineffective."
   ]
  },
  {
   "cell_type": "code",
   "execution_count": null,
   "id": "2537504c",
   "metadata": {},
   "outputs": [],
   "source": [
    "insurance_data = insurance_data[insurance_data[\"PREMIUM\"] > 0]\n",
    "\n",
    "insurance_data[\"PREMIUM\"].describe()"
   ]
  },
  {
   "cell_type": "markdown",
   "id": "6a51351e",
   "metadata": {},
   "source": [
    "From the variable description it becomes clear that it is nowhere close to normality."
   ]
  },
  {
   "cell_type": "code",
   "execution_count": null,
   "id": "27753503",
   "metadata": {},
   "outputs": [],
   "source": [
    "params = expon.fit(insurance_data[\"PREMIUM\"])\n",
    "\n",
    "x = np.linspace(0, 50000, 1000)\n",
    "pdf = expon.pdf(x, *params)\n",
    "\n",
    "plt.hist(insurance_data[\"PREMIUM\"], bins=500, density=True)\n",
    "plt.plot(x, pdf, 'r')\n",
    "plt.xlim([0, 50000])\n",
    "plt.show()"
   ]
  },
  {
   "cell_type": "markdown",
   "id": "e82a08b6",
   "metadata": {},
   "source": [
    "The distribution closely resembles an exponential one."
   ]
  },
  {
   "cell_type": "code",
   "execution_count": null,
   "id": "c459432b",
   "metadata": {},
   "outputs": [],
   "source": [
    "D, p_value = kstest(insurance_data[\"PREMIUM\"], 'expon', args=params)\n",
    "\n",
    "print(f\"P-value: {p_value:.4f}\")"
   ]
  },
  {
   "cell_type": "markdown",
   "id": "a1e25c02",
   "metadata": {},
   "source": [
    "As the p-value is less than 0.05, we fail to reject the null hypothesis. This distribution might as well exponential."
   ]
  },
  {
   "cell_type": "code",
   "execution_count": null,
   "id": "4a801a03",
   "metadata": {},
   "outputs": [],
   "source": [
    "log_premiums = np.log(insurance_data[\"PREMIUM\"])\n",
    "\n",
    "fig, axes = plt.subplots(2, 1, figsize=(8, 6), gridspec_kw={'height_ratios': [1, 4]})\n",
    "\n",
    "axes[0].boxplot(log_premiums, vert=False, widths=0.6)\n",
    "axes[0].set_xticks([])\n",
    "axes[0].set_yticks([])\n",
    "\n",
    "axes[1].hist(log_premiums, bins=22)\n",
    "axes[1].set_xlabel('Log Premium')\n",
    "\n",
    "plt.tight_layout(h_pad=0)\n",
    "\n",
    "plt.show()"
   ]
  },
  {
   "cell_type": "markdown",
   "id": "a857a159",
   "metadata": {},
   "source": [
    "### Modelling"
   ]
  },
  {
   "cell_type": "code",
   "execution_count": null,
   "id": "366581a6",
   "metadata": {},
   "outputs": [],
   "source": [
    "insurance_data.info()"
   ]
  },
  {
   "cell_type": "markdown",
   "id": "3b35675d",
   "metadata": {},
   "source": [
    "We are left with 12 variables that could be used for modelling: SEX, INSR_TYPE, INSURED_VALUE, PROD_YEAR, TYPE_VEHICLE, MAKE, USAGE, CLAIM_PAID, INSR_COVER, INSR_START_DAY, INSR_START_MONTH and INSR_START_YEAR."
   ]
  },
  {
   "cell_type": "code",
   "execution_count": null,
   "id": "308c61b0",
   "metadata": {},
   "outputs": [],
   "source": [
    "model = LinearRegression()\n",
    "\n",
    "X = insurance_data[[\"INSR_TYPE\", \"INSURED_VALUE\", \"CLAIM_PAID\", \"INSR_COVER\"]].copy()\n",
    "\n",
    "X = pd.get_dummies(X, columns=[\"INSR_TYPE\", \"INSR_COVER\"], drop_first=True)\n",
    "\n",
    "Y = insurance_data[\"PREMIUM\"]\n",
    "\n",
    "X_train, X_test, Y_train, Y_test = sk.model_selection.train_test_split(X, Y, test_size=0.2, random_state=87)\n",
    "\n",
    "model.fit(X_train, Y_train)\n",
    "\n",
    "Y_pred = model.predict(X_test)\n",
    "\n",
    "r_sq = model.score(X_test, Y_test)\n",
    "\n",
    "mae = sk.metrics.mean_absolute_error(Y_test, Y_pred)\n",
    "\n",
    "r_sq, mae"
   ]
  },
  {
   "cell_type": "code",
   "execution_count": null,
   "id": "31ec912b",
   "metadata": {},
   "outputs": [],
   "source": [
    "plt.scatter(Y_test, Y_pred, alpha=0.2)\n",
    "plt.plot([Y_test.min(), Y_test.max()], [Y_test.min(), Y_test.max()], 'r')\n",
    "plt.title(\"Accuracy Plot\")\n",
    "plt.xlabel(\"Actual\")\n",
    "plt.ylabel(\"Predicted\")\n",
    "plt.show()"
   ]
  },
  {
   "cell_type": "code",
   "execution_count": null,
   "id": "2b51098d",
   "metadata": {},
   "outputs": [],
   "source": [
    "plt.scatter(Y_pred, Y_test - Y_pred, alpha=0.7)\n",
    "plt.axhline(y=0, color='r')\n",
    "plt.xlabel(\"Predicted\")\n",
    "plt.ylabel(\"Residuals\")\n",
    "plt.title(\"Residual Plot\")\n",
    "plt.show()"
   ]
  },
  {
   "cell_type": "code",
   "execution_count": null,
   "id": "2c758842",
   "metadata": {},
   "outputs": [],
   "source": [
    "correlation = np.corrcoef(Y_test, Y_pred)[0, 1]\n",
    "print(f\"Correlation: {correlation:.2f}\")"
   ]
  },
  {
   "cell_type": "code",
   "execution_count": null,
   "id": "fe657025",
   "metadata": {},
   "outputs": [],
   "source": [
    "plt.hist(Y_test - Y_pred, bins=30, density=True, alpha=0.7)\n",
    "plt.xlabel(\"Residuals\")\n",
    "plt.ylabel(\"Frequency\")\n",
    "plt.title(\"Distribution of Residuals\")\n",
    "plt.show()"
   ]
  }
 ],
 "metadata": {
  "kernelspec": {
   "display_name": "Python 3",
   "language": "python",
   "name": "python3"
  },
  "language_info": {
   "codemirror_mode": {
    "name": "ipython",
    "version": 3
   },
   "file_extension": ".py",
   "mimetype": "text/x-python",
   "name": "python",
   "nbconvert_exporter": "python",
   "pygments_lexer": "ipython3",
   "version": "3.12.5"
  }
 },
 "nbformat": 4,
 "nbformat_minor": 5
}
