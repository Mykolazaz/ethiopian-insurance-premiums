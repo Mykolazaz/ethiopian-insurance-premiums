{
 "cells": [
  {
   "cell_type": "markdown",
   "id": "a91689d1",
   "metadata": {},
   "source": [
    "# Predicting Ethiopian Vehicle Insurance Premiums\n",
    "\n",
    "- The goal of this project is to clean, analyse and predict vehicle insurance premiums of the state-owned Ethiopian Insurance Corporation (one of the biggest insurance companies in Ethiopia).\n",
    "- The dataset we'll use describes vehicles, their insurance premiums and other insurance related atributes from July 2011 to June 2018. It can be found on [Mendeley Data](https://data.mendeley.com/datasets/34nfrk36dt/1).\n",
    "\n"
   ]
  },
  {
   "cell_type": "markdown",
   "id": "d37555f6",
   "metadata": {},
   "source": [
    "#### Libraries"
   ]
  },
  {
   "cell_type": "code",
   "execution_count": 1,
   "id": "dec7bdf4",
   "metadata": {},
   "outputs": [],
   "source": [
    "import pandas as pd\n",
    "import numpy as np\n",
    "import matplotlib.pyplot as plt\n",
    "from scipy.stats import expon, kstest\n",
    "import sklearn as sk\n",
    "from sklearn.linear_model import LinearRegression\n",
    "from fuzzywuzzy import process\n",
    "\n",
    "import requests\n",
    "from bs4 import BeautifulSoup\n",
    "\n",
    "#%config InlineBackend.figure_formats = ['svg']\n",
    "\n",
    "insurance_data_1 = pd.read_csv(\"insuranceData/motor_data11-14lats.csv\")\n",
    "insurance_data_2 = pd.read_csv(\"insuranceData/motor_data14-2018.csv\")"
   ]
  },
  {
   "cell_type": "markdown",
   "id": "8d24ccbb",
   "metadata": {},
   "source": [
    "### Predefined function "
   ]
  },
  {
   "cell_type": "code",
   "execution_count": 2,
   "id": "499b8abd",
   "metadata": {},
   "outputs": [],
   "source": [
    "def plot_counts_and_premiums(ax, count_series, premium_series, xlabel):\n",
    "    index = count_series.index\n",
    "    x = np.arange(len(index))\n",
    "    w = 0.4\n",
    "\n",
    "    ax.bar(x - w/2, count_series.values, w, label='Policy Count', color='tab:red')\n",
    "    ax.set_ylabel('Policy Count', color='tab:red')\n",
    "    ax.tick_params(axis='y', labelcolor='tab:red')\n",
    "    ax.set_xlabel(xlabel)\n",
    "    ax.set_xticks(x)\n",
    "    ax.set_xticklabels(index)\n",
    "\n",
    "    ax2 = ax.twinx()\n",
    "    ax2.bar(x + w/2, premium_series.loc[index].values, w, label='Premium Sum', color='tab:blue')\n",
    "    ax2.set_ylabel('Premium Sum', color='tab:blue')\n",
    "    ax2.tick_params(axis='y', labelcolor='tab:blue')"
   ]
  },
  {
   "cell_type": "markdown",
   "id": "f24a004e",
   "metadata": {},
   "source": [
    "## Dataset overview\n",
    "\n",
    "Both of the provided dataset files include the same entry attributes and differ only in entry dates. They will need to be merged."
   ]
  },
  {
   "cell_type": "code",
   "execution_count": 3,
   "id": "28e952f4",
   "metadata": {},
   "outputs": [
    {
     "name": "stdout",
     "output_type": "stream",
     "text": [
      "(802036, 16)\n"
     ]
    }
   ],
   "source": [
    "insurance_data = pd.concat([insurance_data_1, insurance_data_2], ignore_index=True)\n",
    "\n",
    "print(insurance_data.shape)"
   ]
  },
  {
   "cell_type": "markdown",
   "id": "d41a73ae",
   "metadata": {},
   "source": [
    "We have 802036 insurance policy records and 16 policy related attributes.\n",
    "\n",
    "Now let's look whether the provided attributes have been read correctly."
   ]
  },
  {
   "cell_type": "code",
   "execution_count": 4,
   "id": "3957213f",
   "metadata": {},
   "outputs": [
    {
     "data": {
      "text/html": [
       "<div>\n",
       "<style scoped>\n",
       "    .dataframe tbody tr th:only-of-type {\n",
       "        vertical-align: middle;\n",
       "    }\n",
       "\n",
       "    .dataframe tbody tr th {\n",
       "        vertical-align: top;\n",
       "    }\n",
       "\n",
       "    .dataframe thead th {\n",
       "        text-align: right;\n",
       "    }\n",
       "</style>\n",
       "<table border=\"1\" class=\"dataframe\">\n",
       "  <thead>\n",
       "    <tr style=\"text-align: right;\">\n",
       "      <th></th>\n",
       "      <th>SEX</th>\n",
       "      <th>INSR_BEGIN</th>\n",
       "      <th>INSR_END</th>\n",
       "      <th>EFFECTIVE_YR</th>\n",
       "      <th>INSR_TYPE</th>\n",
       "      <th>INSURED_VALUE</th>\n",
       "      <th>PREMIUM</th>\n",
       "      <th>OBJECT_ID</th>\n",
       "      <th>PROD_YEAR</th>\n",
       "      <th>SEATS_NUM</th>\n",
       "      <th>CARRYING_CAPACITY</th>\n",
       "      <th>TYPE_VEHICLE</th>\n",
       "      <th>CCM_TON</th>\n",
       "      <th>MAKE</th>\n",
       "      <th>USAGE</th>\n",
       "      <th>CLAIM_PAID</th>\n",
       "    </tr>\n",
       "  </thead>\n",
       "  <tbody>\n",
       "    <tr>\n",
       "      <th>0</th>\n",
       "      <td>0</td>\n",
       "      <td>08-AUG-13</td>\n",
       "      <td>07-AUG-14</td>\n",
       "      <td>08</td>\n",
       "      <td>1202</td>\n",
       "      <td>519755.22</td>\n",
       "      <td>7209.140</td>\n",
       "      <td>5000029885</td>\n",
       "      <td>2007.0</td>\n",
       "      <td>4.0</td>\n",
       "      <td>6.0</td>\n",
       "      <td>Pick-up</td>\n",
       "      <td>3153.0</td>\n",
       "      <td>NISSAN</td>\n",
       "      <td>Own Goods</td>\n",
       "      <td>NaN</td>\n",
       "    </tr>\n",
       "    <tr>\n",
       "      <th>1</th>\n",
       "      <td>0</td>\n",
       "      <td>08-AUG-12</td>\n",
       "      <td>07-AUG-13</td>\n",
       "      <td>08</td>\n",
       "      <td>1202</td>\n",
       "      <td>519755.22</td>\n",
       "      <td>7203.890</td>\n",
       "      <td>5000029885</td>\n",
       "      <td>2007.0</td>\n",
       "      <td>4.0</td>\n",
       "      <td>6.0</td>\n",
       "      <td>Pick-up</td>\n",
       "      <td>3153.0</td>\n",
       "      <td>NISSAN</td>\n",
       "      <td>Own Goods</td>\n",
       "      <td>NaN</td>\n",
       "    </tr>\n",
       "    <tr>\n",
       "      <th>2</th>\n",
       "      <td>0</td>\n",
       "      <td>08-AUG-11</td>\n",
       "      <td>07-AUG-12</td>\n",
       "      <td>08</td>\n",
       "      <td>1202</td>\n",
       "      <td>519755.22</td>\n",
       "      <td>7045.804</td>\n",
       "      <td>5000029885</td>\n",
       "      <td>2007.0</td>\n",
       "      <td>4.0</td>\n",
       "      <td>6.0</td>\n",
       "      <td>Pick-up</td>\n",
       "      <td>3153.0</td>\n",
       "      <td>NISSAN</td>\n",
       "      <td>Own Goods</td>\n",
       "      <td>NaN</td>\n",
       "    </tr>\n",
       "    <tr>\n",
       "      <th>3</th>\n",
       "      <td>0</td>\n",
       "      <td>08-JUL-11</td>\n",
       "      <td>07-AUG-11</td>\n",
       "      <td>08</td>\n",
       "      <td>1202</td>\n",
       "      <td>519755.22</td>\n",
       "      <td>287.250</td>\n",
       "      <td>5000029885</td>\n",
       "      <td>2007.0</td>\n",
       "      <td>4.0</td>\n",
       "      <td>6.0</td>\n",
       "      <td>Pick-up</td>\n",
       "      <td>3153.0</td>\n",
       "      <td>NISSAN</td>\n",
       "      <td>Own Goods</td>\n",
       "      <td>NaN</td>\n",
       "    </tr>\n",
       "    <tr>\n",
       "      <th>4</th>\n",
       "      <td>0</td>\n",
       "      <td>08-AUG-13</td>\n",
       "      <td>07-AUG-14</td>\n",
       "      <td>08</td>\n",
       "      <td>1202</td>\n",
       "      <td>285451.24</td>\n",
       "      <td>4286.900</td>\n",
       "      <td>5000029901</td>\n",
       "      <td>2010.0</td>\n",
       "      <td>4.0</td>\n",
       "      <td>7.0</td>\n",
       "      <td>Pick-up</td>\n",
       "      <td>2494.0</td>\n",
       "      <td>TOYOTA</td>\n",
       "      <td>Own Goods</td>\n",
       "      <td>19894.43</td>\n",
       "    </tr>\n",
       "    <tr>\n",
       "      <th>5</th>\n",
       "      <td>0</td>\n",
       "      <td>08-AUG-12</td>\n",
       "      <td>07-AUG-13</td>\n",
       "      <td>08</td>\n",
       "      <td>1202</td>\n",
       "      <td>285451.24</td>\n",
       "      <td>4286.650</td>\n",
       "      <td>5000029901</td>\n",
       "      <td>2010.0</td>\n",
       "      <td>4.0</td>\n",
       "      <td>7.0</td>\n",
       "      <td>Pick-up</td>\n",
       "      <td>2494.0</td>\n",
       "      <td>TOYOTA</td>\n",
       "      <td>Own Goods</td>\n",
       "      <td>26916.44</td>\n",
       "    </tr>\n",
       "    <tr>\n",
       "      <th>6</th>\n",
       "      <td>0</td>\n",
       "      <td>08-AUG-11</td>\n",
       "      <td>07-AUG-12</td>\n",
       "      <td>08</td>\n",
       "      <td>1202</td>\n",
       "      <td>285451.24</td>\n",
       "      <td>4123.564</td>\n",
       "      <td>5000029901</td>\n",
       "      <td>2010.0</td>\n",
       "      <td>4.0</td>\n",
       "      <td>7.0</td>\n",
       "      <td>Pick-up</td>\n",
       "      <td>2494.0</td>\n",
       "      <td>TOYOTA</td>\n",
       "      <td>Own Goods</td>\n",
       "      <td>NaN</td>\n",
       "    </tr>\n",
       "    <tr>\n",
       "      <th>7</th>\n",
       "      <td>0</td>\n",
       "      <td>08-JUL-11</td>\n",
       "      <td>07-AUG-11</td>\n",
       "      <td>08</td>\n",
       "      <td>1202</td>\n",
       "      <td>285451.24</td>\n",
       "      <td>155.010</td>\n",
       "      <td>5000029901</td>\n",
       "      <td>2010.0</td>\n",
       "      <td>4.0</td>\n",
       "      <td>7.0</td>\n",
       "      <td>Pick-up</td>\n",
       "      <td>2494.0</td>\n",
       "      <td>TOYOTA</td>\n",
       "      <td>Own Goods</td>\n",
       "      <td>NaN</td>\n",
       "    </tr>\n",
       "    <tr>\n",
       "      <th>8</th>\n",
       "      <td>0</td>\n",
       "      <td>08-JUL-12</td>\n",
       "      <td>07-JUL-13</td>\n",
       "      <td>11</td>\n",
       "      <td>1201</td>\n",
       "      <td>200000.00</td>\n",
       "      <td>3452.650</td>\n",
       "      <td>5000030346</td>\n",
       "      <td>1982.0</td>\n",
       "      <td>10.0</td>\n",
       "      <td>NaN</td>\n",
       "      <td>Station Wagones</td>\n",
       "      <td>4164.0</td>\n",
       "      <td>TOYOTA</td>\n",
       "      <td>Private</td>\n",
       "      <td>NaN</td>\n",
       "    </tr>\n",
       "    <tr>\n",
       "      <th>9</th>\n",
       "      <td>0</td>\n",
       "      <td>08-AUG-11</td>\n",
       "      <td>07-JUL-12</td>\n",
       "      <td>11</td>\n",
       "      <td>1201</td>\n",
       "      <td>200000.00</td>\n",
       "      <td>3077.540</td>\n",
       "      <td>5000030346</td>\n",
       "      <td>1982.0</td>\n",
       "      <td>10.0</td>\n",
       "      <td>NaN</td>\n",
       "      <td>Station Wagones</td>\n",
       "      <td>4164.0</td>\n",
       "      <td>TOYOTA</td>\n",
       "      <td>Private</td>\n",
       "      <td>NaN</td>\n",
       "    </tr>\n",
       "  </tbody>\n",
       "</table>\n",
       "</div>"
      ],
      "text/plain": [
       "   SEX INSR_BEGIN   INSR_END EFFECTIVE_YR  INSR_TYPE  INSURED_VALUE   PREMIUM  \\\n",
       "0    0  08-AUG-13  07-AUG-14           08       1202      519755.22  7209.140   \n",
       "1    0  08-AUG-12  07-AUG-13           08       1202      519755.22  7203.890   \n",
       "2    0  08-AUG-11  07-AUG-12           08       1202      519755.22  7045.804   \n",
       "3    0  08-JUL-11  07-AUG-11           08       1202      519755.22   287.250   \n",
       "4    0  08-AUG-13  07-AUG-14           08       1202      285451.24  4286.900   \n",
       "5    0  08-AUG-12  07-AUG-13           08       1202      285451.24  4286.650   \n",
       "6    0  08-AUG-11  07-AUG-12           08       1202      285451.24  4123.564   \n",
       "7    0  08-JUL-11  07-AUG-11           08       1202      285451.24   155.010   \n",
       "8    0  08-JUL-12  07-JUL-13           11       1201      200000.00  3452.650   \n",
       "9    0  08-AUG-11  07-JUL-12           11       1201      200000.00  3077.540   \n",
       "\n",
       "    OBJECT_ID  PROD_YEAR  SEATS_NUM  CARRYING_CAPACITY     TYPE_VEHICLE  \\\n",
       "0  5000029885     2007.0        4.0                6.0          Pick-up   \n",
       "1  5000029885     2007.0        4.0                6.0          Pick-up   \n",
       "2  5000029885     2007.0        4.0                6.0          Pick-up   \n",
       "3  5000029885     2007.0        4.0                6.0          Pick-up   \n",
       "4  5000029901     2010.0        4.0                7.0          Pick-up   \n",
       "5  5000029901     2010.0        4.0                7.0          Pick-up   \n",
       "6  5000029901     2010.0        4.0                7.0          Pick-up   \n",
       "7  5000029901     2010.0        4.0                7.0          Pick-up   \n",
       "8  5000030346     1982.0       10.0                NaN  Station Wagones   \n",
       "9  5000030346     1982.0       10.0                NaN  Station Wagones   \n",
       "\n",
       "   CCM_TON    MAKE      USAGE  CLAIM_PAID  \n",
       "0   3153.0  NISSAN  Own Goods         NaN  \n",
       "1   3153.0  NISSAN  Own Goods         NaN  \n",
       "2   3153.0  NISSAN  Own Goods         NaN  \n",
       "3   3153.0  NISSAN  Own Goods         NaN  \n",
       "4   2494.0  TOYOTA  Own Goods    19894.43  \n",
       "5   2494.0  TOYOTA  Own Goods    26916.44  \n",
       "6   2494.0  TOYOTA  Own Goods         NaN  \n",
       "7   2494.0  TOYOTA  Own Goods         NaN  \n",
       "8   4164.0  TOYOTA    Private         NaN  \n",
       "9   4164.0  TOYOTA    Private         NaN  "
      ]
     },
     "execution_count": 4,
     "metadata": {},
     "output_type": "execute_result"
    }
   ],
   "source": [
    "insurance_data.head(10)"
   ]
  },
  {
   "cell_type": "markdown",
   "id": "f4b56e4c",
   "metadata": {},
   "source": [
    "There are multiple entries regarding the same vehicle as it has to be reinsured every year. That can lead to up to 7 entries for the same vehicle with only the premium amout fluctuating."
   ]
  },
  {
   "cell_type": "code",
   "execution_count": 5,
   "id": "00010b1f",
   "metadata": {},
   "outputs": [
    {
     "name": "stdout",
     "output_type": "stream",
     "text": [
      "<class 'pandas.core.frame.DataFrame'>\n",
      "RangeIndex: 802036 entries, 0 to 802035\n",
      "Data columns (total 16 columns):\n",
      " #   Column             Non-Null Count   Dtype  \n",
      "---  ------             --------------   -----  \n",
      " 0   SEX                802036 non-null  int64  \n",
      " 1   INSR_BEGIN         802036 non-null  object \n",
      " 2   INSR_END           802036 non-null  object \n",
      " 3   EFFECTIVE_YR       802032 non-null  object \n",
      " 4   INSR_TYPE          802036 non-null  int64  \n",
      " 5   INSURED_VALUE      802036 non-null  float64\n",
      " 6   PREMIUM            802015 non-null  float64\n",
      " 7   OBJECT_ID          802036 non-null  int64  \n",
      " 8   PROD_YEAR          801867 non-null  float64\n",
      " 9   SEATS_NUM          801801 non-null  float64\n",
      " 10  CARRYING_CAPACITY  603837 non-null  float64\n",
      " 11  TYPE_VEHICLE       802036 non-null  object \n",
      " 12  CCM_TON            802028 non-null  float64\n",
      " 13  MAKE               802031 non-null  object \n",
      " 14  USAGE              802036 non-null  object \n",
      " 15  CLAIM_PAID         60145 non-null   float64\n",
      "dtypes: float64(7), int64(3), object(6)\n",
      "memory usage: 97.9+ MB\n"
     ]
    }
   ],
   "source": [
    "insurance_data.info()"
   ]
  },
  {
   "cell_type": "markdown",
   "id": "7a6f31b2",
   "metadata": {},
   "source": [
    "Columns seem to have been read correctly. Let's now look at the values in individual columns."
   ]
  },
  {
   "cell_type": "markdown",
   "id": "1055e70c",
   "metadata": {},
   "source": [
    "### Sex"
   ]
  },
  {
   "cell_type": "code",
   "execution_count": 6,
   "id": "658bf484",
   "metadata": {},
   "outputs": [
    {
     "data": {
      "text/plain": [
       "SEX\n",
       "0    415297\n",
       "1    318650\n",
       "2     68089\n",
       "Name: count, dtype: int64"
      ]
     },
     "execution_count": 6,
     "metadata": {},
     "output_type": "execute_result"
    }
   ],
   "source": [
    "insurance_data[\"SEX\"].value_counts()"
   ]
  },
  {
   "cell_type": "markdown",
   "id": "25aa068c",
   "metadata": {},
   "source": [
    "In the dataset, there are 3 unique sex values with 0 being legal entities, 1 - males and 2 - females. The number of insurance contracts in which men are the policyholders is 4.67 times greater that the number of contracts with female policyholders. That is due to women being less likely to have a drivers license in Ethiopia.\n",
    "\n",
    "Let's remap the value for better clarity."
   ]
  },
  {
   "cell_type": "code",
   "execution_count": 7,
   "id": "c985b23b",
   "metadata": {},
   "outputs": [
    {
     "data": {
      "text/plain": [
       "SEX\n",
       "LEGAL ENTITY    415297\n",
       "MALE            318650\n",
       "FEMALE           68089\n",
       "Name: count, dtype: int64"
      ]
     },
     "execution_count": 7,
     "metadata": {},
     "output_type": "execute_result"
    }
   ],
   "source": [
    "sex_mapping = {0:'LEGAL ENTITY', 1:'MALE', 2:'FEMALE'}\n",
    "\n",
    "insurance_data[\"SEX\"] = insurance_data[\"SEX\"].map(sex_mapping)\n",
    "\n",
    "insurance_data[\"SEX\"].value_counts()"
   ]
  },
  {
   "cell_type": "markdown",
   "id": "1fe7cb2e",
   "metadata": {},
   "source": [
    "### Insurance start & end date"
   ]
  },
  {
   "cell_type": "code",
   "execution_count": 8,
   "id": "e8697572",
   "metadata": {},
   "outputs": [
    {
     "data": {
      "text/plain": [
       "INSR_BEGIN\n",
       "08-JUL-17    16754\n",
       "08-JUL-16    15640\n",
       "08-JUL-11    15215\n",
       "08-JUL-15    13464\n",
       "08-JUL-14    13121\n",
       "             ...  \n",
       "29-MAY-13        3\n",
       "28-SEP-15        3\n",
       "03-MAR-15        1\n",
       "12-SEP-14        1\n",
       "12-SEP-12        1\n",
       "Name: count, Length: 2556, dtype: int64"
      ]
     },
     "execution_count": 8,
     "metadata": {},
     "output_type": "execute_result"
    }
   ],
   "source": [
    "insurance_data[\"INSR_BEGIN\"].value_counts()"
   ]
  },
  {
   "cell_type": "code",
   "execution_count": 9,
   "id": "b66c0d4c",
   "metadata": {},
   "outputs": [
    {
     "data": {
      "text/plain": [
       "INSR_END\n",
       "07-JUL-18    17378\n",
       "07-JUL-17    15827\n",
       "07-JUL-16    14864\n",
       "07-JUL-13    13594\n",
       "07-JUL-15    13248\n",
       "             ...  \n",
       "19-OCT-11        1\n",
       "03-DEC-11        1\n",
       "01-MAY-12        1\n",
       "04-SEP-11        1\n",
       "21-AUG-11        1\n",
       "Name: count, Length: 2834, dtype: int64"
      ]
     },
     "execution_count": 9,
     "metadata": {},
     "output_type": "execute_result"
    }
   ],
   "source": [
    "insurance_data[\"INSR_END\"].value_counts()"
   ]
  },
  {
   "cell_type": "markdown",
   "id": "ca173454",
   "metadata": {},
   "source": [
    "There do not seem to be any obvious errors in the data. Yet, we must check whether there are entries where the insurance start date is later than the end date."
   ]
  },
  {
   "cell_type": "code",
   "execution_count": 10,
   "id": "54392fe4",
   "metadata": {},
   "outputs": [
    {
     "data": {
      "text/plain": [
       "0"
      ]
     },
     "execution_count": 10,
     "metadata": {},
     "output_type": "execute_result"
    }
   ],
   "source": [
    "insurance_data[\"INSR_BEGIN\"] = pd.to_datetime(insurance_data[\"INSR_BEGIN\"], format=\"%d-%b-%y\")\n",
    "\n",
    "insurance_data[\"INSR_END\"] = pd.to_datetime(insurance_data[\"INSR_END\"], format=\"%d-%b-%y\")\n",
    "\n",
    "end_greater_start = insurance_data[\"INSR_BEGIN\"] > insurance_data[\"INSR_END\"]\n",
    "length = len(end_greater_start[end_greater_start == True])\n",
    "length"
   ]
  },
  {
   "cell_type": "markdown",
   "id": "5ec81d21",
   "metadata": {},
   "source": [
    "No end values are earlier than start values. We can now visualize the variable data."
   ]
  },
  {
   "cell_type": "code",
   "execution_count": 11,
   "id": "a565c067",
   "metadata": {},
   "outputs": [
    {
     "data": {
      "image/png": "[encoded data removed]",
      "text/plain": [
       "<Figure size 1200x500 with 4 Axes>"
      ]
     },
     "metadata": {},
     "output_type": "display_data"
    }
   ],
   "source": [
    "insurance_data[\"INSR_START_MONTH\"] = pd.to_datetime(insurance_data[\"INSR_BEGIN\"], format=\"%d-%b-%y\").dt.month\n",
    "insurance_data[\"INSR_START_YEAR\"] = pd.to_datetime(insurance_data[\"INSR_BEGIN\"], format=\"%d-%b-%y\").dt.year\n",
    "\n",
    "start_months = insurance_data[\"INSR_START_MONTH\"].value_counts().sort_index()\n",
    "start_months_premium = insurance_data.groupby(\"INSR_START_MONTH\")[\"PREMIUM\"].sum()\n",
    "\n",
    "start_years = insurance_data[\"INSR_START_YEAR\"].value_counts().sort_index()\n",
    "start_years_premium = insurance_data.groupby(\"INSR_START_YEAR\")[\"PREMIUM\"].sum()\n",
    "\n",
    "fig, axes = plt.subplots(1, 2, figsize=(12, 5))\n",
    "\n",
    "plot_counts_and_premiums(axes[0], start_months, start_months_premium, 'Month')\n",
    "plot_counts_and_premiums(axes[1], start_years, start_years_premium, 'Year')\n",
    "\n",
    "fig.tight_layout()\n",
    "plt.show()"
   ]
  },
  {
   "cell_type": "markdown",
   "id": "9b2e5a39",
   "metadata": {},
   "source": [
    "From the charts it becomes clear that policy count closely correlates with premium sums with regard to both the month and the year of the insurance start date. One month, July, stand out as the month in which the most policies are introduced. In terms of the trend regarding the year, there is a clear pattern of growth from 2011 to 2017 and a sharp drop off of new policies in 2018. The drop off can be explained by the end of data collection period being June of 2018. We can check whether growth in the month of June in the respective years is equally as rapid."
   ]
  },
  {
   "cell_type": "code",
   "execution_count": 12,
   "id": "f62fda67",
   "metadata": {},
   "outputs": [
    {
     "data": {
      "text/html": [
       "<div>\n",
       "<style scoped>\n",
       "    .dataframe tbody tr th:only-of-type {\n",
       "        vertical-align: middle;\n",
       "    }\n",
       "\n",
       "    .dataframe tbody tr th {\n",
       "        vertical-align: top;\n",
       "    }\n",
       "\n",
       "    .dataframe thead th {\n",
       "        text-align: right;\n",
       "    }\n",
       "</style>\n",
       "<table border=\"1\" class=\"dataframe\">\n",
       "  <thead>\n",
       "    <tr style=\"text-align: right;\">\n",
       "      <th></th>\n",
       "      <th>INSR_START_YEAR</th>\n",
       "      <th>Policy Count</th>\n",
       "    </tr>\n",
       "  </thead>\n",
       "  <tbody>\n",
       "    <tr>\n",
       "      <th>0</th>\n",
       "      <td>2017</td>\n",
       "      <td>55693</td>\n",
       "    </tr>\n",
       "    <tr>\n",
       "      <th>1</th>\n",
       "      <td>2018</td>\n",
       "      <td>57300</td>\n",
       "    </tr>\n",
       "  </tbody>\n",
       "</table>\n",
       "</div>"
      ],
      "text/plain": [
       "   INSR_START_YEAR  Policy Count\n",
       "0             2017         55693\n",
       "1             2018         57300"
      ]
     },
     "execution_count": 12,
     "metadata": {},
     "output_type": "execute_result"
    }
   ],
   "source": [
    "before_june = insurance_data[(insurance_data[\"INSR_START_YEAR\"].isin([2017, 2018])) & (insurance_data[\"INSR_START_MONTH\"] < 7)]\n",
    "\n",
    "before_june.groupby(\"INSR_START_YEAR\").size().reset_index(name='Policy Count')"
   ]
  },
  {
   "cell_type": "markdown",
   "id": "ff979cf8",
   "metadata": {},
   "source": [
    "The pace of growth is about the same.\n",
    "\n",
    "Let's also create a dummy variable for insurance start days."
   ]
  },
  {
   "cell_type": "code",
   "execution_count": 13,
   "id": "50cd2325",
   "metadata": {},
   "outputs": [],
   "source": [
    "insurance_data[\"INSR_START_DAY\"] = pd.to_datetime(insurance_data[\"INSR_BEGIN\"], format=\"%d-%b-%y\").dt.day"
   ]
  },
  {
   "cell_type": "markdown",
   "id": "0acf29d5",
   "metadata": {},
   "source": [
    "### Effective year"
   ]
  },
  {
   "cell_type": "code",
   "execution_count": 14,
   "id": "35081caa",
   "metadata": {},
   "outputs": [
    {
     "data": {
      "text/plain": [
       "EFFECTIVE_YR\n",
       "11    199888\n",
       "12     86791\n",
       "15     75484\n",
       "14     74001\n",
       "16     68866\n",
       "       ...  \n",
       "8R         1\n",
       "RS         1\n",
       "IN         1\n",
       "/1         1\n",
       "EA         1\n",
       "Name: count, Length: 151, dtype: int64"
      ]
     },
     "execution_count": 14,
     "metadata": {},
     "output_type": "execute_result"
    }
   ],
   "source": [
    "insurance_data[\"EFFECTIVE_YR\"].value_counts()"
   ]
  },
  {
   "cell_type": "markdown",
   "id": "09436858",
   "metadata": {},
   "source": [
    "The effective year variable indicates what year the policy came into effect (was first insured with the company). There are numerous records that indicate a year before the historic start date of the dataset (2011).\n",
    "\n",
    "Yet, the column contains values that are not indicative of a number and should be removed. Since there are a total of 802036 records, we can afford to lose quite a few. We also need to convert the years into a four-digit number as a two-digit year encoding is only common on legacy data storage systems."
   ]
  },
  {
   "cell_type": "code",
   "execution_count": 15,
   "id": "4fd50f4c",
   "metadata": {},
   "outputs": [
    {
     "data": {
      "text/plain": [
       "(800865, 20)"
      ]
     },
     "execution_count": 15,
     "metadata": {},
     "output_type": "execute_result"
    }
   ],
   "source": [
    "insurance_data = insurance_data[insurance_data[\"EFFECTIVE_YR\"].astype(str).str.match(r\"^\\d{2}$\")]\n",
    "\n",
    "def convert_year(y):\n",
    "    y = int(y)\n",
    "    if y > 18:\n",
    "        return 1900 + y\n",
    "    else:\n",
    "        return 2000 + y\n",
    "\n",
    "insurance_data[\"EFFECTIVE_YR_FULL\"] = insurance_data[\"EFFECTIVE_YR\"].apply(convert_year)\n",
    "\n",
    "insurance_data.shape"
   ]
  },
  {
   "cell_type": "markdown",
   "id": "9d44030f",
   "metadata": {},
   "source": [
    "After cleaning the effective year column, we have lost 1171 rows."
   ]
  },
  {
   "cell_type": "code",
   "execution_count": 16,
   "id": "58f8cb75",
   "metadata": {},
   "outputs": [
    {
     "data": {
      "image/png": "[encoded data removed]",
      "text/plain": [
       "<Figure size 640x480 with 1 Axes>"
      ]
     },
     "metadata": {},
     "output_type": "display_data"
    }
   ],
   "source": [
    "year_counts = insurance_data[\"EFFECTIVE_YR_FULL\"].value_counts().sort_index()\n",
    "\n",
    "year_counts = year_counts[\n",
    "    (year_counts.index >= 1992) &\n",
    "    (year_counts.index <= 2018)\n",
    "]\n",
    "\n",
    "year_counts.plot(kind='bar')\n",
    "plt.xlabel(\"Effective Year\")\n",
    "plt.ylabel(\"Policy Count\")\n",
    "plt.xticks(rotation=45)\n",
    "plt.grid(axis='y', linestyle='--', alpha=0.7)\n",
    "plt.tight_layout()\n",
    "plt.show()"
   ]
  },
  {
   "cell_type": "code",
   "execution_count": 17,
   "id": "647d5589",
   "metadata": {},
   "outputs": [
    {
     "name": "stdout",
     "output_type": "stream",
     "text": [
      "EFFECTIVE_YR_FULL\n",
      "1919      394\n",
      "1920      593\n",
      "1921      532\n",
      "1922      454\n",
      "1923      488\n",
      "        ...  \n",
      "2014    74001\n",
      "2015    75484\n",
      "2016    68866\n",
      "2017    57060\n",
      "2018    21547\n",
      "Name: count, Length: 100, dtype: int64\n"
     ]
    }
   ],
   "source": [
    "year_counts = insurance_data[\"EFFECTIVE_YR_FULL\"].value_counts().sort_index()\n",
    "print(year_counts)"
   ]
  },
  {
   "cell_type": "markdown",
   "id": "34d22951",
   "metadata": {},
   "source": [
    "The data shows that most of the insured vehicles were first insured in 2011 and later. After contacting the postdoctoral fellow that published the dataset, I was informed that the meaning of this variable is not very well documented. There are values of 1947 and prior, eventhough, in Ethiopia, the first motor insurance was issued in 1947. This variable will be dropped."
   ]
  },
  {
   "cell_type": "code",
   "execution_count": 18,
   "id": "0d7ad62d",
   "metadata": {},
   "outputs": [],
   "source": [
    "insurance_data.drop(columns=[\"EFFECTIVE_YR\", \"EFFECTIVE_YR_FULL\"], inplace=True)"
   ]
  },
  {
   "cell_type": "markdown",
   "id": "8d0df4d4",
   "metadata": {},
   "source": [
    "### Insurance type"
   ]
  },
  {
   "cell_type": "code",
   "execution_count": 19,
   "id": "1c16a649",
   "metadata": {},
   "outputs": [
    {
     "data": {
      "text/plain": [
       "INSR_TYPE\n",
       "1202    593519\n",
       "1201    207011\n",
       "1204       335\n",
       "Name: count, dtype: int64"
      ]
     },
     "execution_count": 19,
     "metadata": {},
     "output_type": "execute_result"
    }
   ],
   "source": [
    "insurance_data[\"INSR_TYPE\"].value_counts()"
   ]
  },
  {
   "cell_type": "markdown",
   "id": "e0cbe8b1",
   "metadata": {},
   "source": [
    "There are a total of three types of insurance: 1201 - private, 1202 - commercial and 1204 - motor trade road risk (for motor trade workers that drive vehicles they do not personally own, such as mechanics when testing repaired vehicles).\n",
    "\n",
    "Let's change the values so they make more sense."
   ]
  },
  {
   "cell_type": "code",
   "execution_count": 20,
   "id": "b84a932e",
   "metadata": {},
   "outputs": [],
   "source": [
    "insurance_type_mapping = {1202:'PRIVATE', 1201:'COMMERCIAL', 1204:'MOTOR TRADE'}\n",
    "\n",
    "insurance_data[\"INSR_TYPE\"] = insurance_data[\"INSR_TYPE\"].map(insurance_type_mapping)"
   ]
  },
  {
   "cell_type": "code",
   "execution_count": 21,
   "id": "8dc469f4",
   "metadata": {},
   "outputs": [
    {
     "data": {
      "text/plain": [
       "INSR_TYPE\n",
       "PRIVATE        593519\n",
       "COMMERCIAL     207011\n",
       "MOTOR TRADE       335\n",
       "Name: count, dtype: int64"
      ]
     },
     "execution_count": 21,
     "metadata": {},
     "output_type": "execute_result"
    }
   ],
   "source": [
    "insurance_data[\"INSR_TYPE\"].value_counts()"
   ]
  },
  {
   "cell_type": "markdown",
   "id": "ffbeefb2",
   "metadata": {},
   "source": [
    "### Insured value"
   ]
  },
  {
   "cell_type": "code",
   "execution_count": 22,
   "id": "0e0866ef",
   "metadata": {},
   "outputs": [
    {
     "data": {
      "text/plain": [
       "INSURED_VALUE\n",
       "0.00          343235\n",
       "500000.00      13588\n",
       "400000.00      12553\n",
       "1500000.00     10844\n",
       "600000.00      10658\n",
       "               ...  \n",
       "844621.79          1\n",
       "1611552.52         1\n",
       "59099.99           1\n",
       "795738.00          1\n",
       "2539089.00         1\n",
       "Name: count, Length: 17368, dtype: int64"
      ]
     },
     "execution_count": 22,
     "metadata": {},
     "output_type": "execute_result"
    }
   ],
   "source": [
    "insurance_data[\"INSURED_VALUE\"].value_counts()"
   ]
  },
  {
   "cell_type": "markdown",
   "id": "9dc1ee32",
   "metadata": {},
   "source": [
    "343235 vehicles in the dataset have no provided insurance value. Insured value of 0 means the policyholder has the liability insurance coverage only, not the comprehensive coverage while insured value higher than 0 indicates comprehensive coverage.\n",
    "\n",
    "The difference between the liability and comprehensive insurance is that liability insurance covers damage or injury you cause to other people or their property (and not repairs to your vehicle) and comprehensive insurance covers non-collision damage to your own car.\n",
    "\n",
    "For the purpose of developing a model, we may create an additional variable that indicates the type of insurance the policyholder has."
   ]
  },
  {
   "cell_type": "code",
   "execution_count": 23,
   "id": "a28386bb",
   "metadata": {},
   "outputs": [
    {
     "data": {
      "text/plain": [
       "INSR_COVER\n",
       "comprehensive    457630\n",
       "liability        343235\n",
       "Name: count, dtype: int64"
      ]
     },
     "execution_count": 23,
     "metadata": {},
     "output_type": "execute_result"
    }
   ],
   "source": [
    "insurance_data[\"INSR_COVER\"] = np.where(\n",
    "    insurance_data[\"INSURED_VALUE\"] == 0,\n",
    "    \"liability\",\n",
    "    \"comprehensive\"\n",
    ")\n",
    "\n",
    "insurance_data[\"INSR_COVER\"].value_counts()"
   ]
  },
  {
   "cell_type": "code",
   "execution_count": 24,
   "id": "7428d9d6",
   "metadata": {},
   "outputs": [
    {
     "data": {
      "text/plain": [
       "count    8.008650e+05\n",
       "mean     5.089766e+05\n",
       "std      9.020327e+05\n",
       "min      0.000000e+00\n",
       "25%      0.000000e+00\n",
       "50%      1.800000e+05\n",
       "75%      7.300000e+05\n",
       "max      2.500000e+08\n",
       "Name: INSURED_VALUE, dtype: float64"
      ]
     },
     "execution_count": 24,
     "metadata": {},
     "output_type": "execute_result"
    }
   ],
   "source": [
    "insurance_data[\"INSURED_VALUE\"].describe()"
   ]
  },
  {
   "cell_type": "markdown",
   "id": "5634843f",
   "metadata": {},
   "source": [
    "### Object ID"
   ]
  },
  {
   "cell_type": "code",
   "execution_count": 25,
   "id": "7ab054e2",
   "metadata": {},
   "outputs": [
    {
     "data": {
      "text/plain": [
       "OBJECT_ID\n",
       "5000607848    17\n",
       "5000116673    17\n",
       "5000036245    16\n",
       "5000021028    16\n",
       "5000036477    16\n",
       "              ..\n",
       "5001328704     1\n",
       "5001328687     1\n",
       "5001333448     1\n",
       "5001333337     1\n",
       "5001347840     1\n",
       "Name: count, Length: 288527, dtype: int64"
      ]
     },
     "execution_count": 25,
     "metadata": {},
     "output_type": "execute_result"
    }
   ],
   "source": [
    "insurance_data[\"OBJECT_ID\"].value_counts()"
   ]
  },
  {
   "cell_type": "markdown",
   "id": "eb9e4b26",
   "metadata": {},
   "source": [
    "Some vehicles appear more that 7 times which is not possible."
   ]
  },
  {
   "cell_type": "code",
   "execution_count": 26,
   "id": "e37b7b4f",
   "metadata": {},
   "outputs": [
    {
     "data": {
      "text/html": [
       "<div>\n",
       "<style scoped>\n",
       "    .dataframe tbody tr th:only-of-type {\n",
       "        vertical-align: middle;\n",
       "    }\n",
       "\n",
       "    .dataframe tbody tr th {\n",
       "        vertical-align: top;\n",
       "    }\n",
       "\n",
       "    .dataframe thead th {\n",
       "        text-align: right;\n",
       "    }\n",
       "</style>\n",
       "<table border=\"1\" class=\"dataframe\">\n",
       "  <thead>\n",
       "    <tr style=\"text-align: right;\">\n",
       "      <th></th>\n",
       "      <th>SEX</th>\n",
       "      <th>INSR_BEGIN</th>\n",
       "      <th>INSR_END</th>\n",
       "      <th>INSR_TYPE</th>\n",
       "      <th>INSURED_VALUE</th>\n",
       "      <th>PREMIUM</th>\n",
       "      <th>OBJECT_ID</th>\n",
       "      <th>PROD_YEAR</th>\n",
       "      <th>SEATS_NUM</th>\n",
       "      <th>CARRYING_CAPACITY</th>\n",
       "      <th>TYPE_VEHICLE</th>\n",
       "      <th>CCM_TON</th>\n",
       "      <th>MAKE</th>\n",
       "      <th>USAGE</th>\n",
       "      <th>CLAIM_PAID</th>\n",
       "      <th>INSR_START_MONTH</th>\n",
       "      <th>INSR_START_YEAR</th>\n",
       "      <th>INSR_START_DAY</th>\n",
       "      <th>INSR_COVER</th>\n",
       "    </tr>\n",
       "  </thead>\n",
       "  <tbody>\n",
       "    <tr>\n",
       "      <th>75918</th>\n",
       "      <td>MALE</td>\n",
       "      <td>2013-07-31</td>\n",
       "      <td>2014-07-30</td>\n",
       "      <td>PRIVATE</td>\n",
       "      <td>414000.0</td>\n",
       "      <td>6564.04</td>\n",
       "      <td>5000116673</td>\n",
       "      <td>2006.0</td>\n",
       "      <td>0.0</td>\n",
       "      <td>220.0</td>\n",
       "      <td>Trailers and semitrailers</td>\n",
       "      <td>0.0</td>\n",
       "      <td>MESFIN</td>\n",
       "      <td>General Cartage</td>\n",
       "      <td>NaN</td>\n",
       "      <td>7</td>\n",
       "      <td>2013</td>\n",
       "      <td>31</td>\n",
       "      <td>comprehensive</td>\n",
       "    </tr>\n",
       "    <tr>\n",
       "      <th>75919</th>\n",
       "      <td>LEGAL ENTITY</td>\n",
       "      <td>2013-07-08</td>\n",
       "      <td>2014-07-07</td>\n",
       "      <td>PRIVATE</td>\n",
       "      <td>120000.0</td>\n",
       "      <td>2643.35</td>\n",
       "      <td>5000116673</td>\n",
       "      <td>2006.0</td>\n",
       "      <td>0.0</td>\n",
       "      <td>220.0</td>\n",
       "      <td>Trailers and semitrailers</td>\n",
       "      <td>0.0</td>\n",
       "      <td>MESFIN</td>\n",
       "      <td>General Cartage</td>\n",
       "      <td>NaN</td>\n",
       "      <td>7</td>\n",
       "      <td>2013</td>\n",
       "      <td>8</td>\n",
       "      <td>comprehensive</td>\n",
       "    </tr>\n",
       "    <tr>\n",
       "      <th>75920</th>\n",
       "      <td>LEGAL ENTITY</td>\n",
       "      <td>2012-11-04</td>\n",
       "      <td>2013-07-07</td>\n",
       "      <td>PRIVATE</td>\n",
       "      <td>241442.0</td>\n",
       "      <td>3802.86</td>\n",
       "      <td>5000116673</td>\n",
       "      <td>2006.0</td>\n",
       "      <td>0.0</td>\n",
       "      <td>220.0</td>\n",
       "      <td>Trailers and semitrailers</td>\n",
       "      <td>0.0</td>\n",
       "      <td>MESFIN</td>\n",
       "      <td>General Cartage</td>\n",
       "      <td>NaN</td>\n",
       "      <td>11</td>\n",
       "      <td>2012</td>\n",
       "      <td>4</td>\n",
       "      <td>comprehensive</td>\n",
       "    </tr>\n",
       "    <tr>\n",
       "      <th>75921</th>\n",
       "      <td>LEGAL ENTITY</td>\n",
       "      <td>2012-09-08</td>\n",
       "      <td>2012-11-03</td>\n",
       "      <td>PRIVATE</td>\n",
       "      <td>241442.0</td>\n",
       "      <td>1191.43</td>\n",
       "      <td>5000116673</td>\n",
       "      <td>2006.0</td>\n",
       "      <td>0.0</td>\n",
       "      <td>220.0</td>\n",
       "      <td>Trailers and semitrailers</td>\n",
       "      <td>0.0</td>\n",
       "      <td>MESFIN</td>\n",
       "      <td>General Cartage</td>\n",
       "      <td>NaN</td>\n",
       "      <td>9</td>\n",
       "      <td>2012</td>\n",
       "      <td>8</td>\n",
       "      <td>comprehensive</td>\n",
       "    </tr>\n",
       "    <tr>\n",
       "      <th>75922</th>\n",
       "      <td>MALE</td>\n",
       "      <td>2012-07-31</td>\n",
       "      <td>2013-07-30</td>\n",
       "      <td>PRIVATE</td>\n",
       "      <td>414000.0</td>\n",
       "      <td>4473.66</td>\n",
       "      <td>5000116673</td>\n",
       "      <td>2006.0</td>\n",
       "      <td>0.0</td>\n",
       "      <td>220.0</td>\n",
       "      <td>Trailers and semitrailers</td>\n",
       "      <td>0.0</td>\n",
       "      <td>MESFIN</td>\n",
       "      <td>General Cartage</td>\n",
       "      <td>NaN</td>\n",
       "      <td>7</td>\n",
       "      <td>2012</td>\n",
       "      <td>31</td>\n",
       "      <td>comprehensive</td>\n",
       "    </tr>\n",
       "    <tr>\n",
       "      <th>75923</th>\n",
       "      <td>LEGAL ENTITY</td>\n",
       "      <td>2012-07-08</td>\n",
       "      <td>2012-09-07</td>\n",
       "      <td>PRIVATE</td>\n",
       "      <td>241442.0</td>\n",
       "      <td>1966.70</td>\n",
       "      <td>5000116673</td>\n",
       "      <td>2006.0</td>\n",
       "      <td>0.0</td>\n",
       "      <td>220.0</td>\n",
       "      <td>Trailers and semitrailers</td>\n",
       "      <td>0.0</td>\n",
       "      <td>MESFIN</td>\n",
       "      <td>General Cartage</td>\n",
       "      <td>NaN</td>\n",
       "      <td>7</td>\n",
       "      <td>2012</td>\n",
       "      <td>8</td>\n",
       "      <td>comprehensive</td>\n",
       "    </tr>\n",
       "    <tr>\n",
       "      <th>75924</th>\n",
       "      <td>MALE</td>\n",
       "      <td>2011-07-31</td>\n",
       "      <td>2012-07-30</td>\n",
       "      <td>PRIVATE</td>\n",
       "      <td>414000.0</td>\n",
       "      <td>3718.13</td>\n",
       "      <td>5000116673</td>\n",
       "      <td>2006.0</td>\n",
       "      <td>0.0</td>\n",
       "      <td>220.0</td>\n",
       "      <td>Trailers and semitrailers</td>\n",
       "      <td>0.0</td>\n",
       "      <td>MESFIN</td>\n",
       "      <td>General Cartage</td>\n",
       "      <td>NaN</td>\n",
       "      <td>7</td>\n",
       "      <td>2011</td>\n",
       "      <td>31</td>\n",
       "      <td>comprehensive</td>\n",
       "    </tr>\n",
       "    <tr>\n",
       "      <th>75925</th>\n",
       "      <td>LEGAL ENTITY</td>\n",
       "      <td>2011-10-08</td>\n",
       "      <td>2012-07-07</td>\n",
       "      <td>PRIVATE</td>\n",
       "      <td>241442.0</td>\n",
       "      <td>4136.43</td>\n",
       "      <td>5000116673</td>\n",
       "      <td>2006.0</td>\n",
       "      <td>0.0</td>\n",
       "      <td>220.0</td>\n",
       "      <td>Trailers and semitrailers</td>\n",
       "      <td>0.0</td>\n",
       "      <td>MESFIN</td>\n",
       "      <td>General Cartage</td>\n",
       "      <td>NaN</td>\n",
       "      <td>10</td>\n",
       "      <td>2011</td>\n",
       "      <td>8</td>\n",
       "      <td>comprehensive</td>\n",
       "    </tr>\n",
       "    <tr>\n",
       "      <th>75926</th>\n",
       "      <td>LEGAL ENTITY</td>\n",
       "      <td>2011-07-08</td>\n",
       "      <td>2011-10-07</td>\n",
       "      <td>PRIVATE</td>\n",
       "      <td>241442.0</td>\n",
       "      <td>1028.48</td>\n",
       "      <td>5000116673</td>\n",
       "      <td>2006.0</td>\n",
       "      <td>0.0</td>\n",
       "      <td>220.0</td>\n",
       "      <td>Trailers and semitrailers</td>\n",
       "      <td>0.0</td>\n",
       "      <td>MESFIN</td>\n",
       "      <td>General Cartage</td>\n",
       "      <td>NaN</td>\n",
       "      <td>7</td>\n",
       "      <td>2011</td>\n",
       "      <td>8</td>\n",
       "      <td>comprehensive</td>\n",
       "    </tr>\n",
       "    <tr>\n",
       "      <th>359619</th>\n",
       "      <td>MALE</td>\n",
       "      <td>2018-03-31</td>\n",
       "      <td>2019-03-30</td>\n",
       "      <td>PRIVATE</td>\n",
       "      <td>600000.0</td>\n",
       "      <td>5576.76</td>\n",
       "      <td>5000116673</td>\n",
       "      <td>2006.0</td>\n",
       "      <td>0.0</td>\n",
       "      <td>220.0</td>\n",
       "      <td>Trailers and semitrailers</td>\n",
       "      <td>0.0</td>\n",
       "      <td>MESFIN</td>\n",
       "      <td>General Cartage</td>\n",
       "      <td>NaN</td>\n",
       "      <td>3</td>\n",
       "      <td>2018</td>\n",
       "      <td>31</td>\n",
       "      <td>comprehensive</td>\n",
       "    </tr>\n",
       "    <tr>\n",
       "      <th>359620</th>\n",
       "      <td>MALE</td>\n",
       "      <td>2017-03-31</td>\n",
       "      <td>2018-03-30</td>\n",
       "      <td>PRIVATE</td>\n",
       "      <td>600000.0</td>\n",
       "      <td>10060.38</td>\n",
       "      <td>5000116673</td>\n",
       "      <td>2006.0</td>\n",
       "      <td>0.0</td>\n",
       "      <td>220.0</td>\n",
       "      <td>Trailers and semitrailers</td>\n",
       "      <td>0.0</td>\n",
       "      <td>MESFIN</td>\n",
       "      <td>General Cartage</td>\n",
       "      <td>NaN</td>\n",
       "      <td>3</td>\n",
       "      <td>2017</td>\n",
       "      <td>31</td>\n",
       "      <td>comprehensive</td>\n",
       "    </tr>\n",
       "    <tr>\n",
       "      <th>359621</th>\n",
       "      <td>MALE</td>\n",
       "      <td>2016-03-31</td>\n",
       "      <td>2017-03-30</td>\n",
       "      <td>PRIVATE</td>\n",
       "      <td>600000.0</td>\n",
       "      <td>2484.98</td>\n",
       "      <td>5000116673</td>\n",
       "      <td>2006.0</td>\n",
       "      <td>0.0</td>\n",
       "      <td>220.0</td>\n",
       "      <td>Trailers and semitrailers</td>\n",
       "      <td>0.0</td>\n",
       "      <td>MESFIN</td>\n",
       "      <td>General Cartage</td>\n",
       "      <td>NaN</td>\n",
       "      <td>3</td>\n",
       "      <td>2016</td>\n",
       "      <td>31</td>\n",
       "      <td>comprehensive</td>\n",
       "    </tr>\n",
       "    <tr>\n",
       "      <th>359622</th>\n",
       "      <td>LEGAL ENTITY</td>\n",
       "      <td>2016-07-08</td>\n",
       "      <td>2017-07-07</td>\n",
       "      <td>PRIVATE</td>\n",
       "      <td>120000.0</td>\n",
       "      <td>2251.90</td>\n",
       "      <td>5000116673</td>\n",
       "      <td>2006.0</td>\n",
       "      <td>0.0</td>\n",
       "      <td>220.0</td>\n",
       "      <td>Trailers and semitrailers</td>\n",
       "      <td>0.0</td>\n",
       "      <td>MESFIN</td>\n",
       "      <td>General Cartage</td>\n",
       "      <td>NaN</td>\n",
       "      <td>7</td>\n",
       "      <td>2016</td>\n",
       "      <td>8</td>\n",
       "      <td>comprehensive</td>\n",
       "    </tr>\n",
       "    <tr>\n",
       "      <th>359623</th>\n",
       "      <td>LEGAL ENTITY</td>\n",
       "      <td>2015-07-08</td>\n",
       "      <td>2016-07-07</td>\n",
       "      <td>PRIVATE</td>\n",
       "      <td>120000.0</td>\n",
       "      <td>2368.80</td>\n",
       "      <td>5000116673</td>\n",
       "      <td>2006.0</td>\n",
       "      <td>0.0</td>\n",
       "      <td>220.0</td>\n",
       "      <td>Trailers and semitrailers</td>\n",
       "      <td>0.0</td>\n",
       "      <td>MESFIN</td>\n",
       "      <td>General Cartage</td>\n",
       "      <td>NaN</td>\n",
       "      <td>7</td>\n",
       "      <td>2015</td>\n",
       "      <td>8</td>\n",
       "      <td>comprehensive</td>\n",
       "    </tr>\n",
       "    <tr>\n",
       "      <th>359624</th>\n",
       "      <td>MALE</td>\n",
       "      <td>2015-07-31</td>\n",
       "      <td>2016-07-30</td>\n",
       "      <td>PRIVATE</td>\n",
       "      <td>414000.0</td>\n",
       "      <td>7672.51</td>\n",
       "      <td>5000116673</td>\n",
       "      <td>2006.0</td>\n",
       "      <td>0.0</td>\n",
       "      <td>220.0</td>\n",
       "      <td>Trailers and semitrailers</td>\n",
       "      <td>0.0</td>\n",
       "      <td>MESFIN</td>\n",
       "      <td>General Cartage</td>\n",
       "      <td>NaN</td>\n",
       "      <td>7</td>\n",
       "      <td>2015</td>\n",
       "      <td>31</td>\n",
       "      <td>comprehensive</td>\n",
       "    </tr>\n",
       "    <tr>\n",
       "      <th>359625</th>\n",
       "      <td>MALE</td>\n",
       "      <td>2014-07-31</td>\n",
       "      <td>2015-07-30</td>\n",
       "      <td>PRIVATE</td>\n",
       "      <td>414000.0</td>\n",
       "      <td>6819.30</td>\n",
       "      <td>5000116673</td>\n",
       "      <td>2006.0</td>\n",
       "      <td>0.0</td>\n",
       "      <td>220.0</td>\n",
       "      <td>Trailers and semitrailers</td>\n",
       "      <td>0.0</td>\n",
       "      <td>MESFIN</td>\n",
       "      <td>General Cartage</td>\n",
       "      <td>NaN</td>\n",
       "      <td>7</td>\n",
       "      <td>2014</td>\n",
       "      <td>31</td>\n",
       "      <td>comprehensive</td>\n",
       "    </tr>\n",
       "    <tr>\n",
       "      <th>359626</th>\n",
       "      <td>LEGAL ENTITY</td>\n",
       "      <td>2014-07-08</td>\n",
       "      <td>2015-07-07</td>\n",
       "      <td>PRIVATE</td>\n",
       "      <td>120000.0</td>\n",
       "      <td>2166.00</td>\n",
       "      <td>5000116673</td>\n",
       "      <td>2006.0</td>\n",
       "      <td>0.0</td>\n",
       "      <td>220.0</td>\n",
       "      <td>Trailers and semitrailers</td>\n",
       "      <td>0.0</td>\n",
       "      <td>MESFIN</td>\n",
       "      <td>General Cartage</td>\n",
       "      <td>NaN</td>\n",
       "      <td>7</td>\n",
       "      <td>2014</td>\n",
       "      <td>8</td>\n",
       "      <td>comprehensive</td>\n",
       "    </tr>\n",
       "  </tbody>\n",
       "</table>\n",
       "</div>"
      ],
      "text/plain": [
       "                 SEX INSR_BEGIN   INSR_END INSR_TYPE  INSURED_VALUE   PREMIUM  \\\n",
       "75918           MALE 2013-07-31 2014-07-30   PRIVATE       414000.0   6564.04   \n",
       "75919   LEGAL ENTITY 2013-07-08 2014-07-07   PRIVATE       120000.0   2643.35   \n",
       "75920   LEGAL ENTITY 2012-11-04 2013-07-07   PRIVATE       241442.0   3802.86   \n",
       "75921   LEGAL ENTITY 2012-09-08 2012-11-03   PRIVATE       241442.0   1191.43   \n",
       "75922           MALE 2012-07-31 2013-07-30   PRIVATE       414000.0   4473.66   \n",
       "75923   LEGAL ENTITY 2012-07-08 2012-09-07   PRIVATE       241442.0   1966.70   \n",
       "75924           MALE 2011-07-31 2012-07-30   PRIVATE       414000.0   3718.13   \n",
       "75925   LEGAL ENTITY 2011-10-08 2012-07-07   PRIVATE       241442.0   4136.43   \n",
       "75926   LEGAL ENTITY 2011-07-08 2011-10-07   PRIVATE       241442.0   1028.48   \n",
       "359619          MALE 2018-03-31 2019-03-30   PRIVATE       600000.0   5576.76   \n",
       "359620          MALE 2017-03-31 2018-03-30   PRIVATE       600000.0  10060.38   \n",
       "359621          MALE 2016-03-31 2017-03-30   PRIVATE       600000.0   2484.98   \n",
       "359622  LEGAL ENTITY 2016-07-08 2017-07-07   PRIVATE       120000.0   2251.90   \n",
       "359623  LEGAL ENTITY 2015-07-08 2016-07-07   PRIVATE       120000.0   2368.80   \n",
       "359624          MALE 2015-07-31 2016-07-30   PRIVATE       414000.0   7672.51   \n",
       "359625          MALE 2014-07-31 2015-07-30   PRIVATE       414000.0   6819.30   \n",
       "359626  LEGAL ENTITY 2014-07-08 2015-07-07   PRIVATE       120000.0   2166.00   \n",
       "\n",
       "         OBJECT_ID  PROD_YEAR  SEATS_NUM  CARRYING_CAPACITY  \\\n",
       "75918   5000116673     2006.0        0.0              220.0   \n",
       "75919   5000116673     2006.0        0.0              220.0   \n",
       "75920   5000116673     2006.0        0.0              220.0   \n",
       "75921   5000116673     2006.0        0.0              220.0   \n",
       "75922   5000116673     2006.0        0.0              220.0   \n",
       "75923   5000116673     2006.0        0.0              220.0   \n",
       "75924   5000116673     2006.0        0.0              220.0   \n",
       "75925   5000116673     2006.0        0.0              220.0   \n",
       "75926   5000116673     2006.0        0.0              220.0   \n",
       "359619  5000116673     2006.0        0.0              220.0   \n",
       "359620  5000116673     2006.0        0.0              220.0   \n",
       "359621  5000116673     2006.0        0.0              220.0   \n",
       "359622  5000116673     2006.0        0.0              220.0   \n",
       "359623  5000116673     2006.0        0.0              220.0   \n",
       "359624  5000116673     2006.0        0.0              220.0   \n",
       "359625  5000116673     2006.0        0.0              220.0   \n",
       "359626  5000116673     2006.0        0.0              220.0   \n",
       "\n",
       "                     TYPE_VEHICLE  CCM_TON    MAKE            USAGE  \\\n",
       "75918   Trailers and semitrailers      0.0  MESFIN  General Cartage   \n",
       "75919   Trailers and semitrailers      0.0  MESFIN  General Cartage   \n",
       "75920   Trailers and semitrailers      0.0  MESFIN  General Cartage   \n",
       "75921   Trailers and semitrailers      0.0  MESFIN  General Cartage   \n",
       "75922   Trailers and semitrailers      0.0  MESFIN  General Cartage   \n",
       "75923   Trailers and semitrailers      0.0  MESFIN  General Cartage   \n",
       "75924   Trailers and semitrailers      0.0  MESFIN  General Cartage   \n",
       "75925   Trailers and semitrailers      0.0  MESFIN  General Cartage   \n",
       "75926   Trailers and semitrailers      0.0  MESFIN  General Cartage   \n",
       "359619  Trailers and semitrailers      0.0  MESFIN  General Cartage   \n",
       "359620  Trailers and semitrailers      0.0  MESFIN  General Cartage   \n",
       "359621  Trailers and semitrailers      0.0  MESFIN  General Cartage   \n",
       "359622  Trailers and semitrailers      0.0  MESFIN  General Cartage   \n",
       "359623  Trailers and semitrailers      0.0  MESFIN  General Cartage   \n",
       "359624  Trailers and semitrailers      0.0  MESFIN  General Cartage   \n",
       "359625  Trailers and semitrailers      0.0  MESFIN  General Cartage   \n",
       "359626  Trailers and semitrailers      0.0  MESFIN  General Cartage   \n",
       "\n",
       "        CLAIM_PAID  INSR_START_MONTH  INSR_START_YEAR  INSR_START_DAY  \\\n",
       "75918          NaN                 7             2013              31   \n",
       "75919          NaN                 7             2013               8   \n",
       "75920          NaN                11             2012               4   \n",
       "75921          NaN                 9             2012               8   \n",
       "75922          NaN                 7             2012              31   \n",
       "75923          NaN                 7             2012               8   \n",
       "75924          NaN                 7             2011              31   \n",
       "75925          NaN                10             2011               8   \n",
       "75926          NaN                 7             2011               8   \n",
       "359619         NaN                 3             2018              31   \n",
       "359620         NaN                 3             2017              31   \n",
       "359621         NaN                 3             2016              31   \n",
       "359622         NaN                 7             2016               8   \n",
       "359623         NaN                 7             2015               8   \n",
       "359624         NaN                 7             2015              31   \n",
       "359625         NaN                 7             2014              31   \n",
       "359626         NaN                 7             2014               8   \n",
       "\n",
       "           INSR_COVER  \n",
       "75918   comprehensive  \n",
       "75919   comprehensive  \n",
       "75920   comprehensive  \n",
       "75921   comprehensive  \n",
       "75922   comprehensive  \n",
       "75923   comprehensive  \n",
       "75924   comprehensive  \n",
       "75925   comprehensive  \n",
       "75926   comprehensive  \n",
       "359619  comprehensive  \n",
       "359620  comprehensive  \n",
       "359621  comprehensive  \n",
       "359622  comprehensive  \n",
       "359623  comprehensive  \n",
       "359624  comprehensive  \n",
       "359625  comprehensive  \n",
       "359626  comprehensive  "
      ]
     },
     "execution_count": 26,
     "metadata": {},
     "output_type": "execute_result"
    }
   ],
   "source": [
    "insurance_data[insurance_data[\"OBJECT_ID\"].astype(str) == \"5000116673\"]"
   ]
  },
  {
   "cell_type": "code",
   "execution_count": 27,
   "id": "7642207c",
   "metadata": {},
   "outputs": [
    {
     "data": {
      "text/plain": [
       "np.int64(7269)"
      ]
     },
     "execution_count": 27,
     "metadata": {},
     "output_type": "execute_result"
    }
   ],
   "source": [
    "(insurance_data[\"OBJECT_ID\"].value_counts() > 7).sum()"
   ]
  },
  {
   "cell_type": "markdown",
   "id": "08d92c6b",
   "metadata": {},
   "source": [
    "There are a total of 7269 OBJECT_IDs that apprear more than 7 times. This issue should be with the parties responsible with data collection. Nevertheless, correcting each one would have to be done manually by hand and therefore it would be much simpler just to remove the entries completely. In a real-world scenario, irregular values should be investigated."
   ]
  },
  {
   "cell_type": "code",
   "execution_count": 28,
   "id": "706ebb40",
   "metadata": {},
   "outputs": [
    {
     "name": "stdout",
     "output_type": "stream",
     "text": [
      "(739558, 19)\n"
     ]
    }
   ],
   "source": [
    "object_id_counts = insurance_data[\"OBJECT_ID\"].value_counts()\n",
    "\n",
    "ids_to_remove = object_id_counts[object_id_counts > 7].index\n",
    "\n",
    "insurance_data = insurance_data[~insurance_data[\"OBJECT_ID\"].isin(ids_to_remove)]\n",
    "\n",
    "print(insurance_data.shape)"
   ]
  },
  {
   "cell_type": "markdown",
   "id": "55c66598",
   "metadata": {},
   "source": [
    "### Year of production"
   ]
  },
  {
   "cell_type": "code",
   "execution_count": 29,
   "id": "b8d72714",
   "metadata": {},
   "outputs": [
    {
     "data": {
      "text/plain": [
       "PROD_YEAR\n",
       "2012.0    59366\n",
       "2014.0    51739\n",
       "2015.0    46560\n",
       "2013.0    43964\n",
       "2010.0    42433\n",
       "          ...  \n",
       "1953.0       12\n",
       "1955.0        5\n",
       "1954.0        5\n",
       "1951.0        5\n",
       "1952.0        3\n",
       "Name: count, Length: 69, dtype: int64"
      ]
     },
     "execution_count": 29,
     "metadata": {},
     "output_type": "execute_result"
    }
   ],
   "source": [
    "insurance_data[\"PROD_YEAR\"].value_counts()"
   ]
  },
  {
   "cell_type": "code",
   "execution_count": 30,
   "id": "2f68c03f",
   "metadata": {},
   "outputs": [
    {
     "data": {
      "text/plain": [
       "count    739389.000000\n",
       "mean       2004.699886\n",
       "std          10.405101\n",
       "min        1950.000000\n",
       "25%        2000.000000\n",
       "50%        2008.000000\n",
       "75%        2012.000000\n",
       "max        2018.000000\n",
       "Name: PROD_YEAR, dtype: float64"
      ]
     },
     "execution_count": 30,
     "metadata": {},
     "output_type": "execute_result"
    }
   ],
   "source": [
    "insurance_data[\"PROD_YEAR\"].describe()"
   ]
  },
  {
   "cell_type": "code",
   "execution_count": 31,
   "id": "f53767bb",
   "metadata": {},
   "outputs": [
    {
     "data": {
      "text/plain": [
       "<Axes: ylabel='Frequency'>"
      ]
     },
     "execution_count": 31,
     "metadata": {},
     "output_type": "execute_result"
    },
    {
     "data": {
      "image/png": "[encoded data removed]",
      "text/plain": [
       "<Figure size 640x480 with 1 Axes>"
      ]
     },
     "metadata": {},
     "output_type": "display_data"
    }
   ],
   "source": [
    "insurance_data[\"PROD_YEAR\"].plot(kind='hist', bins=40)"
   ]
  },
  {
   "cell_type": "markdown",
   "id": "edfe9103",
   "metadata": {},
   "source": [
    "There are no abnormalities in this attribute."
   ]
  },
  {
   "cell_type": "markdown",
   "id": "c9dde2fc",
   "metadata": {},
   "source": [
    "### Number of seats"
   ]
  },
  {
   "cell_type": "code",
   "execution_count": 32,
   "id": "f9333ebb",
   "metadata": {},
   "outputs": [
    {
     "data": {
      "text/plain": [
       "count    739323.000000\n",
       "mean          6.173605\n",
       "std          13.726818\n",
       "min           0.000000\n",
       "25%           1.000000\n",
       "50%           4.000000\n",
       "75%           4.000000\n",
       "max         199.000000\n",
       "Name: SEATS_NUM, dtype: float64"
      ]
     },
     "execution_count": 32,
     "metadata": {},
     "output_type": "execute_result"
    }
   ],
   "source": [
    "insurance_data[\"SEATS_NUM\"].describe()"
   ]
  },
  {
   "cell_type": "code",
   "execution_count": 33,
   "id": "6f33d16b",
   "metadata": {},
   "outputs": [
    {
     "data": {
      "text/plain": [
       "SEATS_NUM\n",
       "4.0      211613\n",
       "1.0      142817\n",
       "2.0       90399\n",
       "3.0       82427\n",
       "0.0       53879\n",
       "          ...  \n",
       "125.0         1\n",
       "199.0         1\n",
       "112.0         1\n",
       "72.0          1\n",
       "71.0          1\n",
       "Name: count, Length: 94, dtype: int64"
      ]
     },
     "execution_count": 33,
     "metadata": {},
     "output_type": "execute_result"
    }
   ],
   "source": [
    "insurance_data[\"SEATS_NUM\"].value_counts()"
   ]
  },
  {
   "cell_type": "markdown",
   "id": "062328f3",
   "metadata": {},
   "source": [
    "There are a total of 53866 vehicles with 0 seats which is impossible. Also, the number of seats should not exceed 256 (seats in the largest bus in the world). Other values will be considered correct."
   ]
  },
  {
   "cell_type": "code",
   "execution_count": 34,
   "id": "c10fab72",
   "metadata": {},
   "outputs": [
    {
     "name": "stdout",
     "output_type": "stream",
     "text": [
      "(685444, 19)\n"
     ]
    }
   ],
   "source": [
    "insurance_data = insurance_data[(insurance_data[\"SEATS_NUM\"] > 0) & (insurance_data[\"SEATS_NUM\"] <= 256)]\n",
    "\n",
    "print(insurance_data.shape)"
   ]
  },
  {
   "cell_type": "markdown",
   "id": "cb7347cc",
   "metadata": {},
   "source": [
    "### Carrying capacity"
   ]
  },
  {
   "cell_type": "code",
   "execution_count": 35,
   "id": "fd115a43",
   "metadata": {},
   "outputs": [
    {
     "data": {
      "text/plain": [
       "CARRYING_CAPACITY\n",
       "0.0        206940\n",
       "7.0         55346\n",
       "10.0        33951\n",
       "3.0         23894\n",
       "6.0         20817\n",
       "            ...  \n",
       "10005.0         1\n",
       "33.9            1\n",
       "20164.0         1\n",
       "10632.0         1\n",
       "6630.0          1\n",
       "Name: count, Length: 2142, dtype: int64"
      ]
     },
     "execution_count": 35,
     "metadata": {},
     "output_type": "execute_result"
    }
   ],
   "source": [
    "insurance_data[\"CARRYING_CAPACITY\"].value_counts()"
   ]
  },
  {
   "cell_type": "markdown",
   "id": "35000dcd",
   "metadata": {},
   "source": [
    "It is clear that the seat number variable and the carrying capacity variable are not clearly differentiated. They have been mixed up and should be removed."
   ]
  },
  {
   "cell_type": "code",
   "execution_count": 36,
   "id": "6e2f9269",
   "metadata": {},
   "outputs": [],
   "source": [
    "insurance_data.drop(columns=[\"SEATS_NUM\", \"CARRYING_CAPACITY\"], inplace=True)"
   ]
  },
  {
   "cell_type": "markdown",
   "id": "34c74825",
   "metadata": {},
   "source": [
    "### Vehicle type"
   ]
  },
  {
   "cell_type": "code",
   "execution_count": 37,
   "id": "269368d0",
   "metadata": {},
   "outputs": [
    {
     "data": {
      "text/plain": [
       "TYPE_VEHICLE\n",
       "Motor-cycle                  138147\n",
       "Truck                        133820\n",
       "Pick-up                      128905\n",
       "Automobile                   113938\n",
       "Bus                           98710\n",
       "Station Wagones               51191\n",
       "Tanker                         9006\n",
       "Special construction           7153\n",
       "Tractor                        4041\n",
       "Trailers and semitrailers       533\n",
       "Name: count, dtype: int64"
      ]
     },
     "execution_count": 37,
     "metadata": {},
     "output_type": "execute_result"
    }
   ],
   "source": [
    "insurance_data[\"TYPE_VEHICLE\"].value_counts()"
   ]
  },
  {
   "cell_type": "markdown",
   "id": "093d8fdc",
   "metadata": {},
   "source": [
    "Nothing out of the ordinary here."
   ]
  },
  {
   "cell_type": "markdown",
   "id": "70205429",
   "metadata": {},
   "source": [
    "### Vehicle Weight"
   ]
  },
  {
   "cell_type": "code",
   "execution_count": 38,
   "id": "7e2f235f",
   "metadata": {},
   "outputs": [
    {
     "data": {
      "text/plain": [
       "count    685444.000000\n",
       "mean       3258.295956\n",
       "std        3392.265989\n",
       "min           0.000000\n",
       "25%         790.000000\n",
       "50%        2494.000000\n",
       "75%        4164.000000\n",
       "max       20000.000000\n",
       "Name: CCM_TON, dtype: float64"
      ]
     },
     "execution_count": 38,
     "metadata": {},
     "output_type": "execute_result"
    }
   ],
   "source": [
    "insurance_data[\"CCM_TON\"].describe()"
   ]
  },
  {
   "cell_type": "code",
   "execution_count": 39,
   "id": "026e836c",
   "metadata": {},
   "outputs": [
    {
     "data": {
      "text/plain": [
       "CCM_TON\n",
       "4164.0    52168\n",
       "0.0       39414\n",
       "2494.0    38604\n",
       "200.0     30761\n",
       "4334.0    24197\n",
       "          ...  \n",
       "9680.0        1\n",
       "1692.0        1\n",
       "690.0         1\n",
       "5216.0        1\n",
       "5189.0        1\n",
       "Name: count, Length: 3608, dtype: int64"
      ]
     },
     "execution_count": 39,
     "metadata": {},
     "output_type": "execute_result"
    }
   ],
   "source": [
    "insurance_data[\"CCM_TON\"].value_counts()"
   ]
  },
  {
   "cell_type": "markdown",
   "id": "ea40c7b7",
   "metadata": {},
   "source": [
    "This variable is related to the weight of the vehicle. Since it is not clearly described how and what units are being used, we will remove it."
   ]
  },
  {
   "cell_type": "code",
   "execution_count": 40,
   "id": "40611407",
   "metadata": {},
   "outputs": [],
   "source": [
    "insurance_data.drop(columns=[\"CCM_TON\"], inplace=True)"
   ]
  },
  {
   "cell_type": "markdown",
   "id": "e89bd1e9",
   "metadata": {},
   "source": [
    "### Vehicle maker"
   ]
  },
  {
   "cell_type": "code",
   "execution_count": 41,
   "id": "ba3e2188",
   "metadata": {},
   "outputs": [
    {
     "data": {
      "text/plain": [
       "MAKE\n",
       "TOYOTA              244348\n",
       "ISUZU                69448\n",
       "BAJAJI               67072\n",
       "NISSAN               30930\n",
       "BAJAJ                17679\n",
       "                     ...  \n",
       "DONG FENGSHEN            1\n",
       "AUTOBUS                  1\n",
       "TOYOTA MERCHEDIS         1\n",
       "CHINA-ZOTYE              1\n",
       "KAMA                     1\n",
       "Name: count, Length: 657, dtype: int64"
      ]
     },
     "execution_count": 41,
     "metadata": {},
     "output_type": "execute_result"
    }
   ],
   "source": [
    "insurance_data[\"MAKE\"].value_counts()"
   ]
  },
  {
   "cell_type": "code",
   "execution_count": 42,
   "id": "f7bfe48e",
   "metadata": {},
   "outputs": [
    {
     "data": {
      "text/plain": [
       "MAKE\n",
       "CHANA               200\n",
       "TRAKER              196\n",
       "DISCOVERY           191\n",
       "LOADER              189\n",
       "MASIL FERGUSAN      187\n",
       "                   ... \n",
       "DONG FENGSHEN         1\n",
       "AUTOBUS               1\n",
       "TOYOTA MERCHEDIS      1\n",
       "CHINA-ZOTYE           1\n",
       "KAMA                  1\n",
       "Name: count, Length: 556, dtype: int64"
      ]
     },
     "execution_count": 42,
     "metadata": {},
     "output_type": "execute_result"
    }
   ],
   "source": [
    "insurance_data[\"MAKE\"].value_counts()[insurance_data[\"MAKE\"].value_counts() <= 200]"
   ]
  },
  {
   "cell_type": "markdown",
   "id": "d99ad2af",
   "metadata": {},
   "source": [
    "There is a large number of vehicle maker names that are not representative of the manufacturer or are miss-spellings of the brand name, with 'TOYOTA MERCHEDIS' being the most humorous one. Since there is a total number of 657 unique brands, individual corrections would be too cumbersome. Instead, we can use a list of car names and check for matches in the dataset.\n",
    "\n",
    "We will scrape a complete list of car brands from a car brand [website](https://www.carlogos.org/)."
   ]
  },
  {
   "cell_type": "code",
   "execution_count": 43,
   "id": "e298c23b",
   "metadata": {},
   "outputs": [
    {
     "name": "stdout",
     "output_type": "stream",
     "text": [
      "['Europe', 'USA', 'JPN', 'GER', 'ITA', 'UK', 'FRA', 'KOR', 'CHN', 'AUS', 'RUS', 'ESP', 'SWE', 'IND', 'Other', 'Popular', 'Luxury', 'Sports Cars', 'Supercars', 'Electric', 'Trucks', 'Abadal', 'Abarth', 'Abbott-Detroit', 'ABT', 'AC', 'Acura', 'Aiways', 'Aixam', 'Alfa Romeo', 'Alpina', 'Alpine', 'Alta', 'Alvis', 'AMC', 'Apollo', 'Arash', 'Arcfox', 'Ariel', 'ARO', 'Arrival', 'Arrinera', 'Artega', 'Ascari', 'Askam', 'Aspark', 'Aston Martin', 'Atalanta', 'Auburn', 'Audi', 'Audi Sport', 'Austin', 'Autobacs', 'Autobianchi', 'Axon', 'BAC', 'BAIC Motor', 'Baojun', 'BeiBen', 'Bentley', 'Berkeley', 'Berliet', 'Bertone', 'Bestune', 'BharatBenz', 'Bitter', 'Bizzarrini', 'BMW', 'BMW M', 'Borgward', 'Bowler', 'Brabus', 'Brammo', 'Brilliance', 'Bristol', 'Brooke', 'Bufori', 'Bugatti', 'Buick', 'BYD', 'Byton', 'Cadillac', 'CAMC', 'Canoo', 'Caparo', 'Carlsson', 'Caterham', 'Changan', 'Changfeng', 'Chery', 'Chevrolet Corvette', 'Chevrolet', 'Chrysler', 'Cisitalia', 'Citroën', 'Cizeta', 'Cole', 'Corre La Licorne', 'Dacia', 'Daewoo', 'DAF', 'Daihatsu', 'Daimler', 'Dartz', 'Datsun', 'David Brown', 'Dayun', 'De Tomaso', 'Delage', 'DeSoto', 'Detroit Electric', 'Devel Sixteen', 'Diatto', 'DINA', 'DKW', 'DMC', 'Dodge', 'Dodge Viper', 'Dongfeng', 'Donkervoort', 'Drako', 'DS', 'Duesenberg', 'Eagle', 'EDAG', 'Edsel', 'Eicher', 'Elemental', 'Elfin', 'Elva', 'Englon', 'ERF', 'Eterniti', 'Exeed', '9ff', 'Facel Vega', 'Faraday Future', 'FAW', 'FAW Jiefang', 'Ferrari', 'Fiat', 'Fioravanti', 'Fisker', 'Foden', 'Force Motors', 'Ford', 'Ford Mustang', 'Foton', 'FPV', 'Franklin', 'Freightliner', 'FSO', 'GAC Group', 'Gardner Douglas', 'GAZ', 'Geely', 'General Motors', 'Genesis', 'Geo', 'Geometry', 'Gilbern', 'Gillet', 'Ginetta', 'GMC', 'Golden Dragon', 'Gonow', 'Great Wall', 'Grinnall', 'Gumpert', 'Hafei', 'Haima', 'Haval', 'Hawtai', 'Hennessey', 'Hillman', 'Hindustan Motors', 'Higer', 'Hino', 'HiPhi', 'Hispano-Suiza', 'Holden', 'Hommell', 'Honda', 'Hongqi', 'Hongyan', 'Horch', 'HSV', 'Hudson', 'Hummer', 'Hupmobile', 'Hyundai', 'IC Bus', 'Infiniti', 'Innocenti', 'Intermeccanica', 'IH', 'International', 'IKCO', 'Irizar', 'Isdera', 'Iso', 'Isuzu', 'Iveco', 'JAC', 'Jaguar', 'Jawa', 'JBA Motors', 'Jeep', 'Jensen', 'Jetta', 'JMC', 'Kaiser', 'Kamaz', 'Karlmann King', 'Karma', 'Keating', 'Kenworth', 'Kia', 'King Long', 'Koenigsegg', 'KTM', 'Lada', 'Lagonda', 'Lamborghini', 'Lancia', 'Land Rover', 'Landwind', 'Laraki', 'Leapmotor', 'Lexus', 'Leyland', 'Li Auto', 'Lifan', 'Ligier', 'Lincoln', 'Lister', 'Lloyd', 'Lobini', 'LEVC', 'Lordstown', 'Lotus', 'Lucid', 'Luxgen', 'Lynk & Co', 'Mack', 'Mahindra', 'MAN', 'Mansory', 'Marcos', 'Marlin', 'Maserati', 'Mastretta', 'Maxus', 'Maybach', 'MAZ', 'Mazda', 'Mazzanti', 'McLaren', 'Melkus', 'Mercedes-AMG', 'Mercedes-Benz', 'Mercury', 'Merkur', 'MEV', 'MG', 'Microcar', 'Mini', 'Mitsubishi', 'Mitsuoka', 'MK', 'Morgan', 'Morris', 'Mosler', 'Navistar', 'NEVS', 'NIO', 'Nikola', 'Nissan GT-R', 'Nissan', 'Nissan Nismo', 'Noble', 'Oldsmobile', 'Oltcit', 'Opel', 'OSCA', 'Paccar', 'Packard', 'Pagani', 'Panhard', 'Panoz', 'Pegaso', 'Perodua', 'Peterbilt', 'Peugeot', 'PGO', 'Pierce-Arrow', 'Pininfarina', 'Plymouth', 'Polestar', 'Pontiac', 'Porsche', 'Praga', 'Premier', 'Prodrive', 'Proton', 'Qoros', 'Radical', 'RAM', 'Rambler', 'Ranz', 'Renault', 'Renault Samsung', 'Rezvani', 'Riley', 'Rimac', 'Rinspeed', 'Rivian', 'Roewe', 'Rolls-Royce', 'Ronart', 'Rossion', 'Rover', 'RUF', 'Saab', 'SAIC Motor', 'Saipa', 'Saleen', 'Saturn', 'Scania', 'Scion', 'SEAT', 'Setra', 'Shacman', 'Simca', 'Singer', 'Singulato', 'Sinotruk', 'Sisu', 'Škoda', 'Smart', 'Soueast', 'Spania GTA', 'Spirra', 'Spyker', 'SsangYong', 'SSC', 'Sterling', 'Studebaker', 'Stutz', 'Subaru', 'Suffolk', 'Suzuki', 'Talbot', 'Tata', 'Tatra', 'Tauro', 'TechArt', 'Tesla', 'Toyota Alphard', 'Toyota Century', 'Toyota Crown', 'Toyota', 'Tramontana', 'Trion', 'Triumph', 'Troller', 'Tucker', 'TVR', 'UAZ', 'UD', 'Ultima', 'Vandenbrink', 'Vauxhall', 'Vector', 'Vencer', 'Venturi', 'Venucia', 'VinFast', 'VLF', 'Volkswagen', 'Volvo', 'Wanderer', 'W Motors', 'Wartburg', 'Weltmeister', 'Western Star', 'Westfield', 'WEY', 'Wiesmann', 'Willys-Overland', 'Workhorse', 'Wuling', 'XPeng', 'Yulon', 'Yutong', 'Zarooq Motors', 'Zastava', 'ZAZ', 'Zeekr', 'Zenos', 'Zenvo', 'Zhongtong', 'Zinoro', 'Zotye', 'Car Brands', 'Tire Brands', 'Motorcycle Brands', 'Reviews', 'Quizzes', 'Car Brands A-Z', 'Car Logo Quiz', 'Largest Car Companies']\n"
     ]
    },
    {
     "data": {
      "text/plain": [
       "412"
      ]
     },
     "execution_count": 43,
     "metadata": {},
     "output_type": "execute_result"
    }
   ],
   "source": [
    "url = \"https://www.carlogos.org/car-brands-a-z/\"\n",
    "\n",
    "headers = {\n",
    "    \"User-Agent\": (\n",
    "        \"Mozilla/5.0 (Windows NT 10.0; Win64; x64) \"\n",
    "        \"AppleWebKit/537.36 (KHTML, like Gecko) \"\n",
    "        \"Chrome/115.0.0.0 Safari/537.36\"\n",
    "    )\n",
    "}\n",
    "\n",
    "response = requests.get(url, headers=headers)\n",
    "response.raise_for_status()\n",
    "\n",
    "soup = BeautifulSoup(response.text, \"html.parser\")\n",
    "\n",
    "brands = []\n",
    "\n",
    "for dd in soup.find_all(\"dd\"):\n",
    "    a_tag = dd.find(\"a\")\n",
    "    if a_tag and a_tag.text.strip():\n",
    "        brands.append(a_tag.text.strip())\n",
    "\n",
    "brands = list(dict.fromkeys(brands))\n",
    "\n",
    "print(brands)\n",
    "\n",
    "len(brands)"
   ]
  },
  {
   "cell_type": "markdown",
   "id": "464ba5d3",
   "metadata": {},
   "source": [
    "The website states that there are 383 car brands on the website. The beginning of the list contains countries and the end contains other unrelated text. That should prove easy to clean."
   ]
  },
  {
   "cell_type": "code",
   "execution_count": 44,
   "id": "5257a0bc",
   "metadata": {},
   "outputs": [
    {
     "name": "stdout",
     "output_type": "stream",
     "text": [
      "['Abadal', 'Abarth', 'Abbott-Detroit', 'ABT', 'AC', 'Acura', 'Aiways', 'Aixam', 'Alfa Romeo', 'Alpina', 'Alpine', 'Alta', 'Alvis', 'AMC', 'Apollo', 'Arash', 'Arcfox', 'Ariel', 'ARO', 'Arrival', 'Arrinera', 'Artega', 'Ascari', 'Askam', 'Aspark', 'Aston Martin', 'Atalanta', 'Auburn', 'Audi', 'Austin', 'Autobacs', 'Autobianchi', 'Axon', 'BAC', 'BAIC Motor', 'Baojun', 'BeiBen', 'Bentley', 'Berkeley', 'Berliet', 'Bertone', 'Bestune', 'BharatBenz', 'Bitter', 'Bizzarrini', 'BMW', 'Borgward', 'Bowler', 'Brabus', 'Brammo', 'Brilliance', 'Bristol', 'Brooke', 'Bufori', 'Bugatti', 'Buick', 'BYD', 'Byton', 'Cadillac', 'CAMC', 'Canoo', 'Caparo', 'Carlsson', 'Caterham', 'Changan', 'Changfeng', 'Chery', 'Chevrolet', 'Chrysler', 'Cisitalia', 'Citroën', 'Cizeta', 'Cole', 'Corre La Licorne', 'Dacia', 'Daewoo', 'DAF', 'Daihatsu', 'Daimler', 'Dartz', 'Datsun', 'David Brown', 'Dayun', 'De Tomaso', 'Delage', 'DeSoto', 'Detroit Electric', 'Devel Sixteen', 'Diatto', 'DINA', 'DKW', 'DMC', 'Dodge', 'Dodge Viper', 'Dongfeng', 'Donkervoort', 'Drako', 'DS', 'Duesenberg', 'Eagle', 'EDAG', 'Edsel', 'Eicher', 'Elemental', 'Elfin', 'Elva', 'Englon', 'ERF', 'Eterniti', 'Exeed', '9ff', 'Facel Vega', 'Faraday Future', 'FAW', 'FAW Jiefang', 'Ferrari', 'Fiat', 'Fioravanti', 'Fisker', 'Foden', 'Force Motors', 'Ford', 'Foton', 'FPV', 'Franklin', 'Freightliner', 'FSO', 'GAC Group', 'Gardner Douglas', 'GAZ', 'Geely', 'General Motors', 'Genesis', 'Geo', 'Geometry', 'Gilbern', 'Gillet', 'Ginetta', 'GMC', 'Golden Dragon', 'Gonow', 'Great Wall', 'Grinnall', 'Gumpert', 'Hafei', 'Haima', 'Haval', 'Hawtai', 'Hennessey', 'Hillman', 'Hindustan Motors', 'Higer', 'Hino', 'HiPhi', 'Hispano-Suiza', 'Holden', 'Hommell', 'Honda', 'Hongqi', 'Hongyan', 'Horch', 'HSV', 'Hudson', 'Hummer', 'Hupmobile', 'Hyundai', 'IC Bus', 'Infiniti', 'Innocenti', 'Intermeccanica', 'IH', 'International', 'IKCO', 'Irizar', 'Isdera', 'Iso', 'Isuzu', 'Iveco', 'JAC', 'Jaguar', 'Jawa', 'JBA Motors', 'Jeep', 'Jensen', 'Jetta', 'JMC', 'Kaiser', 'Kamaz', 'Karlmann King', 'Karma', 'Keating', 'Kenworth', 'Kia', 'King Long', 'Koenigsegg', 'KTM', 'Lada', 'Lagonda', 'Lamborghini', 'Lancia', 'Land Rover', 'Landwind', 'Laraki', 'Leapmotor', 'Lexus', 'Leyland', 'Li Auto', 'Lifan', 'Ligier', 'Lincoln', 'Lister', 'Lloyd', 'Lobini', 'LEVC', 'Lordstown', 'Lotus', 'Lucid', 'Luxgen', 'Lynk & Co', 'Mack', 'Mahindra', 'MAN', 'Mansory', 'Marcos', 'Marlin', 'Maserati', 'Mastretta', 'Maxus', 'Maybach', 'MAZ', 'Mazda', 'Mazzanti', 'McLaren', 'Melkus', 'Mercedes', 'Mercury', 'Merkur', 'MEV', 'MG', 'Microcar', 'Mini', 'Mitsubishi', 'Mitsuoka', 'MK', 'Morgan', 'Morris', 'Mosler', 'Navistar', 'NEVS', 'NIO', 'Nikola', 'Nissan', 'Nissan Nismo', 'Noble', 'Oldsmobile', 'Oltcit', 'Opel', 'OSCA', 'Paccar', 'Packard', 'Pagani', 'Panhard', 'Panoz', 'Pegaso', 'Perodua', 'Peterbilt', 'Peugeot', 'PGO', 'Pierce-Arrow', 'Pininfarina', 'Plymouth', 'Polestar', 'Pontiac', 'Porsche', 'Praga', 'Premier', 'Prodrive', 'Proton', 'Qoros', 'Radical', 'RAM', 'Rambler', 'Ranz', 'Renault', 'Renault Samsung', 'Rezvani', 'Riley', 'Rimac', 'Rinspeed', 'Rivian', 'Roewe', 'Rolls-Royce', 'Ronart', 'Rossion', 'Rover', 'RUF', 'Saab', 'SAIC Motor', 'Saipa', 'Saleen', 'Saturn', 'Scania', 'Scion', 'SEAT', 'Setra', 'Shacman', 'Simca', 'Singer', 'Singulato', 'Sinotruk', 'Sisu', 'Škoda', 'Smart', 'Soueast', 'Spania GTA', 'Spirra', 'Spyker', 'SsangYong', 'SSC', 'Sterling', 'Studebaker', 'Stutz', 'Subaru', 'Suffolk', 'Suzuki', 'Talbot', 'Tata', 'Tatra', 'Tauro', 'TechArt', 'Tesla', 'Toyota', 'Tramontana', 'Trion', 'Triumph', 'Troller', 'Tucker', 'TVR', 'UAZ', 'UD', 'Ultima', 'Vandenbrink', 'Vauxhall', 'Vector', 'Vencer', 'Venturi', 'Venucia', 'VinFast', 'VLF', 'Volkswagen', 'Volvo', 'Wanderer', 'W Motors', 'Wartburg', 'Weltmeister', 'Western Star', 'Westfield', 'WEY', 'Wiesmann', 'Willys-Overland', 'Workhorse', 'Wuling', 'XPeng', 'Yulon', 'Yutong', 'Zarooq Motors', 'Zastava', 'ZAZ', 'Zeekr', 'Zenos', 'Zenvo', 'Zhongtong', 'Zinoro', 'Zotye']\n"
     ]
    },
    {
     "data": {
      "text/plain": [
       "374"
      ]
     },
     "execution_count": 44,
     "metadata": {},
     "output_type": "execute_result"
    }
   ],
   "source": [
    "brands_clean = brands[21:-8]\n",
    "\n",
    "remove_list = [\"Mercedes-Benz\", \"Audi Sport\", \"BMW M\", \"Chevrolet Corvette\", \"Ford Mustang\", \"Nissan GT-R\", \"Toyota Alphard\", \"Toyota Century\", \"Toyota Crown\"]\n",
    "brands_clean = [b for b in brands_clean if b not in remove_list]\n",
    "\n",
    "brands_clean = [\"Mercedes\" if b == \"Mercedes-AMG\" else b for b in brands_clean]\n",
    "\n",
    "print(brands_clean)\n",
    "\n",
    "len(brands_clean)"
   ]
  },
  {
   "cell_type": "markdown",
   "id": "ffbd6e98",
   "metadata": {},
   "source": [
    "We can now look for matching brands in our dataset. For that we will use the fuzzywuzzy library and search for matches using the Levenshtein distance."
   ]
  },
  {
   "cell_type": "code",
   "execution_count": 45,
   "id": "0549c760",
   "metadata": {},
   "outputs": [],
   "source": [
    "insurance_data = insurance_data[insurance_data[\"MAKE\"].str.strip() != '*']"
   ]
  },
  {
   "cell_type": "code",
   "execution_count": 46,
   "id": "b26e942a",
   "metadata": {},
   "outputs": [],
   "source": [
    "unique_makes = insurance_data[\"MAKE\"].unique()\n",
    "\n",
    "def match_brand(brand):\n",
    "    match, score = process.extractOne(brand, brands_clean)\n",
    "    return match if score >= 80 else 'UNKNOWN'\n",
    "\n",
    "mapping = {make: match_brand(make) for make in unique_makes}"
   ]
  },
  {
   "cell_type": "markdown",
   "id": "b808acbf",
   "metadata": {},
   "source": [
    "We can review and map the remaining brands that were not detected as matches manually."
   ]
  },
  {
   "cell_type": "code",
   "execution_count": 47,
   "id": "03efc3f3",
   "metadata": {},
   "outputs": [],
   "source": [
    "manual_mapping = {\n",
    "    \"MERCEEDICE\": \"Mercedes\",\n",
    "    \"MERCEEDES\": \"Mercedes\",\n",
    "    \"MERCHEDES\": \"Mercedes\",\n",
    "    \"MERCEDICE\": \"Mercedes\",\n",
    "    \"MERCEDIS\": \"Mercedes\",\n",
    "    \"DUNGFING\": \"Dongfeng\",\n",
    "    \"GEEP\": \"Jeep\",\n",
    "    \"PEAGOUT\": \"Peugeot\",\n",
    "    \"PAGOT\": \"Peugeot\",\n",
    "    \"PEJOT\": \"Peugeot\",\n",
    "    \"LAND CRUISER\": \"Toyota\",\n",
    "    \"T0Y0TA\": \"Toyota\",\n",
    "    \"COROLLA\": \"Toyota\",\n",
    "    \"RAV4\": \"Toyota\",\n",
    "    \"VOLSVAGON\": \"Volkswagen\",\n",
    "    \"PASSAT\": \"Volkswagen\",\n",
    "    \"HYUNDI GETZ\": \"Hyundai\",\n",
    "    \"DISCOVER\": \"Land Rover\",\n",
    "    \"FOED\": \"Ford\",\n",
    "    \"BMB\": \"BMW\"\n",
    "}\n",
    "\n",
    "combined_mapping = {**mapping, **manual_mapping}\n",
    "\n",
    "insurance_data[\"MANUFACTURER\"] = insurance_data[\"MAKE\"].map(mapping)"
   ]
  },
  {
   "cell_type": "code",
   "execution_count": 48,
   "id": "7159a19f",
   "metadata": {},
   "outputs": [
    {
     "data": {
      "text/plain": [
       "array(['Toyota', 'Mitsubishi', 'Iveco', 'Fiat', 'Isuzu', 'Mercedes',\n",
       "       'Nissan', 'Bizzarrini', 'Rover', 'BMW', 'UNKNOWN', 'Suzuki',\n",
       "       'Daihatsu', 'DAF', 'Sinotruk', 'Higer', 'Ford', 'Peugeot',\n",
       "       'Volkswagen', 'Daewoo', 'FAW Jiefang', 'Renault', 'IC Bus',\n",
       "       'International', 'Tauro', 'Scania', 'Volvo', 'Datsun',\n",
       "       'Land Rover', 'Tata', 'Hino', 'Opel', 'Hyundai', 'Chevrolet',\n",
       "       'Honda', 'Lada', 'Mazda', 'Dacia', 'Kia', 'Alfa Romeo', 'AC',\n",
       "       'Dayun', 'GMC', 'Setra', 'Foton', 'Audi', 'Mahindra', 'Mack',\n",
       "       'FAW', 'Škoda', 'Lifan', 'Chery', 'Lexus', 'Geely', 'Zotye', 'MAZ',\n",
       "       'Cadillac', 'Kamaz', 'JAC', 'Mini', 'Arash', 'MAN', 'Citroën',\n",
       "       'Autobacs', 'Hongyan', 'Force Motors', 'ARO', 'Wuling',\n",
       "       'Great Wall', 'Caterham', 'Jeep', 'Pontiac', 'Changan', 'Troller',\n",
       "       'UD', 'Saab', 'Dongfeng', 'W Motors', 'Dodge', 'RAM', 'Lancia',\n",
       "       'Cole', 'Eicher', 'JMC', 'Roewe', 'Shacman', 'Landwind', 'Hummer',\n",
       "       'King Long', 'Infiniti', 'Hafei', 'Porsche', 'BYD', 'Mercury',\n",
       "       'BeiBen', 'Brabus', 'Yutong', 'Auburn', 'Englon', 'Lynk & Co',\n",
       "       'Western Star', 'Byton', 'DS', 'Fioravanti', 'Smart', 'Axon', 'MG',\n",
       "       'Geo', 'Franklin', 'PGO', 'Cisitalia', 'BAIC Motor', 'IH', 'Acura',\n",
       "       'Daimler'], dtype=object)"
      ]
     },
     "execution_count": 48,
     "metadata": {},
     "output_type": "execute_result"
    }
   ],
   "source": [
    "insurance_data[\"MANUFACTURER\"].unique()"
   ]
  },
  {
   "cell_type": "markdown",
   "id": "0cd6d9fe",
   "metadata": {},
   "source": [
    "### Primary function of vehicle"
   ]
  },
  {
   "cell_type": "code",
   "execution_count": 49,
   "id": "214215f9",
   "metadata": {},
   "outputs": [
    {
     "data": {
      "text/plain": [
       "USAGE\n",
       "Own Goods                 181574\n",
       "Private                   180903\n",
       "Fare Paying Passengers    115320\n",
       "General Cartage            93315\n",
       "Taxi                       46512\n",
       "Own service                44365\n",
       "Others                      8312\n",
       "Special Construction        3154\n",
       "Ambulance                   2931\n",
       "Learnes                     2624\n",
       "Car Hires                   2391\n",
       "Agricultural Own Farm       2299\n",
       "Agricultural Any Farm       1641\n",
       "Fire fighting                102\n",
       "Name: count, dtype: int64"
      ]
     },
     "execution_count": 49,
     "metadata": {},
     "output_type": "execute_result"
    }
   ],
   "source": [
    "insurance_data[\"USAGE\"].value_counts()"
   ]
  },
  {
   "cell_type": "markdown",
   "id": "0fb89aaf",
   "metadata": {},
   "source": [
    "All functions seem valid."
   ]
  },
  {
   "cell_type": "markdown",
   "id": "9500b076",
   "metadata": {},
   "source": [
    "### Paid claim sum"
   ]
  },
  {
   "cell_type": "code",
   "execution_count": 50,
   "id": "e491864a",
   "metadata": {},
   "outputs": [
    {
     "name": "stdout",
     "output_type": "stream",
     "text": [
      "count      685443.00\n",
      "mean        19113.32\n",
      "std        433982.33\n",
      "min             0.00\n",
      "25%             0.00\n",
      "50%             0.00\n",
      "75%             0.00\n",
      "max     152445764.90\n",
      "Name: CLAIM_PAID, dtype: float64\n"
     ]
    }
   ],
   "source": [
    "insurance_data[\"CLAIM_PAID\"] = insurance_data[\"CLAIM_PAID\"].replace(np.nan, 0)\n",
    "\n",
    "pd.set_option('display.float_format', '{:.2f}'.format)\n",
    "\n",
    "print(insurance_data[\"CLAIM_PAID\"].describe())"
   ]
  },
  {
   "cell_type": "code",
   "execution_count": 51,
   "id": "354534eb",
   "metadata": {},
   "outputs": [
    {
     "data": {
      "text/plain": [
       "np.float64(0.0)"
      ]
     },
     "execution_count": 51,
     "metadata": {},
     "output_type": "execute_result"
    }
   ],
   "source": [
    "insurance_data[\"CLAIM_PAID\"].median()"
   ]
  },
  {
   "cell_type": "code",
   "execution_count": 52,
   "id": "59fbe170",
   "metadata": {},
   "outputs": [
    {
     "data": {
      "text/plain": [
       "633795"
      ]
     },
     "execution_count": 52,
     "metadata": {},
     "output_type": "execute_result"
    }
   ],
   "source": [
    "len(insurance_data[insurance_data[\"CLAIM_PAID\"] == 0])"
   ]
  },
  {
   "cell_type": "markdown",
   "id": "9040a35c",
   "metadata": {},
   "source": [
    "The payout values seem realistic since they are in Ethiopian birr. The largest paid sum is around 1,100,000 USD and the median no payout at all (0 USD)."
   ]
  },
  {
   "cell_type": "markdown",
   "id": "d2f4522c",
   "metadata": {},
   "source": [
    "### Insurance premium\n",
    "\n",
    "The premium amounts are provided in Ethiopian birr (1000 Birr = 7,3 USD)."
   ]
  },
  {
   "cell_type": "code",
   "execution_count": 53,
   "id": "f3596c4b",
   "metadata": {},
   "outputs": [
    {
     "data": {
      "text/plain": [
       "np.int64(10)"
      ]
     },
     "execution_count": 53,
     "metadata": {},
     "output_type": "execute_result"
    }
   ],
   "source": [
    "insurance_data[\"PREMIUM\"][insurance_data[\"PREMIUM\"] <= 0].count()"
   ]
  },
  {
   "cell_type": "markdown",
   "id": "a09ba709",
   "metadata": {},
   "source": [
    "There are 29 vehicles with a premium of 0 or less. This is not acceptable and we will remove them. I was informed by the publisher of the dataset that the company follows a principle of \"No premium, no insurance\". This method of record keeping is ineffective."
   ]
  },
  {
   "cell_type": "code",
   "execution_count": 54,
   "id": "2537504c",
   "metadata": {},
   "outputs": [
    {
     "data": {
      "text/plain": [
       "count   685414.00\n",
       "mean      7440.73\n",
       "std      10866.36\n",
       "min          2.98\n",
       "25%        726.75\n",
       "50%       3016.30\n",
       "75%       9611.27\n",
       "max     330818.54\n",
       "Name: PREMIUM, dtype: float64"
      ]
     },
     "execution_count": 54,
     "metadata": {},
     "output_type": "execute_result"
    }
   ],
   "source": [
    "insurance_data = insurance_data[insurance_data[\"PREMIUM\"] > 0]\n",
    "\n",
    "insurance_data[\"PREMIUM\"].describe()"
   ]
  },
  {
   "cell_type": "markdown",
   "id": "6a51351e",
   "metadata": {},
   "source": [
    "From the variable description it becomes clear that it is nowhere close to normality."
   ]
  },
  {
   "cell_type": "code",
   "execution_count": 55,
   "id": "27753503",
   "metadata": {},
   "outputs": [
    {
     "data": {
      "image/png": "[encoded data removed]",
      "text/plain": [
       "<Figure size 640x480 with 1 Axes>"
      ]
     },
     "metadata": {},
     "output_type": "display_data"
    }
   ],
   "source": [
    "params = expon.fit(insurance_data[\"PREMIUM\"])\n",
    "\n",
    "x = np.linspace(0, 50000, 1000)\n",
    "pdf = expon.pdf(x, *params)\n",
    "\n",
    "plt.hist(insurance_data[\"PREMIUM\"], bins=500, density=True)\n",
    "plt.plot(x, pdf, 'r')\n",
    "plt.xlim([0, 50000])\n",
    "plt.show()"
   ]
  },
  {
   "cell_type": "markdown",
   "id": "e82a08b6",
   "metadata": {},
   "source": [
    "The distribution closely resembles an exponential one."
   ]
  },
  {
   "cell_type": "code",
   "execution_count": 56,
   "id": "c459432b",
   "metadata": {},
   "outputs": [
    {
     "name": "stdout",
     "output_type": "stream",
     "text": [
      "P-value: 0.0000\n"
     ]
    }
   ],
   "source": [
    "D, p_value = kstest(insurance_data[\"PREMIUM\"], 'expon', args=params)\n",
    "\n",
    "print(f\"P-value: {p_value:.4f}\")"
   ]
  },
  {
   "cell_type": "markdown",
   "id": "a1e25c02",
   "metadata": {},
   "source": [
    "As the p-value is less than 0.05, we fail to reject the null hypothesis. This distribution might as well exponential."
   ]
  },
  {
   "cell_type": "code",
   "execution_count": 57,
   "id": "4a801a03",
   "metadata": {},
   "outputs": [
    {
     "data": {
      "image/png": "[encoded data removed]",
      "text/plain": [
       "<Figure size 800x600 with 2 Axes>"
      ]
     },
     "metadata": {},
     "output_type": "display_data"
    }
   ],
   "source": [
    "log_premiums = np.log(insurance_data[\"PREMIUM\"])\n",
    "\n",
    "fig, axes = plt.subplots(2, 1, figsize=(8, 6), gridspec_kw={'height_ratios': [1, 4]})\n",
    "\n",
    "axes[0].boxplot(log_premiums, vert=False, widths=0.6)\n",
    "axes[0].set_xticks([])\n",
    "axes[0].set_yticks([])\n",
    "\n",
    "axes[1].hist(log_premiums, bins=22)\n",
    "axes[1].set_xlabel('Log Premium')\n",
    "\n",
    "plt.tight_layout(h_pad=0)\n",
    "\n",
    "plt.show()"
   ]
  },
  {
   "cell_type": "markdown",
   "id": "a857a159",
   "metadata": {},
   "source": [
    "### Modelling"
   ]
  },
  {
   "cell_type": "code",
   "execution_count": 58,
   "id": "366581a6",
   "metadata": {},
   "outputs": [
    {
     "name": "stdout",
     "output_type": "stream",
     "text": [
      "<class 'pandas.core.frame.DataFrame'>\n",
      "Index: 685414 entries, 8 to 802035\n",
      "Data columns (total 17 columns):\n",
      " #   Column            Non-Null Count   Dtype         \n",
      "---  ------            --------------   -----         \n",
      " 0   SEX               685414 non-null  object        \n",
      " 1   INSR_BEGIN        685414 non-null  datetime64[ns]\n",
      " 2   INSR_END          685414 non-null  datetime64[ns]\n",
      " 3   INSR_TYPE         685414 non-null  object        \n",
      " 4   INSURED_VALUE     685414 non-null  float64       \n",
      " 5   PREMIUM           685414 non-null  float64       \n",
      " 6   OBJECT_ID         685414 non-null  int64         \n",
      " 7   PROD_YEAR         685411 non-null  float64       \n",
      " 8   TYPE_VEHICLE      685414 non-null  object        \n",
      " 9   MAKE              685414 non-null  object        \n",
      " 10  USAGE             685414 non-null  object        \n",
      " 11  CLAIM_PAID        685414 non-null  float64       \n",
      " 12  INSR_START_MONTH  685414 non-null  int32         \n",
      " 13  INSR_START_YEAR   685414 non-null  int32         \n",
      " 14  INSR_START_DAY    685414 non-null  int32         \n",
      " 15  INSR_COVER        685414 non-null  object        \n",
      " 16  MANUFACTURER      685414 non-null  object        \n",
      "dtypes: datetime64[ns](2), float64(4), int32(3), int64(1), object(7)\n",
      "memory usage: 86.3+ MB\n"
     ]
    }
   ],
   "source": [
    "insurance_data.info()"
   ]
  },
  {
   "cell_type": "markdown",
   "id": "3b35675d",
   "metadata": {},
   "source": [
    "We are left with 12 variables that could be used for modelling: SEX, INSR_TYPE, INSURED_VALUE, PROD_YEAR, TYPE_VEHICLE, MAKE, USAGE, CLAIM_PAID, INSR_COVER, INSR_START_DAY, INSR_START_MONTH and INSR_START_YEAR."
   ]
  },
  {
   "cell_type": "code",
   "execution_count": 59,
   "id": "308c61b0",
   "metadata": {},
   "outputs": [
    {
     "data": {
      "text/plain": [
       "(0.6700626831903147, np.float64(3721.5058386746146))"
      ]
     },
     "execution_count": 59,
     "metadata": {},
     "output_type": "execute_result"
    }
   ],
   "source": [
    "model = LinearRegression()\n",
    "\n",
    "X = insurance_data[[\"SEX\", \"INSR_TYPE\", \"INSURED_VALUE\", \"CLAIM_PAID\", \"INSR_COVER\", \"MANUFACTURER\", \"TYPE_VEHICLE\", \"USAGE\"]].copy()\n",
    "\n",
    "X = pd.get_dummies(X, columns=[\"SEX\", \"INSR_TYPE\", \"INSR_COVER\", \"MANUFACTURER\", \"TYPE_VEHICLE\", \"USAGE\"], drop_first=True)\n",
    "\n",
    "Y = insurance_data[\"PREMIUM\"]\n",
    "\n",
    "X_train, X_test, Y_train, Y_test = sk.model_selection.train_test_split(X, Y, test_size=0.2, random_state=87)\n",
    "\n",
    "model.fit(X_train, Y_train)\n",
    "\n",
    "Y_pred = model.predict(X_test)\n",
    "\n",
    "r_sq = model.score(X_test, Y_test)\n",
    "\n",
    "mae = sk.metrics.mean_absolute_error(Y_test, Y_pred)\n",
    "\n",
    "r_sq, mae"
   ]
  },
  {
   "cell_type": "code",
   "execution_count": 60,
   "id": "31ec912b",
   "metadata": {},
   "outputs": [
    {
     "data": {
      "image/png": "[encoded data removed]",
      "text/plain": [
       "<Figure size 640x480 with 1 Axes>"
      ]
     },
     "metadata": {},
     "output_type": "display_data"
    }
   ],
   "source": [
    "plt.scatter(Y_test, Y_pred, alpha=0.2)\n",
    "plt.plot([Y_test.min(), Y_test.max()], [Y_test.min(), Y_test.max()], 'r')\n",
    "plt.title(\"Accuracy Plot\")\n",
    "plt.xlabel(\"Actual\")\n",
    "plt.ylabel(\"Predicted\")\n",
    "plt.show()"
   ]
  },
  {
   "cell_type": "code",
   "execution_count": 61,
   "id": "2b51098d",
   "metadata": {},
   "outputs": [
    {
     "data": {
      "image/png": "[encoded data removed]",
      "text/plain": [
       "<Figure size 640x480 with 1 Axes>"
      ]
     },
     "metadata": {},
     "output_type": "display_data"
    }
   ],
   "source": [
    "plt.scatter(Y_pred, Y_test - Y_pred, alpha=0.2)\n",
    "plt.axhline(y=0, color='r')\n",
    "plt.xlabel(\"Predicted\")\n",
    "plt.ylabel(\"Residuals\")\n",
    "plt.title(\"Residual Plot\")\n",
    "plt.show()"
   ]
  },
  {
   "cell_type": "code",
   "execution_count": 62,
   "id": "2c758842",
   "metadata": {},
   "outputs": [
    {
     "name": "stdout",
     "output_type": "stream",
     "text": [
      "Correlation: 0.82\n"
     ]
    }
   ],
   "source": [
    "correlation = np.corrcoef(Y_test, Y_pred)[0, 1]\n",
    "print(f\"Correlation: {correlation:.2f}\")"
   ]
  },
  {
   "cell_type": "code",
   "execution_count": 63,
   "id": "fe657025",
   "metadata": {},
   "outputs": [
    {
     "data": {
      "image/png": "[encoded data removed]",
      "text/plain": [
       "<Figure size 640x480 with 1 Axes>"
      ]
     },
     "metadata": {},
     "output_type": "display_data"
    }
   ],
   "source": [
    "plt.hist(Y_test - Y_pred, bins=30, density=True, alpha=0.7)\n",
    "plt.xlabel(\"Residuals\")\n",
    "plt.ylabel(\"Frequency\")\n",
    "plt.title(\"Distribution of Residuals\")\n",
    "plt.show()"
   ]
  }
 ],
 "metadata": {
  "kernelspec": {
   "display_name": "Python 3",
   "language": "python",
   "name": "python3"
  },
  "language_info": {
   "codemirror_mode": {
    "name": "ipython",
    "version": 3
   },
   "file_extension": ".py",
   "mimetype": "text/x-python",
   "name": "python",
   "nbconvert_exporter": "python",
   "pygments_lexer": "ipython3",
   "version": "3.12.4"
  }
 },
 "nbformat": 4,
 "nbformat_minor": 5
}
